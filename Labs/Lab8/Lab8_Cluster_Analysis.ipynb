{
 "cells": [
  {
   "cell_type": "markdown",
   "id": "c85faa30",
   "metadata": {},
   "source": [
    "# Lab 8: Cluster Analysis\n",
    "\n",
    "In this lab, you will utilize a 24-hour measurement of spatial accessibility in case the time-variant data was incorporated into the measurement. We name the spatial accessibility measurement investigated in the previous labs as **static measurement** and the 24-hour changes of spatial accessibility as **dynamic measurement**. \n",
    "\n",
    "<img src=\"./data/dyn_acc.jpg\" style=\"width: 900px;\"/>\n",
    "\n",
    "The procedure of this lab. <br>\n",
    "First, we employ **Pearson's correlation** coefficient to explore at which hour the static measurement fails to reflect the 24-hour dynamic measurement (i.e., when the correlation coefficient is low). <br>\n",
    "Second, we want to temporally cluster the 24-hour variation based on their distribution characteristics (i.e., median and median absolute deviation). Here, we implement **K-means clustering** to overcome the verbose of 24-hour measurement. <br>\n",
    "\n",
    "Data source: https://www.tandfonline.com/doi/full/10.1080/13658816.2021.1978450\n",
    "\n",
    "### Notes:\n",
    "**Before you submit your lab, make sure everything runs as expected WITHOUT ANY ERROR.** <br>\n",
    "**Make sure you fill in any place that says `YOUR CODE HERE` or `YOUR ANSWER HERE`:**"
   ]
  },
  {
   "cell_type": "code",
   "execution_count": null,
   "id": "68bebe52",
   "metadata": {},
   "outputs": [],
   "source": [
    "FULL_NAME = \"\""
   ]
  },
  {
   "cell_type": "code",
   "execution_count": null,
   "id": "8f2b4cac",
   "metadata": {},
   "outputs": [],
   "source": [
    "# Import necessary packages\n",
    "import geopandas as gpd\n",
    "import pandas as pd\n",
    "from scipy.stats import pearsonr\n",
    "import matplotlib.pyplot as plt\n",
    "from sklearn.metrics import silhouette_score\n",
    "from sklearn.cluster import KMeans, AgglomerativeClustering\n",
    "from scipy.cluster import hierarchy\n",
    "import numpy as np\n",
    "import mapclassify\n",
    "from matplotlib.colors import LinearSegmentedColormap"
   ]
  },
  {
   "cell_type": "markdown",
   "id": "688d698a",
   "metadata": {},
   "source": [
    "## 1. (0.5 point) Import Data\n",
    "\n",
    "In this lab, you will be using the following two datasets. `dyn_acc` variable is the dynamic measurement, which represents spatial accessibility to EV charging stations every hour, and `static_acc` variable is the static measurement that doesn't consider the temporal changes of spatial accessibility to EV charging stations. \n",
    "\n",
    "**1.1.** Load `dynamic_access.shp` in the data folder as the name of `dyn_acc` with GeoPandas.<br>\n",
    "**1.2.** Load `static_access.shp` in the data folder as the name of `static_acc` with GeoPandas.<br>"
   ]
  },
  {
   "cell_type": "code",
   "execution_count": null,
   "id": "ac6f69ca",
   "metadata": {},
   "outputs": [],
   "source": [
    "# Your code here\n",
    "dyn_acc = gpd.read_file('./data/dynamic_access.shp')\n",
    "static_acc = gpd.read_file('./data/static_access.shp')"
   ]
  },
  {
   "cell_type": "markdown",
   "id": "ee3d1f43",
   "metadata": {},
   "source": [
    "Use the following two cells and investigate the structure of the GeoDataFrames."
   ]
  },
  {
   "cell_type": "code",
   "execution_count": null,
   "id": "ad7d5a6e",
   "metadata": {
    "scrolled": true
   },
   "outputs": [],
   "source": [
    "dyn_acc.head(3)"
   ]
  },
  {
   "cell_type": "code",
   "execution_count": null,
   "id": "813d2200",
   "metadata": {},
   "outputs": [],
   "source": [
    "static_acc.head(3)"
   ]
  },
  {
   "cell_type": "markdown",
   "id": "4b355b7a",
   "metadata": {},
   "source": [
    "## 2. (1 point) Pearson's correlation coefficient\n",
    "\n",
    "Use Pearson's correlation coefficient (i.e., `pearsonr()` function) and investigate the correlation between the measure of accessibility at each hour and the static accessibility. If the correlation coefficient is **high and closed to 1**, it proves the static accessibility measurement and the dynamic accessibility at the specific hour is **similar**. This means that the static measurement can be used to estimate the accessibility at a certain hour. <br>\n",
    "**However**, if the correlation coefficient is **low**, this means that the conventional static measurement **fails to estimate** the accessibility at a certain hour. \n",
    "\n",
    "**2.1.** Create a for loop that iterates through the hours from `0` to `23`. <br>\n",
    "**2.2.** Calculate the correlation coefficient of each hour in `dyn_acc` and the static measurement in `static_acc`. <br>\n",
    "**2.3.** If the correlation coefficient is statistically significant, append the resulted correlation coefficient to the list `corr_list`. If not, append `0` to the list `corr_list`. <br>\n",
    "**2.4.** The populated `corr_list` will have the list of correlation coefficients with the order of hours from 0 to 23. "
   ]
  },
  {
   "cell_type": "code",
   "execution_count": null,
   "id": "70dc98c3",
   "metadata": {},
   "outputs": [],
   "source": [
    "# Your code here\n",
    "corr_list = []\n",
    "\n",
    "\n",
    "    \n",
    "corr_list"
   ]
  },
  {
   "cell_type": "code",
   "execution_count": null,
   "id": "8d5b75f2",
   "metadata": {
    "scrolled": true
   },
   "outputs": [],
   "source": [
    "\"\"\" Test code for the previous code. This cell should NOT give any errors when it is run.\"\"\"\n",
    "\n",
    "assert round(corr_list[0], 3) == 0.934\n",
    "assert round(corr_list[6], 3) == 0.981\n",
    "assert round(corr_list[12], 3) == 0.64\n",
    "assert round(corr_list[18], 3) == 0.369\n",
    "assert round(corr_list[21], 3) == 0.727\n",
    "\n",
    "print('Success!')"
   ]
  },
  {
   "cell_type": "markdown",
   "id": "d6abbf07",
   "metadata": {},
   "source": [
    "**2.5.** Create a line graph that has 24 hours as the x-axis and correlation coefficient as the y-axis. <br>\n",
    "**2.6.** Use a `print()` function and print the hour of the lowest correlation coefficient and its correlation coefficient. "
   ]
  },
  {
   "cell_type": "code",
   "execution_count": null,
   "id": "35585751",
   "metadata": {},
   "outputs": [],
   "source": [
    "# Your code here\n",
    "\n"
   ]
  },
  {
   "cell_type": "markdown",
   "id": "5dfbb2ff",
   "metadata": {},
   "source": [
    "## 3. (2.5 points) K-Means clustering for temporal clustering\n",
    "\n",
    "We now know that the temporal changes embedded in 24-hour spatial accessibility measurement are pretty significant. Therefore, we want to temporally cluster the hourly measurement into a few temporal groups so that we can see their distinctive temporal changes. \n",
    "<br>\n",
    "\n",
    "BEFORE CLUSTERING | AFTER CLUSTERING\n",
    ":-: | :-:\n",
    "![alt](./data/scatter_before_cluster.png) | ![alt](./data/scatter_after_cluster.png)\n",
    "\n",
    "### 3.1. (1 point) Place the accessibility of each hour into a two-dimensional plane\n",
    "\n",
    "First, we need to place the accessibility of each hour into a two-dimensional plane based on their representative value, median, and median absolute deviation. <br>\n",
    "\n",
    "**3.1.1.** Create a `for-loop` that iterates through the hours from `0` to `23`. <br>\n",
    "**3.1.2.** Calculate the median of accessibility at each hour with <a href=https://pandas.pydata.org/docs/reference/api/pandas.DataFrame.median.html>`pandas.DataFrame.median()`</a> function, and append the result to `median_acc` list. <br>\n",
    "**3.1.3.** Calculate the median absolute deviation of accessibility at each hour with <a href=https://pandas.pydata.org/docs/reference/api/pandas.DataFrame.mad.html>`pandas.DataFrame.mad()`</a> function and append the result to `mad_acc` list. <br>"
   ]
  },
  {
   "cell_type": "code",
   "execution_count": null,
   "id": "66825fa5",
   "metadata": {},
   "outputs": [],
   "source": [
    "median_acc = []  # Median accessibility of each hour\n",
    "mad_acc = []  # Median absolute deviation of the accessibility each hour\n",
    "\n",
    "# Your code here\n",
    "\n",
    "\n"
   ]
  },
  {
   "cell_type": "markdown",
   "id": "6d4e729d",
   "metadata": {},
   "source": [
    "Now, we will incorporate the two lists into a DataFrame `summary_df`. \n",
    "\n",
    "**3.1.4.** Create a column `hours` in the `summary_df` DataFrame. <br>\n",
    "**3.1.5.** Create a column `median` in the `summary_df` DataFrame, and populate the column with `median_acc` list. <br>\n",
    "**3.1.6.** Create a column `mad` in the `summary_df` DataFrame, and populate the column with `mad_acc` list. <br>\n",
    "\n",
    "The following is the expected result of the `summary_df` DataFrame. \n",
    "\n",
    "<img src=\"./data/summary_df.jpg\" style=\"width: 200px;\"/>"
   ]
  },
  {
   "cell_type": "code",
   "execution_count": null,
   "id": "6460ec72",
   "metadata": {},
   "outputs": [],
   "source": [
    "summary_df = pd.DataFrame()\n",
    "\n",
    "# Your code here\n",
    "\n"
   ]
  },
  {
   "cell_type": "code",
   "execution_count": null,
   "id": "9118b251",
   "metadata": {},
   "outputs": [],
   "source": [
    "\"\"\" Test code for the previous code. This cell should NOT give any errors when it is run.\"\"\"\n",
    "\n",
    "assert ('hours' in summary_df.columns) & ('median' in summary_df.columns) & ('mad' in summary_df.columns)\n",
    "assert summary_df.at[7, 'median'].round(4) == 3.3287\n",
    "assert summary_df.at[7, 'mad'].round(4) == 1.5143\n",
    "assert summary_df.at[19, 'mad'].round(4) == 2.4524\n",
    "assert summary_df.at[19, 'median'].round(4) == 3.3014\n",
    "\n",
    "print('Success!')"
   ]
  },
  {
   "cell_type": "code",
   "execution_count": null,
   "id": "d13043cc",
   "metadata": {},
   "outputs": [],
   "source": [
    "\"\"\" Check your answer here. This cell should show a figure that looks the same as `BEFORE CLUSTERING` above.\"\"\"\n",
    "\n",
    "fig, ax = plt.subplots(figsize=(7, 7))\n",
    "\n",
    "# Place the accessibility measures of each hour on a two-dimensional plane \n",
    "ax.scatter(summary_df['median'], summary_df['mad'], s = 50)\n",
    "\n",
    "# Create label of axis\n",
    "ax.set_ylabel(f'Median Absolute Deviation (MAD) \\n of Accessibility', rotation='vertical', fontsize=15)\n",
    "ax.set_xlabel('Median of Accessibility ', fontsize=15)\n",
    "\n",
    "# Annotate the representative value of each hour accessibility measurement\n",
    "for t in range(24):\n",
    "    ax.annotate(text=f'{t}',\n",
    "                xy=(summary_df.loc[summary_df['hours'] == t, 'median'], \n",
    "                    summary_df.loc[summary_df['hours'] == t, 'mad']\n",
    "                   ),\n",
    "                textcoords = 'offset points',\n",
    "                xytext=(0, 14),\n",
    "                ha='center',\n",
    "                size=18\n",
    "               )\n",
    "plt.show()\n"
   ]
  },
  {
   "cell_type": "markdown",
   "id": "fdb2ddb3",
   "metadata": {},
   "source": [
    "### 3.2. (0.5 point) K-Means: Allocate observations into three clusters\n",
    "\n",
    "You are about to group the hours in `summary_df` into **three clusters** based on the `median` and `mad` of accessibility at each hour. \n",
    "\n",
    "**3.2.1.** Initiate K-Means clustering process with <a href=https://scikit-learn.org/stable/modules/generated/sklearn.cluster.KMeans.html>`KMeans()`</a> function. Use the number `3` as the number of clusters (`n_clusters`) and assign the result as variable `kmeans_result`. <br>\n",
    "**3.2.2.** Call <a href=https://scikit-learn.org/stable/modules/generated/sklearn.cluster.KMeans.html#sklearn.cluster.KMeans.fit>`fit()`</a> function of the KMeans instance `kmeans_result`. Feed the function with `median` and `mad` columns in `summary_df`. <br>\n",
    "**3.2.3.** Investigate the clustering result in `.labels_` attribute of the KMeans instance `kmeans_result`. Assign the clustering result as `cluster` column of `summary_df`. <br>\n",
    "**3.2.4.** Assign the color of each clutsr as `color` column in `summary_df` DataFrame, based on `colors` list below.<br>\n",
    "```python\n",
    "\n",
    "colors = ['#a6cee3','#1f78b4','#b2df8a','#33a02c','#fb9a99','#e31a1c','#fdbf6f','#ff7f00','#cab2d6']\n",
    "\n",
    "```\n",
    "**Note** Given that the K-means is simulation-based, the cluster label will be different for each try. But, the set of observations associated with a certain label will remain the same. <br>\n",
    "\n",
    "The expected result of this task looks like the below.\n",
    "<img src=\"./data/k_means_3.jpg\" style=\"width: 300px;\"/>\n",
    "\n"
   ]
  },
  {
   "cell_type": "code",
   "execution_count": null,
   "id": "d27878ff",
   "metadata": {
    "scrolled": false
   },
   "outputs": [],
   "source": [
    "# Your code here\n",
    "# Initiate KMeans instance\n",
    "\n",
    "\n",
    "# Feed the observation into the KMeans instance and conduct clustering\n",
    "\n",
    "\n",
    "# Assign the clustering result back to `summary_df` DataFrame. \n",
    "\n",
    "\n",
    "# Assign the color based on the clustering result\n",
    "colors = ['#a6cee3','#1f78b4','#b2df8a','#33a02c','#fb9a99','#e31a1c','#fdbf6f','#ff7f00','#cab2d6']\n",
    "\n",
    "\n",
    "summary_df.head()"
   ]
  },
  {
   "cell_type": "code",
   "execution_count": null,
   "id": "3ac1d47b",
   "metadata": {},
   "outputs": [],
   "source": [
    "\"\"\" Test code for the previous code. This cell should NOT give any errors when it is run.\"\"\"\n",
    "\n",
    "assert len(summary_df['cluster'].unique()) == 3\n",
    "assert summary_df.loc[summary_df['hours'] == 18, 'cluster'].values[0] == summary_df.loc[summary_df['hours'] == 19, 'cluster'].values[0]\n",
    "assert summary_df.loc[summary_df['hours'] == 17, 'cluster'].values[0] == summary_df.loc[summary_df['hours'] == 20, 'cluster'].values[0]\n",
    "\n",
    "print('Success!')"
   ]
  },
  {
   "cell_type": "code",
   "execution_count": null,
   "id": "4bad6b6c",
   "metadata": {},
   "outputs": [],
   "source": [
    "\"\"\" Check your answer here. This cell should show three clusters.\"\"\"\n",
    "fig, ax = plt.subplots(figsize=(7, 7))\n",
    "\n",
    "# Place the accessibility measures of each hour on a two-dimensional plane \n",
    "ax.scatter(summary_df['median'], summary_df['mad'], s = 50, c=summary_df['color'])\n",
    "\n",
    "# Place the center of each cluster\n",
    "ax.scatter(kmeans_result.cluster_centers_.transpose()[0], \n",
    "           kmeans_result.cluster_centers_.transpose()[1], \n",
    "           color=colors[0: len(kmeans_result.cluster_centers_)], \n",
    "           s=500,\n",
    "           marker='*',\n",
    "           edgecolors='black'\n",
    "          )\n",
    "\n",
    "# Create label of axis\n",
    "ax.set_ylabel(f'Median Absolute Deviation (MAD) \\n of Accessibility', rotation='vertical', fontsize=15)\n",
    "ax.set_xlabel('Median of Accessibility ', fontsize=15)\n",
    "\n",
    "# Annotate the representative value of each hour accessibility measurement\n",
    "for t in range(24):\n",
    "    ax.annotate(text=f'{t}',\n",
    "                xy=(summary_df.loc[summary_df['hours'] == t, 'median'], \n",
    "                    summary_df.loc[summary_df['hours'] == t, 'mad']\n",
    "                   ),\n",
    "                textcoords = 'offset points',\n",
    "                xytext=(0, 14),\n",
    "                ha='center',\n",
    "                size=15\n",
    "               )\n"
   ]
  },
  {
   "cell_type": "markdown",
   "id": "5db17571",
   "metadata": {},
   "source": [
    "### 3.3. (0.5 point) Find the optimal number of clusters with the Silhouette method\n",
    "\n",
    "The quality of clustering is indicated by the number of clusters (i.e. K) as a direct correlation. Therefore, we need to find the optimal number of clusters. The following function `determine_number_of_cluster` can take DataFrame or Array as inputs and will provide the Silhouette scores based on the current partitioning with the cluster number `i`. \n",
    "```python\n",
    "def determine_number_of_cluster(array):\n",
    "    km_silhouette = []\n",
    "\n",
    "    # The number of clusters \n",
    "    for i in range(2, 11):\n",
    "        KM = KMeans(n_clusters=i, max_iter=999)  # Initiate KMeans instance\n",
    "        KM.fit(array)  # Feed the observation into the KMeans instance and conduct clustering\n",
    "        cluster_results = KM.labels_  # Clustering results\n",
    "        silhouette = silhouette_score(array, cluster_results) # Calculate Silhouette Scores\n",
    "        km_silhouette.append(silhouette)\n",
    "\n",
    "    return km_silhouette\n",
    "```\n",
    "\n",
    "\n",
    "**3.3.1.** Feed `determine_number_of_cluster()` with `median` and `mad` columns in `summary_df`. Save the result as `k_means_silhouette`. <br>\n",
    "**3.3.2.** Create a line graph that has the number of clusters as the x-axis and silhouette score as the y-axis.<br>\n",
    "**3.3.3.** Use a `print()` function and print the number of cluster that provides the highest silhouette score, which indicates the optimal number of clusters. \n",
    "\n",
    "**Note**: Silhouette scores are only available from cluster count **2** and more. "
   ]
  },
  {
   "cell_type": "code",
   "execution_count": null,
   "id": "b71e8f89",
   "metadata": {},
   "outputs": [],
   "source": [
    "def determine_number_of_cluster(array):\n",
    "    km_silhouette = []\n",
    "\n",
    "    # The number of clusters \n",
    "    for i in range(2, 11):\n",
    "        KM = KMeans(n_clusters=i, max_iter=999)  # Initiate KMeans instance\n",
    "        KM.fit(array)  # Feed the observation into the KMeans instance and conduct clustering\n",
    "        cluster_results = KM.labels_  # Clustering results\n",
    "        silhouette = silhouette_score(array, cluster_results) # Calculate Silhouette Scores\n",
    "        km_silhouette.append(silhouette)\n",
    "\n",
    "    return km_silhouette"
   ]
  },
  {
   "cell_type": "code",
   "execution_count": null,
   "id": "8131a892",
   "metadata": {
    "scrolled": false
   },
   "outputs": [],
   "source": [
    "# Your code here\n",
    "\n"
   ]
  },
  {
   "cell_type": "code",
   "execution_count": null,
   "id": "0bc962f4",
   "metadata": {
    "scrolled": true
   },
   "outputs": [],
   "source": [
    "\"\"\" Test code for the previous code. This cell should NOT give any errors when it is run.\"\"\"\n",
    "\n",
    "assert round(k_means_silhouette[0], 3) == 0.569\n",
    "assert round(k_means_silhouette[2], 3) == 0.613\n",
    "assert round(k_means_silhouette[7], 3) == 0.542\n",
    "\n",
    "print('Success!')"
   ]
  },
  {
   "cell_type": "markdown",
   "id": "49df837a",
   "metadata": {},
   "source": [
    "### 3.4. (0.5 point) Update K-means clustering result with the optimal number of clusters\n",
    "\n",
    "Now we know that `4` clusters are optimal for our temporal clustering implementation. Update `cluster` and `color` column of `summary_df` based on the number of clusters 4. \n",
    "\n",
    "**3.4.1.** (0.2 point) Initiate K-Means clustering process with <a href=https://scikit-learn.org/stable/modules/generated/sklearn.cluster.KMeans.html>`KMeans()`</a> function. Use the number `4` as the number of clusters (`n_clusters`) and assign the result as variable `kmeans_optimal`. <br>\n",
    "**3.4.2.** Call <a href=https://scikit-learn.org/stable/modules/generated/sklearn.cluster.KMeans.html#sklearn.cluster.KMeans.fit>`fit()`</a> function of the KMeans instance `kmeans_optimal`. Feed the function with `median` and `mad` columns in `summary_df`. <br>\n",
    "**3.4.3.** Investigate the clustering result in `.labels_` attribute of the KMeans instance `kmeans_optimal`. Assign the clustering result as `cluster` column of `summary_df`. <br>\n",
    "**3.4.4.** Assign the color of each clutsr as `color` column in `summary_df` DataFrame, based on `colors` list below.<br>\n",
    "```python\n",
    "\n",
    "colors = ['#a6cee3','#1f78b4','#b2df8a','#33a02c','#fb9a99','#e31a1c','#fdbf6f','#ff7f00','#cab2d6']\n",
    "\n",
    "```\n",
    "The expected result of this task looks like the below (Contents of the DataFrame below may be different from your implementation).\n",
    "<img src=\"./data/k_means_3.jpg\" style=\"width: 300px;\"/>"
   ]
  },
  {
   "cell_type": "code",
   "execution_count": null,
   "id": "a8cb5339",
   "metadata": {},
   "outputs": [],
   "source": [
    "# Your code here\n",
    "# Initiate KMeans instance\n",
    "\n",
    "\n",
    "# Feed the observation into the KMeans instance and conduct clustering\n",
    "\n",
    "\n",
    "# Assign the clustering result back to `summary_df` DataFrame. \n",
    "\n",
    "\n",
    "# Assign the color based on the clustering result\n",
    "colors = ['#a6cee3','#1f78b4','#b2df8a','#33a02c','#fb9a99','#e31a1c','#fdbf6f','#ff7f00','#cab2d6']\n",
    "\n",
    "\n",
    "summary_df"
   ]
  },
  {
   "cell_type": "code",
   "execution_count": null,
   "id": "7cd48e6b",
   "metadata": {},
   "outputs": [],
   "source": [
    "\"\"\" Test code for the previous code. This cell should NOT give any errors when it is run.\"\"\"\n",
    "\n",
    "assert len(summary_df['cluster'].unique()) == 4\n",
    "assert summary_df.loc[summary_df['hours'] == 18, 'cluster'].values[0] == summary_df.loc[summary_df['hours'] == 19, 'cluster'].values[0]\n",
    "assert summary_df.loc[summary_df['hours'] == 17, 'cluster'].values[0] != summary_df.loc[summary_df['hours'] == 20, 'cluster'].values[0]\n",
    "\n",
    "print('Success!')"
   ]
  },
  {
   "cell_type": "code",
   "execution_count": null,
   "id": "cddfa098",
   "metadata": {},
   "outputs": [],
   "source": [
    "\"\"\" Check your answer here. This cell should show four clusters.\"\"\"\n",
    "\n",
    "fig, ax = plt.subplots(figsize=(7, 7))\n",
    "\n",
    "ax.scatter(summary_df['median'], summary_df['mad'], s = 50, c=summary_df['color'])\n",
    "\n",
    "ax.scatter(kmeans_result.cluster_centers_.transpose()[0], \n",
    "           kmeans_result.cluster_centers_.transpose()[1], \n",
    "           color=colors[0: len(kmeans_result.cluster_centers_)], \n",
    "           s=500,\n",
    "           marker='*',\n",
    "           edgecolors='black'\n",
    "          )\n",
    "\n",
    "ax.set_ylabel(f'Median Absolute Deviation (MAD) \\n of Accessibility', rotation='vertical', fontsize=15)\n",
    "ax.set_xlabel('Median of Accessibility ', fontsize=15)\n",
    "\n",
    "\n",
    "for t in range(24):\n",
    "    ax.annotate(text=f'{t}',\n",
    "                xy=(summary_df.loc[summary_df['hours'] == t, 'median'], \n",
    "                    summary_df.loc[summary_df['hours'] == t, 'mad']\n",
    "                   ),\n",
    "                textcoords = 'offset points',\n",
    "                xytext=(0, 14),\n",
    "                ha='center',\n",
    "                size=18\n",
    "               )\n",
    "\n",
    "plt.show()"
   ]
  },
  {
   "cell_type": "markdown",
   "id": "fa6df954",
   "metadata": {},
   "source": [
    "## 4. (1 point) Temporally clustered 24-hour spatial accessibility\n",
    "\n",
    "As we know which hour is associated with which temporal cluster, we now move on to make maps of temporally clustered accessibility.\n",
    "\n",
    "**4.1.** Find which hour is associated with a certain cluster, based on the `cluster` and `hours` columns of `summary_df` DataFrame. <br>\n",
    "**4.2.** Calculate the average of accessibility based on the hours associated with each temporal cluster. For example, suppose cluster 0 has the hours 0, 1, and 2. You will calculate the average of the accessibility measured at hours 0, 1, and 2 for every location. <br> \n",
    "**4.3.** Enter the averaged measures of spatial accessibility to `dyn_acc_plot` GeoDataFrame, which is a copy of `dyn_acc` GeoDataFrame and only has `geometry` column. The averaged measures will have its name as `kmeans_c0`, `kmeans_c1`, `kmeans_c2`, and `kmeans_c3`. Again, the order of the number can be different. <br>\n",
    "\n",
    "The final product should look like the below. \n",
    "\n",
    "<img src=\"./data/cluster_gdf.jpg\" style=\"width: 700px;\"/>"
   ]
  },
  {
   "cell_type": "code",
   "execution_count": null,
   "id": "5dbbc7cf",
   "metadata": {},
   "outputs": [],
   "source": [
    "# Your code here\n",
    "dyn_acc_plot = dyn_acc[['geometry']].copy()\n",
    "\n",
    "    \n",
    "dyn_acc_plot"
   ]
  },
  {
   "cell_type": "code",
   "execution_count": null,
   "id": "5a7c4999",
   "metadata": {},
   "outputs": [],
   "source": [
    "\"\"\" \n",
    "Check your answer here. This cell will demonstrate how the temporally clustered accessibility look like. \n",
    "If there are four maps with the name of K-means: C0, C1, C2, and C3, and \n",
    "each map has different distribution of accessibility, You are good to go.  \n",
    "\"\"\"\n",
    "\n",
    "color_map = ['#f7f7f7', '#d9d9d9', '#bdbdbd', '#969696', '#636363', '#252525']\n",
    "cm = LinearSegmentedColormap.from_list('cb_', color_map, N=5)\n",
    "\n",
    "map_class = mapclassify.FisherJenks(dyn_acc[[f'hour_{t}' for t in range(24)]], k=5)\n",
    "\n",
    "fig, axes = plt.subplots(1, 4, figsize=(20, 8))\n",
    "\n",
    "for idx, ax in enumerate(axes):\n",
    "    dyn_acc_plot.plot(f'kmeans_c{idx}', \n",
    "                      scheme='user_defined', # To use different (not predefined) bins, we need to call it as 'user_defined'\n",
    "                      classification_kwds={'bins':map_class.bins}, # then speicfy class here. \n",
    "                      cmap=cm,\n",
    "                      ax=ax\n",
    "                     )\n",
    "    ax.set_title(f'K-Means: C{idx}', size=20)\n",
    "    \n",
    "    gpd.GeoSeries(dyn_acc_plot.unary_union, crs='EPSG:4326').boundary.plot(color='black', ax=ax, linewidth=0.5)\n",
    "    ax.get_xaxis().set_visible(False)\n",
    "    ax.get_yaxis().set_visible(False)\n",
    "    \n",
    "plt.show()"
   ]
  },
  {
   "cell_type": "markdown",
   "id": "1bc1207c",
   "metadata": {},
   "source": [
    "### *You have finished Lab 8: Cluster Analysis*\n",
    "\n",
    "Please name your jupyter notebook as `GEOG489_Lab8_[YOUR_NET_ID].ipynb`, and upload it to https://learn.illinois.edu."
   ]
  }
 ],
 "metadata": {
  "kernelspec": {
   "display_name": "Python 3 (ipykernel)",
   "language": "python",
   "name": "python3"
  },
  "language_info": {
   "codemirror_mode": {
    "name": "ipython",
    "version": 3
   },
   "file_extension": ".py",
   "mimetype": "text/x-python",
   "name": "python",
   "nbconvert_exporter": "python",
   "pygments_lexer": "ipython3",
   "version": "3.8.13"
  }
 },
 "nbformat": 4,
 "nbformat_minor": 5
}
