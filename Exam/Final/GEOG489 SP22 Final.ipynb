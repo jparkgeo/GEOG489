{
 "cells": [
  {
   "cell_type": "markdown",
   "id": "092d9f92",
   "metadata": {},
   "source": [
    "# GEOG489 SP22 Final\n",
    "\n",
    "## Instruction\n",
    "Your final exam consists of three major parts. <br>\n",
    "**First**, you will prepare supply, demand, and mobility data for measuring spatial accessibility to healthcare resources in Champaign County. <br>\n",
    "**Second**, you will measure spatial accessibility considering distance decay. <br>\n",
    "**Third**, you will calculate spatial autocorrelation based on the accessibility measures.\n",
    "<br><br>\n",
    "**When you finish the tasks, please save/download your Jupyter notebook and submit it to learn.illinois.edu.**"
   ]
  },
  {
   "cell_type": "code",
   "execution_count": null,
   "id": "83b02c0d",
   "metadata": {},
   "outputs": [],
   "source": [
    "import geopandas as gpd\n",
    "import pandas as pd\n",
    "import osmnx as ox\n",
    "import networkx as nx\n",
    "import matplotlib.pyplot as plt\n",
    "import esda\n",
    "import libpysal"
   ]
  },
  {
   "cell_type": "markdown",
   "id": "48f0f0aa",
   "metadata": {},
   "source": [
    "# 1. Data preprocessing (3 points)\n",
    "## 1.1. Supply (1 point)\n",
    "* Load `healthcare.shp` in the data folder and name it as `supply`. \n",
    "* Create a column named `weight` and assign weights based on `TYPE` of healthcare (10 for `Hospital` and 5 for `Urgent Care`). \n",
    "* Change the coordinate system of the dataframe to State Plane Coordinate System - Illinois East (NAD83) (epsg:26971).\n",
    "<br><br>\n",
    "\n",
    "**Note**: The below is the expected result. \n",
    "<img src=\"./images/supply.jpg\" width=\"60%\"/>"
   ]
  },
  {
   "cell_type": "code",
   "execution_count": null,
   "id": "592394b4",
   "metadata": {},
   "outputs": [],
   "source": [
    "# Your code here\n",
    "\n"
   ]
  },
  {
   "cell_type": "markdown",
   "id": "1762b96c",
   "metadata": {},
   "source": [
    "## 1.2. Demand (1 point)\n",
    "* With `census_block_groups.shp` and `pop_census.csv` in the data folder, create a GeoDataFrame named `demand` by merging them based on a column that shares information between them.\n",
    "* Drop the `GEO_ID` column after the merge. \n",
    "* Change the coordinate system of the dataframe to State Plane Coordinate System - Illinois East (NAD83) (epsg:26971).\n",
    "<br><br>\n",
    "\n",
    "**Note**: The below is the expected result. \n",
    "<img src=\"./images/demand.jpg\" width=\"40%\"/>"
   ]
  },
  {
   "cell_type": "code",
   "execution_count": null,
   "id": "7e8484cc",
   "metadata": {},
   "outputs": [],
   "source": [
    "# Your code here\n",
    "\n"
   ]
  },
  {
   "cell_type": "markdown",
   "id": "0c77cf74",
   "metadata": {},
   "source": [
    "## 1.3. Mobility (1 point)\n",
    "\n",
    "* Utilize `OSMnx` package to obtain road network for `Champaign County` and assign the result to a variable `G`.\n",
    "* Project the road network to State Plane Coordinate System - Illinois East (NAD83) (epsg:26971).\n",
    "* Utilize the `remove_uncenessary_nodes` function below, and remove unnecessary nodes from the imported road network. \n",
    "```python\n",
    "def remove_uncenessary_nodes(network):\n",
    "    _nodes_removed = len([n for (n, deg) in network.out_degree() if deg == 0])\n",
    "    network.remove_nodes_from([n for (n, deg) in network.out_degree() if deg == 0])\n",
    "    for component in list(nx.strongly_connected_components(network)):\n",
    "        if len(component) < 30:\n",
    "            for node in component:\n",
    "                _nodes_removed += 1\n",
    "                network.remove_node(node)\n",
    "\n",
    "    print(\"Removed {} nodes ({:2.4f}%) from the OSMNX network\".format(_nodes_removed, _nodes_removed / float(network.number_of_nodes())))\n",
    "    print(\"Number of nodes: {}\".format(network.number_of_nodes()))\n",
    "    print(\"Number of edges: {}\".format(network.number_of_edges()))\n",
    "\n",
    "    return network\n",
    "```"
   ]
  },
  {
   "cell_type": "code",
   "execution_count": null,
   "id": "e4720f04",
   "metadata": {},
   "outputs": [],
   "source": [
    "def remove_uncenessary_nodes(network):\n",
    "    _nodes_removed = len([n for (n, deg) in network.out_degree() if deg == 0])\n",
    "    network.remove_nodes_from([n for (n, deg) in network.out_degree() if deg == 0])\n",
    "    for component in list(nx.strongly_connected_components(network)):\n",
    "        if len(component) < 30:\n",
    "            for node in component:\n",
    "                _nodes_removed += 1\n",
    "                network.remove_node(node)\n",
    "\n",
    "    print(\"Removed {} nodes ({:2.4f}%) from the OSMNX network\".format(_nodes_removed, _nodes_removed / float(network.number_of_nodes())))\n",
    "    print(\"Number of nodes: {}\".format(network.number_of_nodes()))\n",
    "    print(\"Number of edges: {}\".format(network.number_of_edges()))\n",
    "\n",
    "    return network\n",
    "\n",
    "# Your code here\n",
    "\n",
    "\n"
   ]
  },
  {
   "cell_type": "markdown",
   "id": "917fe7ac",
   "metadata": {},
   "source": [
    "# 2. Measuring accessibility to healthcare resources (5 points)\n",
    "\n",
    "## 2.1. Find the nearest OSM node from `supply` and `demand`. (1 point)\n",
    "\n",
    "* Use the following `find_nearest_osm` function to search the nearest OSM node from `supply` and `demand` GeoDataFrame, respectively.\n",
    "```python\n",
    "def find_nearest_osm(network, gdf):\n",
    "    \"\"\"\n",
    "    # This function helps you to find the nearest OSM node from a given GeoDataFrame\n",
    "    # If geom type is point, it will take it without modification, but \n",
    "    # IF geom type is polygon or multipolygon, it will take its centroid to calculate the nearest element. \n",
    "    \n",
    "    Input: \n",
    "    - network (NetworkX MultiDiGraph): Network Dataset obtained from OSMnx\n",
    "    - gdf (GeoDataFrame): stores locations in its `geometry` column \n",
    "    \n",
    "    Output:\n",
    "    - gdf (GeoDataFrame): will have `nearest_osm` column, which describes the nearest OSM node \n",
    "                          that was computed based on its geometry column\n",
    "      \n",
    "    \"\"\"\n",
    "    for idx, row in gdf.iterrows():\n",
    "        if row.geometry.geom_type == 'Point':\n",
    "            nearest_osm = ox.distance.nearest_nodes(network, \n",
    "                                                    X=row.geometry.x, \n",
    "                                                    Y=row.geometry.y\n",
    "                                                   )\n",
    "        elif row.geometry.geom_type == 'Polygon' or row.geometry.geom_type == 'MultiPolygon':\n",
    "            nearest_osm = ox.distance.nearest_nodes(network, \n",
    "                                        X=row.geometry.centroid.x, \n",
    "                                        Y=row.geometry.centroid.y\n",
    "                                       )\n",
    "        else:\n",
    "            print(row.geometry.geom_type)\n",
    "            continue\n",
    "\n",
    "        gdf.at[idx, 'nearest_osm'] = nearest_osm\n",
    "\n",
    "    return gdf\n",
    "```"
   ]
  },
  {
   "cell_type": "code",
   "execution_count": null,
   "id": "6a322a99",
   "metadata": {},
   "outputs": [],
   "source": [
    "# Your code here\n",
    "\n",
    "def find_nearest_osm(network, gdf):\n",
    "    \"\"\"\n",
    "    # This function helps you to find the nearest OSM node from a given GeoDataFrame\n",
    "    # If geom type is point, it will take it without modification, but \n",
    "    # IF geom type is polygon or multipolygon, it will take its centroid to calculate the nearest element. \n",
    "    \n",
    "    Input: \n",
    "    - network (NetworkX MultiDiGraph): Network Dataset obtained from OSMnx\n",
    "    - gdf (GeoDataFrame): stores locations in its `geometry` column \n",
    "    \n",
    "    Output:\n",
    "    - gdf (GeoDataFrame): will have `nearest_osm` column, which describes the nearest OSM node \n",
    "                          that was computed based on its geometry column\n",
    "      \n",
    "    \"\"\"\n",
    "    for idx, row in gdf.iterrows():\n",
    "        if row.geometry.geom_type == 'Point':\n",
    "            nearest_osm = ox.distance.nearest_nodes(network, \n",
    "                                                    X=row.geometry.x, \n",
    "                                                    Y=row.geometry.y\n",
    "                                                   )\n",
    "        elif row.geometry.geom_type == 'Polygon' or row.geometry.geom_type == 'MultiPolygon':\n",
    "            nearest_osm = ox.distance.nearest_nodes(network, \n",
    "                                        X=row.geometry.centroid.x, \n",
    "                                        Y=row.geometry.centroid.y\n",
    "                                       )\n",
    "        else:\n",
    "            print(row.geometry.geom_type)\n",
    "            continue\n",
    "\n",
    "        gdf.at[idx, 'nearest_osm'] = nearest_osm\n",
    "\n",
    "    return gdf\n",
    "\n"
   ]
  },
  {
   "cell_type": "markdown",
   "id": "0c4c6820",
   "metadata": {},
   "source": [
    "## 2.2. Calculate estimated travel time for edges in the road network (1 points)\n",
    "\n",
    "* Investigate the road network `G` and compute the `time` column in `G`. This will include the subtasks below. \n",
    "* If `maxspeed` exists in each row, maintain the current value. \n",
    "* If `maxspeed` is missing, assign `maxspeed` value of each row based on `max_speed_per_type` dictionary below.\n",
    "```python\n",
    "max_speed_per_type = {'motorway': 60, \n",
    "                      'motorway_link': 45, \n",
    "                      'trunk': 60,\n",
    "                      'trunk_link': 45, \n",
    "                      'primary': 50,\n",
    "                      'primary_link': 35, \n",
    "                      'secondary': 40,\n",
    "                      'secondary_link': 35,\n",
    "                      'tertiary': 40, \n",
    "                      'tertiary_link': 35,\n",
    "                      'residential': 20,\n",
    "                      'living_street': 20,\n",
    "                      'unclassified': 20,\n",
    "                      'road': 20,\n",
    "                      'busway': 20\n",
    "         }\n",
    "```\n",
    "\n",
    "**Note**: Be aware that the `length` column of `G` is based on meters, but `maxspeed` is MPH. You need to multiply `maxspeed` column with 26.8223 to compute meters per minute from mile per hour. "
   ]
  },
  {
   "cell_type": "code",
   "execution_count": null,
   "id": "fc3454ad",
   "metadata": {
    "scrolled": true
   },
   "outputs": [],
   "source": [
    "# Your code here\n",
    "max_speed_per_type = {'motorway': 60, \n",
    "                      'motorway_link': 45, \n",
    "                      'trunk': 60,\n",
    "                      'trunk_link': 45, \n",
    "                      'primary': 50,\n",
    "                      'primary_link': 35, \n",
    "                      'secondary': 40,\n",
    "                      'secondary_link': 35,\n",
    "                      'tertiary': 40, \n",
    "                      'tertiary_link': 35,\n",
    "                      'residential': 20,\n",
    "                      'living_street': 20,\n",
    "                      'unclassified': 20,\n",
    "                      'road': 20,\n",
    "                      'busway': 20\n",
    "         }\n",
    "\n",
    "# Your code here\n",
    "\n"
   ]
  },
  {
   "cell_type": "markdown",
   "id": "9e594c11",
   "metadata": {},
   "source": [
    "## 2.3. Measure accessibility (Enhanced two-step floating catchment area method) (2 points)\n",
    "\n",
    "Now, you will interpret the following two equations into code.\n",
    "\n",
    "### First step:\n",
    "\n",
    "$$ R_j = \\frac{S_j}{\\sum_{k\\in {\\left\\{{t_{kj}} \\le {t_0} \\right\\}}}^{}{P_k}{W_k}}$$\n",
    "where<br>\n",
    "$R_j$: the supply-to-demand ratio of location $j$. <br>\n",
    "$S_j$: the degree of supply (e.g., number of doctors) at location $j$. <br>\n",
    "$P_k$: the degree of demand (e.g., population) at location $k$. <br>\n",
    "$t_{kj}$: the travel time between locations $k$ and $j$. <br>\n",
    "$t_0$: the threshold travel time of the analysis. <br>\n",
    "${W_k}$: Weight based on a distance decay function\n",
    "\n",
    "### Second step:\n",
    "$$ A_i = \\sum_{j\\in {\\left\\{{t_{ij}} \\le {t_0} \\right\\}}} R_j{W_j}$$\n",
    "where<br>\n",
    "$A_i$: the accessibility measures at location $i$. <br>\n",
    "$R_j$: the supply-to-demand ratio of location $j$. <br>\n",
    "${W_j}$: Weight based on a distance decay function<br>"
   ]
  },
  {
   "cell_type": "markdown",
   "id": "b0b69345",
   "metadata": {},
   "source": [
    "### 2.3.1. Step1: Calculate the supply-to-demand ratio of each healthcare facility (1 point)\n",
    "\n",
    "In this stage, you will calculate supply-to-demand ratio ($R_j$) of each healthcare resource, and store the ratio into `ratio` column in the `supply` GeoDataFrame. The ratio should be depreciated based on the travel time and the weights provided below. <br>\n",
    "In other words, each facility will have a catchment area that consists of three subzones. The inner subzone will be drawn from a 10-minute travel time and has a weight of 1. The middle subzone will be drawn from a 20-minute travel time and has a weight of 0.68. The outer subzone will be drawn from a 30-minute travel time and has a weight of 0.22. \n",
    "\n",
    "```python\n",
    "minutes = [10, 20, 30]\n",
    "weights = {10: 1, 20: 0.68, 30: 0.22}\n",
    "```\n",
    "\n",
    "The function `calculate_catchment_area` will help you to calculate the three subzones for each facility. \n",
    "\n",
    "```python\n",
    "def calculate_catchment_area(network, nearest_osm, minutes, distance_unit='time'):\n",
    "    polygons = gpd.GeoDataFrame()\n",
    "\n",
    "    # Create convex hull for each travel time (minutes), respectively.\n",
    "    for minute in minutes:\n",
    "        access_nodes = nx.single_source_dijkstra_path_length(G=network, \n",
    "                                                             source=nearest_osm, \n",
    "                                                             cutoff=minute, \n",
    "                                                             weight=distance_unit\n",
    "                                                            )\n",
    "        convex_hull = nodes.loc[\n",
    "                                nodes.index.isin(access_nodes.keys()), 'geometry'\n",
    "                               ].unary_union.convex_hull\n",
    "\n",
    "        polygons.at[minute, 'geometry'] = convex_hull\n",
    "  \n",
    "\n",
    "    # Calculate the differences between convex hulls which created in the previous section.\n",
    "    polygons_ = polygons.copy(deep=True)\n",
    "    for idx, minute in enumerate(minutes):\n",
    "        if idx != 0:\n",
    "            current_polygon = polygons.loc[[minute]]\n",
    "            previous_polygons = polygons.loc[[minutes[idx-1]]]\n",
    "            diff_polygon = gpd.overlay(current_polygon, previous_polygons, how=\"difference\")\n",
    "            if diff_polygon.shape[0] != 0:\n",
    "                polygons_.at[minute, 'geometry'] = diff_polygon['geometry'].values[0]\n",
    "\n",
    "    if polygons_.shape[0]:\n",
    "        polygons_ = polygons_.set_crs(epsg=26971)\n",
    "                \n",
    "    return polygons_.copy(deep=True)\n",
    "\n",
    "```"
   ]
  },
  {
   "cell_type": "code",
   "execution_count": null,
   "id": "cf9334fb",
   "metadata": {},
   "outputs": [],
   "source": [
    "# Extract the nodes and edges of the network dataset for the future analysis. \n",
    "nodes, edges = ox.graph_to_gdfs(G, nodes=True, edges=True, node_geometry=True)"
   ]
  },
  {
   "cell_type": "code",
   "execution_count": null,
   "id": "3153bccd",
   "metadata": {},
   "outputs": [],
   "source": [
    "def calculate_catchment_area(network, nearest_osm, minutes, distance_unit='time'):\n",
    "    polygons = gpd.GeoDataFrame()\n",
    "\n",
    "    # Create convex hull for each travel time (minutes), respectively.\n",
    "    for minute in minutes:\n",
    "        access_nodes = nx.single_source_dijkstra_path_length(G=network, \n",
    "                                                             source=nearest_osm, \n",
    "                                                             cutoff=minute, \n",
    "                                                             weight=distance_unit\n",
    "                                                            )\n",
    "        convex_hull = nodes.loc[\n",
    "                                nodes.index.isin(access_nodes.keys()), 'geometry'\n",
    "                               ].unary_union.convex_hull\n",
    "\n",
    "        polygons.at[minute, 'geometry'] = convex_hull\n",
    "  \n",
    "\n",
    "    # Calculate the differences between convex hulls which created in the previous section.\n",
    "    polygons_ = polygons.copy(deep=True)\n",
    "    for idx, minute in enumerate(minutes):\n",
    "        if idx != 0:\n",
    "            current_polygon = polygons.loc[[minute]]\n",
    "            previous_polygons = polygons.loc[[minutes[idx-1]]]\n",
    "            diff_polygon = gpd.overlay(current_polygon, previous_polygons, how=\"difference\")\n",
    "            if diff_polygon.shape[0] != 0:\n",
    "                polygons_.at[minute, 'geometry'] = diff_polygon['geometry'].values[0]\n",
    "\n",
    "    if polygons_.shape[0]:\n",
    "        polygons_ = polygons_.set_crs(epsg=26971)\n",
    "                \n",
    "    return polygons_.copy(deep=True)"
   ]
  },
  {
   "cell_type": "markdown",
   "id": "ea0a4989",
   "metadata": {},
   "source": [
    "**Note**: The below is the expected result. \n",
    "<img src=\"./images/step1.jpg\" height=\"60%\"/>"
   ]
  },
  {
   "cell_type": "code",
   "execution_count": null,
   "id": "8a23cfa0",
   "metadata": {},
   "outputs": [],
   "source": [
    "supply['ratio'] = 0\n",
    "\n",
    "minutes = [10, 20, 30]\n",
    "weights = {10: 1, 20: 0.68, 30: 0.22}\n",
    "\n",
    "# Your code here \n",
    "\n"
   ]
  },
  {
   "cell_type": "markdown",
   "id": "5ed56998",
   "metadata": {},
   "source": [
    "### 2.3.2. Step2: Aggregate the supply-to-demand ratio for each census block group (1 point)\n",
    "\n",
    "In this stage, you will aggregate the supply-to-demand ratio, which was calculated in the step above, for each census block group (`demand`). Assign the aggregated result into `access` column at `demand` GeoDataFrame. You can still utilize `calculate_catchment_area` function to facilitate your analysis. \n",
    "\n",
    "**Note**: The below is the expected result. \n",
    "<img src=\"./images/step2.jpg\" height=\"60%\"/>"
   ]
  },
  {
   "cell_type": "code",
   "execution_count": null,
   "id": "0f78c90e",
   "metadata": {
    "scrolled": true
   },
   "outputs": [],
   "source": [
    "demand['access'] = 0\n",
    "\n",
    "# Your code here\n",
    "\n"
   ]
  },
  {
   "cell_type": "markdown",
   "id": "47625afc",
   "metadata": {},
   "source": [
    "## 2.4. Plot the measures of accessibility (1 point)\n",
    "\n",
    "Try your best to mimic the map shown below, which demonstrate the measure of accessibility to healthcare resource at Champaign County. <br>\n",
    "To achieve this, you need to \n",
    "1) Plot the location of healthcare resources (`supply`). <br>\n",
    "2) Plot a Choropleth map with the `access` column in `demand`. <br>\n",
    "3) Use grey color to visualize locations without access <br>\n",
    "4) Hide x-axis and y-axis of the figure. \n",
    "\n",
    "**Note**: The below is the expected result. \n",
    "<img src=\"./images/access.jpg\" height=\"60%\"/>"
   ]
  },
  {
   "cell_type": "code",
   "execution_count": null,
   "id": "f47cab4c",
   "metadata": {},
   "outputs": [],
   "source": [
    "# Your code here\n",
    "\n"
   ]
  },
  {
   "cell_type": "markdown",
   "id": "59c56bd8",
   "metadata": {},
   "source": [
    "# 3. Calculate spatial autocorrelation based on the accessibility measure (2 points)\n",
    "\n",
    "Calculate **Moran's I** and **Local Moran's I** based on the accessibility measures. If you fail to finish the accessibility measurements, you can use `step2.shp` in the data folder for this task. \n",
    "\n",
    "* Compute weights (`w`) with `libpysal.weights.DistanceBand`, which will be utilized for calculating spatial autocorrelation. \n",
    "* Fixed distance will be 10000 and alpha value for distance decay is -1.  \n",
    "\n",
    "If you are looking for places to search, visit <a href=https://pysal.org/libpysal/generated/libpysal.weights.DistanceBand.html>`libpysal.weights.DistanceBand()`</a>, <a href=https://pysal.org/esda/generated/esda.Moran.html>`esda.Moran()`</a>, <a href=https://pysal.org/esda/generated/esda.Moran_Local.html>`esda.Moran_Local()`</a>. \n"
   ]
  },
  {
   "cell_type": "markdown",
   "id": "0c930911",
   "metadata": {},
   "source": [
    "## 3.1. Calculate Moran's I of accessibility measure (1 point)\n",
    "\n",
    "Utilize `esda.moran.Moran()` and print the `Moran's I`."
   ]
  },
  {
   "cell_type": "code",
   "execution_count": null,
   "id": "715b854f",
   "metadata": {},
   "outputs": [],
   "source": [
    "# Your code here\n",
    "\n"
   ]
  },
  {
   "cell_type": "markdown",
   "id": "a08514bb",
   "metadata": {},
   "source": [
    "## 3.2. Calculate Local Moran's I (1 point)\n",
    "\n",
    "Utilize `esda.moran.Moran_Local()` function and plot the Local Moran's I result as shown below. Use the following code to color your result if the classification is statistically significant (p-value < 0.05). \n",
    "\n",
    "```python\n",
    "lm_dict = {1: 'HH', 2: 'LH', 3: 'LL', 4: 'HL'}\n",
    "lisa_color = {'HH': 'red', 'LL': 'blue', 'HL': 'orange', 'LH': 'skyblue', 'Not_Sig': 'lightgrey'}\n",
    "```\n",
    "\n",
    "**Note**: The map can be slightly different for every run, since the equation is based on a simulation.\n",
    "\n",
    "<img src=\"./images/lisa.jpg\" height=\"50%\"/>"
   ]
  },
  {
   "cell_type": "code",
   "execution_count": null,
   "id": "d7c1b17c",
   "metadata": {
    "scrolled": false
   },
   "outputs": [],
   "source": [
    "# Your code here\n",
    "\n"
   ]
  }
 ],
 "metadata": {
  "kernelspec": {
   "display_name": "Python 3 (ipykernel)",
   "language": "python",
   "name": "python3"
  },
  "language_info": {
   "codemirror_mode": {
    "name": "ipython",
    "version": 3
   },
   "file_extension": ".py",
   "mimetype": "text/x-python",
   "name": "python",
   "nbconvert_exporter": "python",
   "pygments_lexer": "ipython3",
   "version": "3.8.13"
  }
 },
 "nbformat": 4,
 "nbformat_minor": 5
}
