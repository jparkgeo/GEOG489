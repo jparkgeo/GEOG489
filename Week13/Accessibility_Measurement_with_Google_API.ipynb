{
 "cells": [
  {
   "cell_type": "markdown",
   "id": "7941aefb",
   "metadata": {},
   "source": [
    "# Accessibility Measurement with Google Maps API\n",
    "\n",
    "## Overview\n",
    "In the previous lectures, we have covered how to measure spatial accessibility to urban infrastructure with some open-source datasets. In this lecture, we will cover how we can obtain data and conduct real-time analysis with the aid of the Google Maps API. It would be helpful for your future project when some public data is not available. For example, Google has a decent amount of point of interest data, such as grocery stores.\n",
    "\n",
    "## Prerequisite\n",
    "1. Google \"Google Maps Platform\" or Click <a href=https://mapsplatform.google.com/>\"Google Maps Platform\"</a>.\n",
    "2. Here, we need to create an empty project and generate API keys (Places API and Geocoding API) for our application below. \n",
    "3. If you are lost from the instructor's demonstration, please take a look at <a href=\"https://www.youtube.com/watch?v=OGTG1l7yin4\">this video</a>. "
   ]
  },
  {
   "cell_type": "code",
   "execution_count": null,
   "id": "b96e0544",
   "metadata": {},
   "outputs": [],
   "source": [
    "# Import necessary packages\n",
    "import utils\n",
    "import warnings\n",
    "warnings.filterwarnings('ignore')"
   ]
  },
  {
   "cell_type": "code",
   "execution_count": null,
   "id": "f63a6d0d",
   "metadata": {
    "scrolled": false
   },
   "outputs": [],
   "source": [
    "utils.widget()"
   ]
  }
 ],
 "metadata": {
  "kernelspec": {
   "display_name": "Python 3 (ipykernel)",
   "language": "python",
   "name": "python3"
  },
  "language_info": {
   "codemirror_mode": {
    "name": "ipython",
    "version": 3
   },
   "file_extension": ".py",
   "mimetype": "text/x-python",
   "name": "python",
   "nbconvert_exporter": "python",
   "pygments_lexer": "ipython3",
   "version": "3.10.2"
  }
 },
 "nbformat": 4,
 "nbformat_minor": 5
}
