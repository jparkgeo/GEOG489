{
 "cells": [
  {
   "cell_type": "markdown",
   "id": "fc94114a",
   "metadata": {},
   "source": [
    "# Code Explanation"
   ]
  },
  {
   "cell_type": "markdown",
   "id": "9092f60a",
   "metadata": {},
   "source": [
    "## 1. Grab POI information from Google API\n",
    "\n",
    "We are using `textsearch` function of Google Maps API. \n",
    "https://developers.google.com/maps/documentation/places/web-service/search-text"
   ]
  },
  {
   "cell_type": "code",
   "execution_count": null,
   "id": "1f818a61",
   "metadata": {},
   "outputs": [],
   "source": [
    "import requests\n",
    "import geopandas as gpd\n",
    "from shapely.geometry import Point\n",
    "import time"
   ]
  },
  {
   "cell_type": "code",
   "execution_count": null,
   "id": "63757614",
   "metadata": {},
   "outputs": [],
   "source": [
    "# Formulate the query for collecting POI\n",
    "lat = 40.1104\n",
    "lng = -88.2273\n",
    "search_item = 'Grocery Stores'\n",
    "api_key = \n",
    "\n",
    "api_address = r\"https://maps.googleapis.com/maps/api/place/textsearch/json?\"\n",
    "api_request = f\"{api_address}&location={lat},{lng}&query={search_item}&key={api_key}\"\n",
    "\n",
    "print(api_request)"
   ]
  },
  {
   "cell_type": "code",
   "execution_count": null,
   "id": "cf3356c9",
   "metadata": {},
   "outputs": [],
   "source": [
    "# Collect POI from Google Maps API\n",
    "api_response = requests.get(api_request).json()\n",
    "print(api_response)"
   ]
  },
  {
   "cell_type": "markdown",
   "id": "e46f4381",
   "metadata": {},
   "source": [
    "## 2. Retrieve results of Google Maps API\n",
    "\n",
    "We can formalize the API return of Google Maps with json. There are multiple free online website. Here is <a href=https://jsonformatter.curiousconcept.com/#>one</a>. <br>\n",
    "\n",
    "You will be realized that the return has attributes: `html_attributions`, `next_page_token`, `results` and `status`. If the results are valid, the `status` should be `OK`, and all the returns should be stored in `results`. As this API only returns 20 results, you can use `next_page_token` to retrieve more results (beyond the current 20). \n",
    "\n",
    "<img src=\"./data/api_result.jpg\" style=\"width: 900px;\"/>"
   ]
  },
  {
   "cell_type": "markdown",
   "id": "586daccc",
   "metadata": {},
   "source": [
    "The contents of `results` also have critical information about each POI, such as `business_status`, `geometry`, `name`, `operationg_hours`, `place_id`, so on. You can check the full list of attributes on <a href=\"https://developers.google.com/maps/documentation/places/web-service/search-text\">this website</a>. <br>\n",
    "\n",
    "For our application, we use `location` attributes, which consist of `lng` and `lat`, to convert the `results` into `GeoDataFrame`. "
   ]
  },
  {
   "cell_type": "code",
   "execution_count": null,
   "id": "0e9e3e8c",
   "metadata": {},
   "outputs": [],
   "source": [
    "poi_gdf = gpd.GeoDataFrame(api_response['results'], crs='EPSG:4326')\n",
    "        \n",
    "poi_gdf['geometry'] = poi_gdf.apply(lambda x: Point(x['geometry']['location']['lng'],\n",
    "                                                    x['geometry']['location']['lat']),\n",
    "                                    axis=1\n",
    "                                   )\n",
    "poi_gdf"
   ]
  },
  {
   "cell_type": "markdown",
   "id": "3c15a26d",
   "metadata": {},
   "source": [
    "## 3. Obtain road network from OSM"
   ]
  },
  {
   "cell_type": "code",
   "execution_count": null,
   "id": "6553cd52",
   "metadata": {},
   "outputs": [],
   "source": [
    "import osmnx as ox\n",
    "import networkx as nx"
   ]
  },
  {
   "cell_type": "code",
   "execution_count": null,
   "id": "f4efbd8b",
   "metadata": {},
   "outputs": [],
   "source": [
    "def remove_uncenessary_nodes(network):\n",
    "    _nodes_removed = len([n for (n, deg) in network.out_degree() if deg == 0])\n",
    "    network.remove_nodes_from([n for (n, deg) in network.out_degree() if deg == 0])\n",
    "    for component in list(nx.strongly_connected_components(network)):\n",
    "        if len(component) < 10:\n",
    "            for node in component:\n",
    "                _nodes_removed += 1\n",
    "                network.remove_node(node)\n",
    "\n",
    "    return network\n",
    "\n",
    "\n",
    "def collect_road_network_from_OSM(location):\n",
    "    network = ox.graph_from_place(location, network_type='drive', simplify=True)\n",
    "    network = remove_uncenessary_nodes(network)\n",
    "    \n",
    "    return network"
   ]
  },
  {
   "cell_type": "code",
   "execution_count": null,
   "id": "c2df9e07",
   "metadata": {},
   "outputs": [],
   "source": [
    "location = 'Champaign County, IL'\n",
    "G = collect_road_network_from_OSM(location)\n",
    "\n",
    "ox.plot_graph(G)"
   ]
  },
  {
   "cell_type": "code",
   "execution_count": null,
   "id": "c09242c5",
   "metadata": {},
   "outputs": [],
   "source": [
    "def find_nearest_osm(network, gdf):\n",
    "    for idx, row in gdf.iterrows():\n",
    "        if row.geometry.geom_type == 'Point':\n",
    "            nearest_osm = ox.distance.nearest_nodes(network,\n",
    "                                                    X=row.geometry.x,\n",
    "                                                    Y=row.geometry.y\n",
    "                                                    )\n",
    "        elif row.geometry.geom_type == 'Polygon' or row.geometry.geom_type == 'MultiPolygon':\n",
    "            nearest_osm = ox.distance.nearest_nodes(network,\n",
    "                                                    X=row.geometry.centroid.x,\n",
    "                                                    Y=row.geometry.centroid.y\n",
    "                                                    )\n",
    "        else:\n",
    "            print(row.geometry.geom_type)\n",
    "            continue\n",
    "\n",
    "        gdf.at[idx, 'nearest_osm'] = nearest_osm\n",
    "\n",
    "    return gdf\n",
    "\n",
    "\n",
    "def calculate_service_area(gdf, network, dist):\n",
    "    \n",
    "    gdf = find_nearest_osm(network, gdf)\n",
    "\n",
    "    nodes, edges = ox.graph_to_gdfs(network, nodes=True, edges=True, node_geometry=True)\n",
    "\n",
    "    service_area = gpd.GeoDataFrame()\n",
    "    for idx, row in gdf.iterrows():\n",
    "        temp_nodes = nx.single_source_dijkstra_path_length(network, row['nearest_osm'], dist, weight='length')\n",
    "        access_nodes = nodes.loc[nodes.index.isin(temp_nodes.keys()), 'geometry']\n",
    "        temp_service_area = access_nodes.unary_union.convex_hull  # Create convex hull from the unioned nodes\n",
    "\n",
    "        service_area.at[idx, 'geometry'] = temp_service_area\n",
    "\n",
    "    service_area = service_area.set_crs(epsg=4326)\n",
    "\n",
    "    return service_area\n",
    "\n",
    "\n",
    "results_gdf = calculate_service_area(poi_gdf, G, 2000)\n",
    "results_gdf.explore()"
   ]
  },
  {
   "cell_type": "markdown",
   "id": "fdcd7cb4",
   "metadata": {},
   "source": [
    "## 4. Implement more features of Google Maps API\n",
    "\n",
    "Not only the locations from Google Maps API, but we can also incorporate the rating information into our application. "
   ]
  },
  {
   "cell_type": "code",
   "execution_count": null,
   "id": "463a83ed",
   "metadata": {},
   "outputs": [],
   "source": [
    "rating_val = 4.0\n",
    "rating_count = 100\n",
    "\n",
    "good_gdf = poi_gdf.loc[(poi_gdf['rating'] > rating_val) & (poi_gdf['user_ratings_total'] > rating_count)]\n",
    "print(good_gdf.shape)\n",
    "good_gdf"
   ]
  },
  {
   "cell_type": "code",
   "execution_count": null,
   "id": "2fda6545",
   "metadata": {
    "scrolled": false
   },
   "outputs": [],
   "source": [
    "results_gdf = calculate_service_area(good_gdf, G, 2000)\n",
    "results_gdf.explore()"
   ]
  },
  {
   "cell_type": "markdown",
   "id": "bf75b294",
   "metadata": {},
   "source": [
    "## 5. Create web map from `folium`\n",
    "\n",
    "We utilize `folium` package to create a web map of our API query. For more information, please visit <a href=https://python-visualization.github.io/folium/>this website</a>. "
   ]
  },
  {
   "cell_type": "code",
   "execution_count": null,
   "id": "91d311e2",
   "metadata": {},
   "outputs": [],
   "source": [
    "import folium"
   ]
  },
  {
   "cell_type": "code",
   "execution_count": null,
   "id": "031c7e04",
   "metadata": {},
   "outputs": [],
   "source": [
    "lat = 40.1104\n",
    "lng = -88.2273\n",
    "\n",
    "final_result = folium.Map([lat, lng], zoom_start=11, tiles='Stamen Toner')\n",
    "final_result"
   ]
  },
  {
   "cell_type": "code",
   "execution_count": null,
   "id": "6fd5132c",
   "metadata": {},
   "outputs": [],
   "source": [
    "# Service area of Grocery stores\n",
    "folium.GeoJson(results_gdf['geometry'].unary_union, # Locations of geometry\n",
    "               style_function=lambda feature: { # Style\n",
    "                   'fillColor': \"green\",\n",
    "                   'color': \"green\",\n",
    "                   'fillOpacity': 0.2,\n",
    "               }).add_to(final_result) # Add to the existing web map\n",
    "\n",
    "# Location of Grocery stores\n",
    "folium.GeoJson(good_gdf['geometry'],  # Locations of geometry\n",
    "               marker=folium.CircleMarker(radius=3,  # Radius in metres\n",
    "                                          weight=0,  # outline weight\n",
    "                                          fill_color='#006400',\n",
    "                                          fill_opacity=1)\n",
    "               ).add_to(final_result) # Add to the existing web map\n",
    "\n",
    "final_result"
   ]
  },
  {
   "cell_type": "markdown",
   "id": "54b116df",
   "metadata": {},
   "source": [
    "## 6. Create interactive graphical user interface\n",
    "\n",
    "To facilitate user's experience, Python has a package called <a href=https://ipywidgets.readthedocs.io/en/latest/>`ipywidgets`</a>. It will provide a graphical user interface so that non-programmers can interact with results generated from Python."
   ]
  },
  {
   "cell_type": "code",
   "execution_count": null,
   "id": "733c088f",
   "metadata": {},
   "outputs": [],
   "source": [
    "import ipywidgets as widgets"
   ]
  },
  {
   "cell_type": "code",
   "execution_count": null,
   "id": "c061b8bc",
   "metadata": {},
   "outputs": [],
   "source": [
    "style = {'description_width': 'initial'}\n",
    "\n",
    "w_loc = widgets.Text(\n",
    "    value='Champaign County, IL',\n",
    "    description='Location: ',\n",
    "    style=style,\n",
    "    disabled=False\n",
    ")\n",
    "\n",
    "w_poi = widgets.Text(\n",
    "    value='Grocery Stores',\n",
    "    description='Point of Interest: ',\n",
    "    style=style,\n",
    "    disabled=False\n",
    ")\n",
    "\n",
    "w_key = widgets.Text(\n",
    "    value='',\n",
    "    description='Google Maps API Key: ',\n",
    "    style=style,\n",
    "    disabled=False\n",
    ")\n",
    "\n",
    "w_dist = widgets.IntSlider(\n",
    "    value=1000,\n",
    "    min=500,\n",
    "    max=3000,\n",
    "    step=100,\n",
    "    description='Max travel distance (in meters): ',\n",
    "    style=style,\n",
    "    continuous_update=False,\n",
    "    orientation='horizontal',\n",
    "    readout=True,\n",
    "    layout=widgets.Layout(width='50%')\n",
    ")\n",
    "\n",
    "w_rate = widgets.FloatSlider(\n",
    "    value=4,\n",
    "    min=1,\n",
    "    max=5,\n",
    "    step=0.1,\n",
    "    description='Minimum rating: ',\n",
    "    style=style,\n",
    "    readout=True,\n",
    "    layout=widgets.Layout(width='50%')\n",
    ")\n",
    "\n",
    "w_count = widgets.IntSlider(\n",
    "    value=10,\n",
    "    min=1,\n",
    "    max=100,\n",
    "    step=1,\n",
    "    description='Minimum review counts: ',\n",
    "    style=style,\n",
    "    readout=True,\n",
    "    layout=widgets.Layout(width='50%')\n",
    ")\n",
    "\n",
    "display(w_loc)\n",
    "display(w_poi)\n",
    "display(w_key)\n",
    "display(w_dist)\n",
    "display(w_rate)\n",
    "display(w_count)\n",
    "\n",
    "button = widgets.Button(description=\"Submit\")\n",
    "output = widgets.Output()\n",
    "\n",
    "display(button, output)"
   ]
  },
  {
   "cell_type": "markdown",
   "id": "bedcd21f",
   "metadata": {},
   "source": [
    "You can retrieve the input value of `ipywidgets` with the attribute `.value`.  "
   ]
  },
  {
   "cell_type": "code",
   "execution_count": null,
   "id": "40cae537",
   "metadata": {},
   "outputs": [],
   "source": [
    "location = w_loc.value\n",
    "print(f'Location: {location}')\n",
    "\n",
    "search_item = w_poi.value\n",
    "print(f'Search Item: {search_item}')\n",
    "\n",
    "api_key = w_key.value\n",
    "print(f'API key: {api_key}')\n",
    "\n",
    "distance = w_dist.value\n",
    "print(f'Threshold distance: {distance}')\n",
    "\n",
    "rating_min = w_rate.value\n",
    "print(f'Minimun rating: {rating_min}')\n",
    "\n",
    "rating_count_min = w_count.value\n",
    "print(f'Minimum rating count: {rating_count_min}')"
   ]
  },
  {
   "cell_type": "markdown",
   "id": "49494ece",
   "metadata": {},
   "source": [
    "You can also define the function that is going to proceed with the button clicked. "
   ]
  },
  {
   "cell_type": "code",
   "execution_count": null,
   "id": "ae5bd3ff",
   "metadata": {},
   "outputs": [],
   "source": [
    "def on_button_clicked(b):\n",
    "    location = w_loc.value\n",
    "    search_item = w_poi.value\n",
    "    api_key = w_key.value\n",
    "    distance = w_dist.value\n",
    "    rating_min = w_rate.value\n",
    "    rating_count_min = w_count.value\n",
    "\n",
    "    with output:\n",
    "        print(f\"Your maximum travel distance to {search_item} is {distance} meters\")\n",
    "        print(\"Your accessible area is shown in green!\")\n",
    "        print(\"\\n\")\n",
    "\n",
    "        loc = geocoder.google(location, key=api_key)\n",
    "#             print(loc)\n",
    "\n",
    "        latitude = loc.latlng[0]  # 40.115950\n",
    "        longitude = loc.latlng[1]  # -88.241591\n",
    "\n",
    "        print(\"#### STEP1: COLLECTING POI #### \\n\")\n",
    "        poi_gdf = collect_point_of_interest(search_item, api_key, longitude, latitude)\n",
    "\n",
    "        print(\"#### STEP2: COLLECTING ROAD NETWORK #### \\n\")\n",
    "        G = collect_road_network_from_OSM(location)\n",
    "\n",
    "        print(\"#### STEP3: CALCULATING SERVICE AREA #### \\n\")\n",
    "        final_plot = show_results(poi_gdf, G, distance, rating_min, rating_count_min, longitude, latitude)\n",
    "\n",
    "    display(final_plot)\n",
    "\n",
    "\n",
    "button.on_click(on_button_clicked)"
   ]
  },
  {
   "cell_type": "code",
   "execution_count": null,
   "id": "ef80531c",
   "metadata": {},
   "outputs": [],
   "source": [
    "style = {'description_width': 'initial'}\n",
    "\n",
    "w_loc = widgets.Text(\n",
    "    value='Champaign County, IL',\n",
    "    description='Location: ',\n",
    "    style=style,\n",
    "    disabled=False\n",
    ")\n",
    "\n",
    "w_poi = widgets.Text(\n",
    "    value='Grocery Stores',\n",
    "    description='Point of Interest: ',\n",
    "    style=style,\n",
    "    disabled=False\n",
    ")\n",
    "\n",
    "w_key = widgets.Text(\n",
    "    value='',\n",
    "    description='Google Maps API Key: ',\n",
    "    style=style,\n",
    "    disabled=False\n",
    ")\n",
    "\n",
    "w_dist = widgets.IntSlider(\n",
    "    value=1000,\n",
    "    min=500,\n",
    "    max=3000,\n",
    "    step=100,\n",
    "    description='Max travel distance (in meters): ',\n",
    "    style=style,\n",
    "    continuous_update=False,\n",
    "    orientation='horizontal',\n",
    "    readout=True,\n",
    "    layout=widgets.Layout(width='50%')\n",
    ")\n",
    "\n",
    "w_rate = widgets.FloatSlider(\n",
    "    value=4,\n",
    "    min=1,\n",
    "    max=5,\n",
    "    step=0.1,\n",
    "    description='Minimum rating: ',\n",
    "    style=style,\n",
    "    readout=True,\n",
    "    layout=widgets.Layout(width='50%')\n",
    ")\n",
    "\n",
    "w_count = widgets.IntSlider(\n",
    "    value=10,\n",
    "    min=1,\n",
    "    max=100,\n",
    "    step=1,\n",
    "    description='Minimum review counts: ',\n",
    "    style=style,\n",
    "    readout=True,\n",
    "    layout=widgets.Layout(width='50%')\n",
    ")\n",
    "\n",
    "display(w_loc)\n",
    "display(w_poi)\n",
    "display(w_key)\n",
    "display(w_dist)\n",
    "display(w_rate)\n",
    "display(w_count)\n",
    "\n",
    "button = widgets.Button(description=\"Submit\")\n",
    "output = widgets.Output()\n",
    "\n",
    "display(button, output)\n",
    "\n",
    "button.on_click(on_button_clicked)"
   ]
  }
 ],
 "metadata": {
  "kernelspec": {
   "display_name": "Python 3 (ipykernel)",
   "language": "python",
   "name": "python3"
  },
  "language_info": {
   "codemirror_mode": {
    "name": "ipython",
    "version": 3
   },
   "file_extension": ".py",
   "mimetype": "text/x-python",
   "name": "python",
   "nbconvert_exporter": "python",
   "pygments_lexer": "ipython3",
   "version": "3.8.13"
  }
 },
 "nbformat": 4,
 "nbformat_minor": 5
}
