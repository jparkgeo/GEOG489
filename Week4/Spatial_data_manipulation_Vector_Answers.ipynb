{
 "cells": [
  {
   "cell_type": "code",
   "execution_count": 1,
   "id": "cfdb3204",
   "metadata": {},
   "outputs": [
    {
     "data": {
      "text/html": [
       "\n",
       "<style>\n",
       "td {\n",
       "  font-size: 12px\n",
       "}\n",
       "th{\n",
       "  font-size: 12px  \n",
       "}\n",
       "</style>\n"
      ],
      "text/plain": [
       "<IPython.core.display.HTML object>"
      ]
     },
     "metadata": {},
     "output_type": "display_data"
    }
   ],
   "source": [
    "%%HTML\n",
    "\n",
    "<style>\n",
    "td {\n",
    "  font-size: 12px\n",
    "}\n",
    "th{\n",
    "  font-size: 12px  \n",
    "}\n",
    "</style>"
   ]
  },
  {
   "cell_type": "markdown",
   "id": "af1ef071",
   "metadata": {},
   "source": [
    "# Spatial Data Manipulation: Vector"
   ]
  },
  {
   "cell_type": "markdown",
   "id": "dd0a86c4-0860-47c1-8161-8fe963e4f5e3",
   "metadata": {},
   "source": [
    "## 1. Overview of Geopandas\n",
    "\n",
    "`Geopands` is one of the most important Python libraries for working with vector data. It is based on the `pandas` library and has dependencies on `Shapely`, `Fiona` and `pyproj`. \n",
    "* `Shapely` is a Python package for manipulation and analysis of planar features, using functions from the GEOS library (the engine of PostGIS) and a port of the JTS (Java Topology Suite). Shapely only deals with analyzing geometries and offers no capabilities for reading and writing geospatial files. \n",
    "* `Fiona` the API (Application Programming Interface) of OGR (it used to stand for 'OpenGIS Simple Feature Reference Implementation', but not anymore; only a historical name in nature). It can be used for reading and writing data formats. \n",
    "* `pyproj` is a Python package that performs cartographic transformations and geodetic computations.\n",
    "\n",
    "### 1.1. Importing the package and reading data\n",
    "You can read geospatial data with `gpd.read_file()`, such as ESRI shapefile, GeoJSON, GeoPackage. To export geospatial data, you can use `gpd.to_file()`. "
   ]
  },
  {
   "cell_type": "code",
   "execution_count": 2,
   "id": "99d712e1",
   "metadata": {
    "jupyter": {
     "outputs_hidden": true
    },
    "scrolled": true,
    "tags": []
   },
   "outputs": [
    {
     "name": "stdout",
     "output_type": "stream",
     "text": [
      "<class 'geopandas.geodataframe.GeoDataFrame'>\n"
     ]
    },
    {
     "data": {
      "text/html": [
       "<div>\n",
       "<style scoped>\n",
       "    .dataframe tbody tr th:only-of-type {\n",
       "        vertical-align: middle;\n",
       "    }\n",
       "\n",
       "    .dataframe tbody tr th {\n",
       "        vertical-align: top;\n",
       "    }\n",
       "\n",
       "    .dataframe thead th {\n",
       "        text-align: right;\n",
       "    }\n",
       "</style>\n",
       "<table border=\"1\" class=\"dataframe\">\n",
       "  <thead>\n",
       "    <tr style=\"text-align: right;\">\n",
       "      <th></th>\n",
       "      <th>name</th>\n",
       "      <th>fips</th>\n",
       "      <th>postal</th>\n",
       "      <th>latitude</th>\n",
       "      <th>longitude</th>\n",
       "      <th>region</th>\n",
       "      <th>geometry</th>\n",
       "    </tr>\n",
       "  </thead>\n",
       "  <tbody>\n",
       "    <tr>\n",
       "      <th>0</th>\n",
       "      <td>Alabama</td>\n",
       "      <td>US01</td>\n",
       "      <td>AL</td>\n",
       "      <td>32.8551</td>\n",
       "      <td>-86.7184</td>\n",
       "      <td>South</td>\n",
       "      <td>POLYGON ((-88.16696 34.99967, -86.90968 34.999...</td>\n",
       "    </tr>\n",
       "    <tr>\n",
       "      <th>1</th>\n",
       "      <td>Alaska</td>\n",
       "      <td>US02</td>\n",
       "      <td>AK</td>\n",
       "      <td>65.3609</td>\n",
       "      <td>-151.6040</td>\n",
       "      <td>West</td>\n",
       "      <td>MULTIPOLYGON (((-153.22873 57.96897, -152.5647...</td>\n",
       "    </tr>\n",
       "    <tr>\n",
       "      <th>2</th>\n",
       "      <td>Arizona</td>\n",
       "      <td>US04</td>\n",
       "      <td>AZ</td>\n",
       "      <td>34.3046</td>\n",
       "      <td>-111.9350</td>\n",
       "      <td>West</td>\n",
       "      <td>POLYGON ((-109.04522 36.99991, -109.04367 31.3...</td>\n",
       "    </tr>\n",
       "    <tr>\n",
       "      <th>3</th>\n",
       "      <td>Arkansas</td>\n",
       "      <td>US05</td>\n",
       "      <td>AR</td>\n",
       "      <td>34.7563</td>\n",
       "      <td>-92.1428</td>\n",
       "      <td>South</td>\n",
       "      <td>POLYGON ((-89.66292 36.02307, -89.67351 35.940...</td>\n",
       "    </tr>\n",
       "    <tr>\n",
       "      <th>4</th>\n",
       "      <td>California</td>\n",
       "      <td>US06</td>\n",
       "      <td>CA</td>\n",
       "      <td>36.7496</td>\n",
       "      <td>-119.5910</td>\n",
       "      <td>West</td>\n",
       "      <td>POLYGON ((-114.64222 35.05311, -114.62212 34.9...</td>\n",
       "    </tr>\n",
       "    <tr>\n",
       "      <th>5</th>\n",
       "      <td>Colorado</td>\n",
       "      <td>US08</td>\n",
       "      <td>CO</td>\n",
       "      <td>38.9998</td>\n",
       "      <td>-105.5430</td>\n",
       "      <td>West</td>\n",
       "      <td>POLYGON ((-102.05017 40.00081, -102.04012 38.4...</td>\n",
       "    </tr>\n",
       "    <tr>\n",
       "      <th>6</th>\n",
       "      <td>Connecticut</td>\n",
       "      <td>US09</td>\n",
       "      <td>CT</td>\n",
       "      <td>41.6486</td>\n",
       "      <td>-72.7594</td>\n",
       "      <td>Northeast</td>\n",
       "      <td>POLYGON ((-73.49794 42.05451, -72.73222 42.035...</td>\n",
       "    </tr>\n",
       "    <tr>\n",
       "      <th>7</th>\n",
       "      <td>Delaware</td>\n",
       "      <td>US10</td>\n",
       "      <td>DE</td>\n",
       "      <td>38.8657</td>\n",
       "      <td>-75.4112</td>\n",
       "      <td>South</td>\n",
       "      <td>POLYGON ((-75.04839 38.44876, -75.71462 38.449...</td>\n",
       "    </tr>\n",
       "    <tr>\n",
       "      <th>8</th>\n",
       "      <td>District of Columbia</td>\n",
       "      <td>US11</td>\n",
       "      <td>DC</td>\n",
       "      <td>38.8922</td>\n",
       "      <td>-77.0113</td>\n",
       "      <td>South</td>\n",
       "      <td>POLYGON ((-77.04124 38.78954, -77.04123 38.789...</td>\n",
       "    </tr>\n",
       "    <tr>\n",
       "      <th>9</th>\n",
       "      <td>Florida</td>\n",
       "      <td>US12</td>\n",
       "      <td>FL</td>\n",
       "      <td>28.1568</td>\n",
       "      <td>-81.6228</td>\n",
       "      <td>South</td>\n",
       "      <td>POLYGON ((-87.53039 30.27420, -87.45789 30.411...</td>\n",
       "    </tr>\n",
       "    <tr>\n",
       "      <th>10</th>\n",
       "      <td>Georgia</td>\n",
       "      <td>US13</td>\n",
       "      <td>GA</td>\n",
       "      <td>32.8547</td>\n",
       "      <td>-83.4078</td>\n",
       "      <td>South</td>\n",
       "      <td>POLYGON ((-85.00519 30.99069, -85.05442 31.108...</td>\n",
       "    </tr>\n",
       "    <tr>\n",
       "      <th>11</th>\n",
       "      <td>Hawaii</td>\n",
       "      <td>US15</td>\n",
       "      <td>HI</td>\n",
       "      <td>21.4919</td>\n",
       "      <td>-157.9990</td>\n",
       "      <td>West</td>\n",
       "      <td>MULTIPOLYGON (((-155.93665 19.05939, -155.9080...</td>\n",
       "    </tr>\n",
       "    <tr>\n",
       "      <th>12</th>\n",
       "      <td>Idaho</td>\n",
       "      <td>US16</td>\n",
       "      <td>ID</td>\n",
       "      <td>43.7825</td>\n",
       "      <td>-114.1330</td>\n",
       "      <td>West</td>\n",
       "      <td>POLYGON ((-116.04823 49.00037, -115.96780 47.9...</td>\n",
       "    </tr>\n",
       "    <tr>\n",
       "      <th>13</th>\n",
       "      <td>Illinois</td>\n",
       "      <td>US17</td>\n",
       "      <td>IL</td>\n",
       "      <td>39.9460</td>\n",
       "      <td>-89.1991</td>\n",
       "      <td>Midwest</td>\n",
       "      <td>POLYGON ((-91.43033 40.36860, -91.41023 40.551...</td>\n",
       "    </tr>\n",
       "    <tr>\n",
       "      <th>14</th>\n",
       "      <td>Indiana</td>\n",
       "      <td>US18</td>\n",
       "      <td>IN</td>\n",
       "      <td>39.8874</td>\n",
       "      <td>-86.1396</td>\n",
       "      <td>Midwest</td>\n",
       "      <td>POLYGON ((-88.05108 37.81960, -88.01881 38.021...</td>\n",
       "    </tr>\n",
       "    <tr>\n",
       "      <th>15</th>\n",
       "      <td>Iowa</td>\n",
       "      <td>US19</td>\n",
       "      <td>IA</td>\n",
       "      <td>42.0423</td>\n",
       "      <td>-93.3891</td>\n",
       "      <td>Midwest</td>\n",
       "      <td>POLYGON ((-96.45266 43.50179, -95.35994 43.500...</td>\n",
       "    </tr>\n",
       "    <tr>\n",
       "      <th>16</th>\n",
       "      <td>Kansas</td>\n",
       "      <td>US20</td>\n",
       "      <td>KS</td>\n",
       "      <td>38.5000</td>\n",
       "      <td>-98.3309</td>\n",
       "      <td>Midwest</td>\n",
       "      <td>POLYGON ((-102.04118 36.99198, -102.04012 38.4...</td>\n",
       "    </tr>\n",
       "    <tr>\n",
       "      <th>17</th>\n",
       "      <td>Kentucky</td>\n",
       "      <td>US21</td>\n",
       "      <td>KY</td>\n",
       "      <td>37.3994</td>\n",
       "      <td>-85.5729</td>\n",
       "      <td>South</td>\n",
       "      <td>POLYGON ((-89.49836 36.50620, -89.27398 36.611...</td>\n",
       "    </tr>\n",
       "    <tr>\n",
       "      <th>18</th>\n",
       "      <td>Louisiana</td>\n",
       "      <td>US22</td>\n",
       "      <td>LA</td>\n",
       "      <td>30.5274</td>\n",
       "      <td>-91.9991</td>\n",
       "      <td>South</td>\n",
       "      <td>POLYGON ((-94.05976 33.01212, -93.09403 33.010...</td>\n",
       "    </tr>\n",
       "    <tr>\n",
       "      <th>19</th>\n",
       "      <td>Maine</td>\n",
       "      <td>US23</td>\n",
       "      <td>ME</td>\n",
       "      <td>45.1480</td>\n",
       "      <td>-69.1973</td>\n",
       "      <td>Northeast</td>\n",
       "      <td>POLYGON ((-70.64573 43.09008, -70.75102 43.080...</td>\n",
       "    </tr>\n",
       "    <tr>\n",
       "      <th>20</th>\n",
       "      <td>Maryland</td>\n",
       "      <td>US24</td>\n",
       "      <td>MD</td>\n",
       "      <td>39.3874</td>\n",
       "      <td>-77.0454</td>\n",
       "      <td>South</td>\n",
       "      <td>POLYGON ((-75.37754 38.01538, -75.37754 38.015...</td>\n",
       "    </tr>\n",
       "    <tr>\n",
       "      <th>21</th>\n",
       "      <td>Massachusetts</td>\n",
       "      <td>US25</td>\n",
       "      <td>MA</td>\n",
       "      <td>42.3739</td>\n",
       "      <td>-71.9993</td>\n",
       "      <td>Northeast</td>\n",
       "      <td>POLYGON ((-71.80091 42.01325, -72.73222 42.035...</td>\n",
       "    </tr>\n",
       "    <tr>\n",
       "      <th>22</th>\n",
       "      <td>Michigan</td>\n",
       "      <td>US26</td>\n",
       "      <td>MI</td>\n",
       "      <td>43.4343</td>\n",
       "      <td>-84.9479</td>\n",
       "      <td>Midwest</td>\n",
       "      <td>POLYGON ((-89.95766 47.28691, -89.84283 47.464...</td>\n",
       "    </tr>\n",
       "    <tr>\n",
       "      <th>23</th>\n",
       "      <td>Minnesota</td>\n",
       "      <td>US27</td>\n",
       "      <td>MN</td>\n",
       "      <td>46.0592</td>\n",
       "      <td>-93.3640</td>\n",
       "      <td>Midwest</td>\n",
       "      <td>POLYGON ((-89.95766 47.28691, -90.13175 47.292...</td>\n",
       "    </tr>\n",
       "    <tr>\n",
       "      <th>24</th>\n",
       "      <td>Mississippi</td>\n",
       "      <td>US28</td>\n",
       "      <td>MS</td>\n",
       "      <td>32.8657</td>\n",
       "      <td>-89.7189</td>\n",
       "      <td>South</td>\n",
       "      <td>POLYGON ((-91.15624 33.01000, -91.10808 33.206...</td>\n",
       "    </tr>\n",
       "    <tr>\n",
       "      <th>25</th>\n",
       "      <td>Missouri</td>\n",
       "      <td>US29</td>\n",
       "      <td>MO</td>\n",
       "      <td>38.5487</td>\n",
       "      <td>-92.4460</td>\n",
       "      <td>Midwest</td>\n",
       "      <td>POLYGON ((-89.66292 36.02307, -90.31539 36.023...</td>\n",
       "    </tr>\n",
       "    <tr>\n",
       "      <th>26</th>\n",
       "      <td>Montana</td>\n",
       "      <td>US30</td>\n",
       "      <td>MT</td>\n",
       "      <td>46.9965</td>\n",
       "      <td>-110.0440</td>\n",
       "      <td>West</td>\n",
       "      <td>POLYGON ((-116.04823 49.00037, -113.05950 49.0...</td>\n",
       "    </tr>\n",
       "    <tr>\n",
       "      <th>27</th>\n",
       "      <td>Nebraska</td>\n",
       "      <td>US31</td>\n",
       "      <td>NE</td>\n",
       "      <td>41.5002</td>\n",
       "      <td>-99.6855</td>\n",
       "      <td>Midwest</td>\n",
       "      <td>POLYGON ((-102.05017 40.00081, -102.05017 40.0...</td>\n",
       "    </tr>\n",
       "    <tr>\n",
       "      <th>28</th>\n",
       "      <td>Nevada</td>\n",
       "      <td>US32</td>\n",
       "      <td>NV</td>\n",
       "      <td>39.4299</td>\n",
       "      <td>-117.0200</td>\n",
       "      <td>West</td>\n",
       "      <td>POLYGON ((-117.02825 42.00002, -114.03422 41.9...</td>\n",
       "    </tr>\n",
       "    <tr>\n",
       "      <th>29</th>\n",
       "      <td>New Hampshire</td>\n",
       "      <td>US33</td>\n",
       "      <td>NH</td>\n",
       "      <td>43.5993</td>\n",
       "      <td>-71.6301</td>\n",
       "      <td>Northeast</td>\n",
       "      <td>POLYGON ((-70.81505 42.86519, -70.93360 42.884...</td>\n",
       "    </tr>\n",
       "    <tr>\n",
       "      <th>30</th>\n",
       "      <td>New Jersey</td>\n",
       "      <td>US34</td>\n",
       "      <td>NJ</td>\n",
       "      <td>40.0449</td>\n",
       "      <td>-74.4653</td>\n",
       "      <td>Northeast</td>\n",
       "      <td>POLYGON ((-75.52781 39.49865, -75.55427 39.691...</td>\n",
       "    </tr>\n",
       "    <tr>\n",
       "      <th>31</th>\n",
       "      <td>New Mexico</td>\n",
       "      <td>US35</td>\n",
       "      <td>NM</td>\n",
       "      <td>34.5002</td>\n",
       "      <td>-106.0240</td>\n",
       "      <td>West</td>\n",
       "      <td>POLYGON ((-109.04367 31.34190, -109.04522 36.9...</td>\n",
       "    </tr>\n",
       "    <tr>\n",
       "      <th>32</th>\n",
       "      <td>New York</td>\n",
       "      <td>US36</td>\n",
       "      <td>NY</td>\n",
       "      <td>43.1988</td>\n",
       "      <td>-75.3242</td>\n",
       "      <td>Northeast</td>\n",
       "      <td>POLYGON ((-73.49794 42.05451, -73.55349 41.289...</td>\n",
       "    </tr>\n",
       "    <tr>\n",
       "      <th>33</th>\n",
       "      <td>North Carolina</td>\n",
       "      <td>US37</td>\n",
       "      <td>NC</td>\n",
       "      <td>35.6152</td>\n",
       "      <td>-78.8660</td>\n",
       "      <td>South</td>\n",
       "      <td>POLYGON ((-83.07637 34.97903, -84.32097 34.986...</td>\n",
       "    </tr>\n",
       "    <tr>\n",
       "      <th>34</th>\n",
       "      <td>North Dakota</td>\n",
       "      <td>US38</td>\n",
       "      <td>ND</td>\n",
       "      <td>47.4675</td>\n",
       "      <td>-100.3020</td>\n",
       "      <td>Midwest</td>\n",
       "      <td>POLYGON ((-97.22894 49.00089, -97.21414 48.902...</td>\n",
       "    </tr>\n",
       "    <tr>\n",
       "      <th>35</th>\n",
       "      <td>Ohio</td>\n",
       "      <td>US39</td>\n",
       "      <td>OH</td>\n",
       "      <td>40.0924</td>\n",
       "      <td>-82.6719</td>\n",
       "      <td>Midwest</td>\n",
       "      <td>POLYGON ((-84.82368 39.10653, -84.81787 39.799...</td>\n",
       "    </tr>\n",
       "    <tr>\n",
       "      <th>36</th>\n",
       "      <td>Oklahoma</td>\n",
       "      <td>US40</td>\n",
       "      <td>OK</td>\n",
       "      <td>35.4520</td>\n",
       "      <td>-97.1309</td>\n",
       "      <td>South</td>\n",
       "      <td>POLYGON ((-103.00322 36.99516, -102.04118 36.9...</td>\n",
       "    </tr>\n",
       "    <tr>\n",
       "      <th>37</th>\n",
       "      <td>Oregon</td>\n",
       "      <td>US41</td>\n",
       "      <td>OR</td>\n",
       "      <td>43.8333</td>\n",
       "      <td>-120.3860</td>\n",
       "      <td>West</td>\n",
       "      <td>POLYGON ((-116.91500 45.99998, -116.67900 45.8...</td>\n",
       "    </tr>\n",
       "    <tr>\n",
       "      <th>38</th>\n",
       "      <td>Pennsylvania</td>\n",
       "      <td>US42</td>\n",
       "      <td>PA</td>\n",
       "      <td>40.8601</td>\n",
       "      <td>-77.6094</td>\n",
       "      <td>Northeast</td>\n",
       "      <td>POLYGON ((-80.51893 40.64111, -80.51627 42.324...</td>\n",
       "    </tr>\n",
       "    <tr>\n",
       "      <th>39</th>\n",
       "      <td>Rhode Island</td>\n",
       "      <td>US44</td>\n",
       "      <td>RI</td>\n",
       "      <td>41.6242</td>\n",
       "      <td>-71.5082</td>\n",
       "      <td>Northeast</td>\n",
       "      <td>POLYGON ((-71.85383 41.32004, -71.79295 41.466...</td>\n",
       "    </tr>\n",
       "    <tr>\n",
       "      <th>40</th>\n",
       "      <td>South Carolina</td>\n",
       "      <td>US45</td>\n",
       "      <td>SC</td>\n",
       "      <td>33.8578</td>\n",
       "      <td>-80.6471</td>\n",
       "      <td>South</td>\n",
       "      <td>POLYGON ((-80.86501 32.03316, -81.03644 32.084...</td>\n",
       "    </tr>\n",
       "    <tr>\n",
       "      <th>41</th>\n",
       "      <td>South Dakota</td>\n",
       "      <td>US46</td>\n",
       "      <td>SD</td>\n",
       "      <td>44.4711</td>\n",
       "      <td>-100.2550</td>\n",
       "      <td>Midwest</td>\n",
       "      <td>POLYGON ((-96.53945 46.01797, -96.55689 45.872...</td>\n",
       "    </tr>\n",
       "    <tr>\n",
       "      <th>42</th>\n",
       "      <td>Tennessee</td>\n",
       "      <td>US47</td>\n",
       "      <td>TN</td>\n",
       "      <td>35.7514</td>\n",
       "      <td>-86.3415</td>\n",
       "      <td>South</td>\n",
       "      <td>POLYGON ((-90.24924 35.02083, -90.13493 35.113...</td>\n",
       "    </tr>\n",
       "    <tr>\n",
       "      <th>43</th>\n",
       "      <td>Texas</td>\n",
       "      <td>US48</td>\n",
       "      <td>TX</td>\n",
       "      <td>31.1310</td>\n",
       "      <td>-98.7607</td>\n",
       "      <td>South</td>\n",
       "      <td>POLYGON ((-106.50734 31.75429, -106.61953 31.9...</td>\n",
       "    </tr>\n",
       "    <tr>\n",
       "      <th>44</th>\n",
       "      <td>Utah</td>\n",
       "      <td>US49</td>\n",
       "      <td>UT</td>\n",
       "      <td>39.5007</td>\n",
       "      <td>-111.5440</td>\n",
       "      <td>West</td>\n",
       "      <td>POLYGON ((-114.03422 41.99312, -111.05024 42.0...</td>\n",
       "    </tr>\n",
       "    <tr>\n",
       "      <th>45</th>\n",
       "      <td>Vermont</td>\n",
       "      <td>US50</td>\n",
       "      <td>VT</td>\n",
       "      <td>44.0886</td>\n",
       "      <td>-72.7317</td>\n",
       "      <td>Northeast</td>\n",
       "      <td>POLYGON ((-72.45707 42.72708, -73.28203 42.743...</td>\n",
       "    </tr>\n",
       "    <tr>\n",
       "      <th>46</th>\n",
       "      <td>Virginia</td>\n",
       "      <td>US51</td>\n",
       "      <td>VA</td>\n",
       "      <td>37.7403</td>\n",
       "      <td>-78.2431</td>\n",
       "      <td>South</td>\n",
       "      <td>MULTIPOLYGON (((-83.33059 36.67266, -83.17851 ...</td>\n",
       "    </tr>\n",
       "    <tr>\n",
       "      <th>47</th>\n",
       "      <td>Washington</td>\n",
       "      <td>US53</td>\n",
       "      <td>WA</td>\n",
       "      <td>47.4865</td>\n",
       "      <td>-120.3610</td>\n",
       "      <td>West</td>\n",
       "      <td>POLYGON ((-117.03143 48.99931, -117.02665 47.7...</td>\n",
       "    </tr>\n",
       "    <tr>\n",
       "      <th>48</th>\n",
       "      <td>West Virginia</td>\n",
       "      <td>US54</td>\n",
       "      <td>WV</td>\n",
       "      <td>38.6422</td>\n",
       "      <td>-80.7128</td>\n",
       "      <td>South</td>\n",
       "      <td>POLYGON ((-81.97254 37.53595, -82.16728 37.554...</td>\n",
       "    </tr>\n",
       "    <tr>\n",
       "      <th>49</th>\n",
       "      <td>Wisconsin</td>\n",
       "      <td>US55</td>\n",
       "      <td>WI</td>\n",
       "      <td>44.3709</td>\n",
       "      <td>-89.5831</td>\n",
       "      <td>Midwest</td>\n",
       "      <td>POLYGON ((-91.22820 43.50125, -91.25466 43.613...</td>\n",
       "    </tr>\n",
       "    <tr>\n",
       "      <th>50</th>\n",
       "      <td>Wyoming</td>\n",
       "      <td>US56</td>\n",
       "      <td>WY</td>\n",
       "      <td>42.9999</td>\n",
       "      <td>-107.5520</td>\n",
       "      <td>West</td>\n",
       "      <td>POLYGON ((-111.08518 44.50615, -111.06719 44.5...</td>\n",
       "    </tr>\n",
       "  </tbody>\n",
       "</table>\n",
       "</div>"
      ],
      "text/plain": [
       "                    name  fips postal  latitude  longitude     region  \\\n",
       "0                Alabama  US01     AL   32.8551   -86.7184      South   \n",
       "1                 Alaska  US02     AK   65.3609  -151.6040       West   \n",
       "2                Arizona  US04     AZ   34.3046  -111.9350       West   \n",
       "3               Arkansas  US05     AR   34.7563   -92.1428      South   \n",
       "4             California  US06     CA   36.7496  -119.5910       West   \n",
       "5               Colorado  US08     CO   38.9998  -105.5430       West   \n",
       "6            Connecticut  US09     CT   41.6486   -72.7594  Northeast   \n",
       "7               Delaware  US10     DE   38.8657   -75.4112      South   \n",
       "8   District of Columbia  US11     DC   38.8922   -77.0113      South   \n",
       "9                Florida  US12     FL   28.1568   -81.6228      South   \n",
       "10               Georgia  US13     GA   32.8547   -83.4078      South   \n",
       "11                Hawaii  US15     HI   21.4919  -157.9990       West   \n",
       "12                 Idaho  US16     ID   43.7825  -114.1330       West   \n",
       "13              Illinois  US17     IL   39.9460   -89.1991    Midwest   \n",
       "14               Indiana  US18     IN   39.8874   -86.1396    Midwest   \n",
       "15                  Iowa  US19     IA   42.0423   -93.3891    Midwest   \n",
       "16                Kansas  US20     KS   38.5000   -98.3309    Midwest   \n",
       "17              Kentucky  US21     KY   37.3994   -85.5729      South   \n",
       "18             Louisiana  US22     LA   30.5274   -91.9991      South   \n",
       "19                 Maine  US23     ME   45.1480   -69.1973  Northeast   \n",
       "20              Maryland  US24     MD   39.3874   -77.0454      South   \n",
       "21         Massachusetts  US25     MA   42.3739   -71.9993  Northeast   \n",
       "22              Michigan  US26     MI   43.4343   -84.9479    Midwest   \n",
       "23             Minnesota  US27     MN   46.0592   -93.3640    Midwest   \n",
       "24           Mississippi  US28     MS   32.8657   -89.7189      South   \n",
       "25              Missouri  US29     MO   38.5487   -92.4460    Midwest   \n",
       "26               Montana  US30     MT   46.9965  -110.0440       West   \n",
       "27              Nebraska  US31     NE   41.5002   -99.6855    Midwest   \n",
       "28                Nevada  US32     NV   39.4299  -117.0200       West   \n",
       "29         New Hampshire  US33     NH   43.5993   -71.6301  Northeast   \n",
       "30            New Jersey  US34     NJ   40.0449   -74.4653  Northeast   \n",
       "31            New Mexico  US35     NM   34.5002  -106.0240       West   \n",
       "32              New York  US36     NY   43.1988   -75.3242  Northeast   \n",
       "33        North Carolina  US37     NC   35.6152   -78.8660      South   \n",
       "34          North Dakota  US38     ND   47.4675  -100.3020    Midwest   \n",
       "35                  Ohio  US39     OH   40.0924   -82.6719    Midwest   \n",
       "36              Oklahoma  US40     OK   35.4520   -97.1309      South   \n",
       "37                Oregon  US41     OR   43.8333  -120.3860       West   \n",
       "38          Pennsylvania  US42     PA   40.8601   -77.6094  Northeast   \n",
       "39          Rhode Island  US44     RI   41.6242   -71.5082  Northeast   \n",
       "40        South Carolina  US45     SC   33.8578   -80.6471      South   \n",
       "41          South Dakota  US46     SD   44.4711  -100.2550    Midwest   \n",
       "42             Tennessee  US47     TN   35.7514   -86.3415      South   \n",
       "43                 Texas  US48     TX   31.1310   -98.7607      South   \n",
       "44                  Utah  US49     UT   39.5007  -111.5440       West   \n",
       "45               Vermont  US50     VT   44.0886   -72.7317  Northeast   \n",
       "46              Virginia  US51     VA   37.7403   -78.2431      South   \n",
       "47            Washington  US53     WA   47.4865  -120.3610       West   \n",
       "48         West Virginia  US54     WV   38.6422   -80.7128      South   \n",
       "49             Wisconsin  US55     WI   44.3709   -89.5831    Midwest   \n",
       "50               Wyoming  US56     WY   42.9999  -107.5520       West   \n",
       "\n",
       "                                             geometry  \n",
       "0   POLYGON ((-88.16696 34.99967, -86.90968 34.999...  \n",
       "1   MULTIPOLYGON (((-153.22873 57.96897, -152.5647...  \n",
       "2   POLYGON ((-109.04522 36.99991, -109.04367 31.3...  \n",
       "3   POLYGON ((-89.66292 36.02307, -89.67351 35.940...  \n",
       "4   POLYGON ((-114.64222 35.05311, -114.62212 34.9...  \n",
       "5   POLYGON ((-102.05017 40.00081, -102.04012 38.4...  \n",
       "6   POLYGON ((-73.49794 42.05451, -72.73222 42.035...  \n",
       "7   POLYGON ((-75.04839 38.44876, -75.71462 38.449...  \n",
       "8   POLYGON ((-77.04124 38.78954, -77.04123 38.789...  \n",
       "9   POLYGON ((-87.53039 30.27420, -87.45789 30.411...  \n",
       "10  POLYGON ((-85.00519 30.99069, -85.05442 31.108...  \n",
       "11  MULTIPOLYGON (((-155.93665 19.05939, -155.9080...  \n",
       "12  POLYGON ((-116.04823 49.00037, -115.96780 47.9...  \n",
       "13  POLYGON ((-91.43033 40.36860, -91.41023 40.551...  \n",
       "14  POLYGON ((-88.05108 37.81960, -88.01881 38.021...  \n",
       "15  POLYGON ((-96.45266 43.50179, -95.35994 43.500...  \n",
       "16  POLYGON ((-102.04118 36.99198, -102.04012 38.4...  \n",
       "17  POLYGON ((-89.49836 36.50620, -89.27398 36.611...  \n",
       "18  POLYGON ((-94.05976 33.01212, -93.09403 33.010...  \n",
       "19  POLYGON ((-70.64573 43.09008, -70.75102 43.080...  \n",
       "20  POLYGON ((-75.37754 38.01538, -75.37754 38.015...  \n",
       "21  POLYGON ((-71.80091 42.01325, -72.73222 42.035...  \n",
       "22  POLYGON ((-89.95766 47.28691, -89.84283 47.464...  \n",
       "23  POLYGON ((-89.95766 47.28691, -90.13175 47.292...  \n",
       "24  POLYGON ((-91.15624 33.01000, -91.10808 33.206...  \n",
       "25  POLYGON ((-89.66292 36.02307, -90.31539 36.023...  \n",
       "26  POLYGON ((-116.04823 49.00037, -113.05950 49.0...  \n",
       "27  POLYGON ((-102.05017 40.00081, -102.05017 40.0...  \n",
       "28  POLYGON ((-117.02825 42.00002, -114.03422 41.9...  \n",
       "29  POLYGON ((-70.81505 42.86519, -70.93360 42.884...  \n",
       "30  POLYGON ((-75.52781 39.49865, -75.55427 39.691...  \n",
       "31  POLYGON ((-109.04367 31.34190, -109.04522 36.9...  \n",
       "32  POLYGON ((-73.49794 42.05451, -73.55349 41.289...  \n",
       "33  POLYGON ((-83.07637 34.97903, -84.32097 34.986...  \n",
       "34  POLYGON ((-97.22894 49.00089, -97.21414 48.902...  \n",
       "35  POLYGON ((-84.82368 39.10653, -84.81787 39.799...  \n",
       "36  POLYGON ((-103.00322 36.99516, -102.04118 36.9...  \n",
       "37  POLYGON ((-116.91500 45.99998, -116.67900 45.8...  \n",
       "38  POLYGON ((-80.51893 40.64111, -80.51627 42.324...  \n",
       "39  POLYGON ((-71.85383 41.32004, -71.79295 41.466...  \n",
       "40  POLYGON ((-80.86501 32.03316, -81.03644 32.084...  \n",
       "41  POLYGON ((-96.53945 46.01797, -96.55689 45.872...  \n",
       "42  POLYGON ((-90.24924 35.02083, -90.13493 35.113...  \n",
       "43  POLYGON ((-106.50734 31.75429, -106.61953 31.9...  \n",
       "44  POLYGON ((-114.03422 41.99312, -111.05024 42.0...  \n",
       "45  POLYGON ((-72.45707 42.72708, -73.28203 42.743...  \n",
       "46  MULTIPOLYGON (((-83.33059 36.67266, -83.17851 ...  \n",
       "47  POLYGON ((-117.03143 48.99931, -117.02665 47.7...  \n",
       "48  POLYGON ((-81.97254 37.53595, -82.16728 37.554...  \n",
       "49  POLYGON ((-91.22820 43.50125, -91.25466 43.613...  \n",
       "50  POLYGON ((-111.08518 44.50615, -111.06719 44.5...  "
      ]
     },
     "execution_count": 2,
     "metadata": {},
     "output_type": "execute_result"
    }
   ],
   "source": [
    "import geopandas as gpd  # import geopandas package and set alias as gpd\n",
    "import pandas as pd\n",
    "\n",
    "states = gpd.read_file('./data/states.json')\n",
    "print(type(states))\n",
    "states"
   ]
  },
  {
   "cell_type": "markdown",
   "id": "58479850",
   "metadata": {},
   "source": [
    "### 1.2. Inheritance of Pandas DataFrame\n",
    "\n",
    "`GeoPandas` works the same way with `Pandas`. In other words, you can use most of the functions of `DataFrame` for `GeoDataFrame`. "
   ]
  },
  {
   "cell_type": "code",
   "execution_count": 3,
   "id": "2fa82f4e",
   "metadata": {},
   "outputs": [
    {
     "name": "stdout",
     "output_type": "stream",
     "text": [
      "(51, 6)\n"
     ]
    },
    {
     "data": {
      "text/html": [
       "<div>\n",
       "<style scoped>\n",
       "    .dataframe tbody tr th:only-of-type {\n",
       "        vertical-align: middle;\n",
       "    }\n",
       "\n",
       "    .dataframe tbody tr th {\n",
       "        vertical-align: top;\n",
       "    }\n",
       "\n",
       "    .dataframe thead th {\n",
       "        text-align: right;\n",
       "    }\n",
       "</style>\n",
       "<table border=\"1\" class=\"dataframe\">\n",
       "  <thead>\n",
       "    <tr style=\"text-align: right;\">\n",
       "      <th></th>\n",
       "      <th>name</th>\n",
       "      <th>fips</th>\n",
       "      <th>latitude</th>\n",
       "      <th>longitude</th>\n",
       "      <th>region</th>\n",
       "      <th>geometry</th>\n",
       "    </tr>\n",
       "    <tr>\n",
       "      <th>postal</th>\n",
       "      <th></th>\n",
       "      <th></th>\n",
       "      <th></th>\n",
       "      <th></th>\n",
       "      <th></th>\n",
       "      <th></th>\n",
       "    </tr>\n",
       "  </thead>\n",
       "  <tbody>\n",
       "    <tr>\n",
       "      <th>AL</th>\n",
       "      <td>Alabama</td>\n",
       "      <td>US01</td>\n",
       "      <td>32.8551</td>\n",
       "      <td>-86.7184</td>\n",
       "      <td>South</td>\n",
       "      <td>POLYGON ((-88.16696 34.99967, -86.90968 34.999...</td>\n",
       "    </tr>\n",
       "    <tr>\n",
       "      <th>AK</th>\n",
       "      <td>Alaska</td>\n",
       "      <td>US02</td>\n",
       "      <td>65.3609</td>\n",
       "      <td>-151.6040</td>\n",
       "      <td>West</td>\n",
       "      <td>MULTIPOLYGON (((-153.22873 57.96897, -152.5647...</td>\n",
       "    </tr>\n",
       "    <tr>\n",
       "      <th>AZ</th>\n",
       "      <td>Arizona</td>\n",
       "      <td>US04</td>\n",
       "      <td>34.3046</td>\n",
       "      <td>-111.9350</td>\n",
       "      <td>West</td>\n",
       "      <td>POLYGON ((-109.04522 36.99991, -109.04367 31.3...</td>\n",
       "    </tr>\n",
       "    <tr>\n",
       "      <th>AR</th>\n",
       "      <td>Arkansas</td>\n",
       "      <td>US05</td>\n",
       "      <td>34.7563</td>\n",
       "      <td>-92.1428</td>\n",
       "      <td>South</td>\n",
       "      <td>POLYGON ((-89.66292 36.02307, -89.67351 35.940...</td>\n",
       "    </tr>\n",
       "    <tr>\n",
       "      <th>CA</th>\n",
       "      <td>California</td>\n",
       "      <td>US06</td>\n",
       "      <td>36.7496</td>\n",
       "      <td>-119.5910</td>\n",
       "      <td>West</td>\n",
       "      <td>POLYGON ((-114.64222 35.05311, -114.62212 34.9...</td>\n",
       "    </tr>\n",
       "  </tbody>\n",
       "</table>\n",
       "</div>"
      ],
      "text/plain": [
       "              name  fips  latitude  longitude region  \\\n",
       "postal                                                 \n",
       "AL         Alabama  US01   32.8551   -86.7184  South   \n",
       "AK          Alaska  US02   65.3609  -151.6040   West   \n",
       "AZ         Arizona  US04   34.3046  -111.9350   West   \n",
       "AR        Arkansas  US05   34.7563   -92.1428  South   \n",
       "CA      California  US06   36.7496  -119.5910   West   \n",
       "\n",
       "                                                 geometry  \n",
       "postal                                                     \n",
       "AL      POLYGON ((-88.16696 34.99967, -86.90968 34.999...  \n",
       "AK      MULTIPOLYGON (((-153.22873 57.96897, -152.5647...  \n",
       "AZ      POLYGON ((-109.04522 36.99991, -109.04367 31.3...  \n",
       "AR      POLYGON ((-89.66292 36.02307, -89.67351 35.940...  \n",
       "CA      POLYGON ((-114.64222 35.05311, -114.62212 34.9...  "
      ]
     },
     "execution_count": 3,
     "metadata": {},
     "output_type": "execute_result"
    }
   ],
   "source": [
    "states = states.set_index('postal')  # Define 'postal' column as the index of GeoDataFrame\n",
    "print(states.shape)  # Return the size of GeoDataFrame. In our case, 51 rows and 6 columns\n",
    "states.head()"
   ]
  },
  {
   "cell_type": "code",
   "execution_count": 4,
   "id": "8c531d97",
   "metadata": {
    "scrolled": true
   },
   "outputs": [
    {
     "data": {
      "text/plain": [
       "['Alabama',\n",
       " 'Alaska',\n",
       " 'Arizona',\n",
       " 'Arkansas',\n",
       " 'California',\n",
       " 'Colorado',\n",
       " 'Connecticut',\n",
       " 'Delaware',\n",
       " 'District of Columbia',\n",
       " 'Florida',\n",
       " 'Georgia',\n",
       " 'Hawaii',\n",
       " 'Idaho',\n",
       " 'Illinois',\n",
       " 'Indiana',\n",
       " 'Iowa',\n",
       " 'Kansas',\n",
       " 'Kentucky',\n",
       " 'Louisiana',\n",
       " 'Maine',\n",
       " 'Maryland',\n",
       " 'Massachusetts',\n",
       " 'Michigan',\n",
       " 'Minnesota',\n",
       " 'Mississippi',\n",
       " 'Missouri',\n",
       " 'Montana',\n",
       " 'Nebraska',\n",
       " 'Nevada',\n",
       " 'New Hampshire',\n",
       " 'New Jersey',\n",
       " 'New Mexico',\n",
       " 'New York',\n",
       " 'North Carolina',\n",
       " 'North Dakota',\n",
       " 'Ohio',\n",
       " 'Oklahoma',\n",
       " 'Oregon',\n",
       " 'Pennsylvania',\n",
       " 'Rhode Island',\n",
       " 'South Carolina',\n",
       " 'South Dakota',\n",
       " 'Tennessee',\n",
       " 'Texas',\n",
       " 'Utah',\n",
       " 'Vermont',\n",
       " 'Virginia',\n",
       " 'Washington',\n",
       " 'West Virginia',\n",
       " 'Wisconsin',\n",
       " 'Wyoming']"
      ]
     },
     "execution_count": 4,
     "metadata": {},
     "output_type": "execute_result"
    }
   ],
   "source": [
    "states['name'].to_list()  # Convert GeoSeries to a list"
   ]
  },
  {
   "cell_type": "code",
   "execution_count": 5,
   "id": "807a5ec2",
   "metadata": {},
   "outputs": [
    {
     "data": {
      "text/plain": [
       "'US17'"
      ]
     },
     "execution_count": 5,
     "metadata": {},
     "output_type": "execute_result"
    }
   ],
   "source": [
    "# Call FIPS (Federal Information Processing System) codes of Illinois\n",
    "states.at['IL', 'fips'] "
   ]
  },
  {
   "cell_type": "code",
   "execution_count": 6,
   "id": "d2ef077f",
   "metadata": {},
   "outputs": [
    {
     "data": {
      "text/plain": [
       "postal\n",
       "AL      South\n",
       "IL    Midwest\n",
       "TX      South\n",
       "Name: region, dtype: object"
      ]
     },
     "execution_count": 6,
     "metadata": {},
     "output_type": "execute_result"
    }
   ],
   "source": [
    "# Call regions of Alabama, Illinois, and Texas\n",
    "states.loc[['AL', 'IL', 'TX'], 'region']  "
   ]
  },
  {
   "cell_type": "code",
   "execution_count": 7,
   "id": "943e01f9",
   "metadata": {},
   "outputs": [
    {
     "data": {
      "text/html": [
       "<div>\n",
       "<style scoped>\n",
       "    .dataframe tbody tr th:only-of-type {\n",
       "        vertical-align: middle;\n",
       "    }\n",
       "\n",
       "    .dataframe tbody tr th {\n",
       "        vertical-align: top;\n",
       "    }\n",
       "\n",
       "    .dataframe thead th {\n",
       "        text-align: right;\n",
       "    }\n",
       "</style>\n",
       "<table border=\"1\" class=\"dataframe\">\n",
       "  <thead>\n",
       "    <tr style=\"text-align: right;\">\n",
       "      <th></th>\n",
       "      <th>name</th>\n",
       "      <th>fips</th>\n",
       "      <th>latitude</th>\n",
       "      <th>longitude</th>\n",
       "      <th>region</th>\n",
       "      <th>geometry</th>\n",
       "    </tr>\n",
       "    <tr>\n",
       "      <th>postal</th>\n",
       "      <th></th>\n",
       "      <th></th>\n",
       "      <th></th>\n",
       "      <th></th>\n",
       "      <th></th>\n",
       "      <th></th>\n",
       "    </tr>\n",
       "  </thead>\n",
       "  <tbody>\n",
       "    <tr>\n",
       "      <th>IL</th>\n",
       "      <td>Illinois</td>\n",
       "      <td>US17</td>\n",
       "      <td>39.9460</td>\n",
       "      <td>-89.1991</td>\n",
       "      <td>Midwest</td>\n",
       "      <td>POLYGON ((-91.43033 40.36860, -91.41023 40.551...</td>\n",
       "    </tr>\n",
       "    <tr>\n",
       "      <th>IN</th>\n",
       "      <td>Indiana</td>\n",
       "      <td>US18</td>\n",
       "      <td>39.8874</td>\n",
       "      <td>-86.1396</td>\n",
       "      <td>Midwest</td>\n",
       "      <td>POLYGON ((-88.05108 37.81960, -88.01881 38.021...</td>\n",
       "    </tr>\n",
       "    <tr>\n",
       "      <th>IA</th>\n",
       "      <td>Iowa</td>\n",
       "      <td>US19</td>\n",
       "      <td>42.0423</td>\n",
       "      <td>-93.3891</td>\n",
       "      <td>Midwest</td>\n",
       "      <td>POLYGON ((-96.45266 43.50179, -95.35994 43.500...</td>\n",
       "    </tr>\n",
       "    <tr>\n",
       "      <th>KS</th>\n",
       "      <td>Kansas</td>\n",
       "      <td>US20</td>\n",
       "      <td>38.5000</td>\n",
       "      <td>-98.3309</td>\n",
       "      <td>Midwest</td>\n",
       "      <td>POLYGON ((-102.04118 36.99198, -102.04012 38.4...</td>\n",
       "    </tr>\n",
       "    <tr>\n",
       "      <th>MI</th>\n",
       "      <td>Michigan</td>\n",
       "      <td>US26</td>\n",
       "      <td>43.4343</td>\n",
       "      <td>-84.9479</td>\n",
       "      <td>Midwest</td>\n",
       "      <td>POLYGON ((-89.95766 47.28691, -89.84283 47.464...</td>\n",
       "    </tr>\n",
       "    <tr>\n",
       "      <th>MN</th>\n",
       "      <td>Minnesota</td>\n",
       "      <td>US27</td>\n",
       "      <td>46.0592</td>\n",
       "      <td>-93.3640</td>\n",
       "      <td>Midwest</td>\n",
       "      <td>POLYGON ((-89.95766 47.28691, -90.13175 47.292...</td>\n",
       "    </tr>\n",
       "    <tr>\n",
       "      <th>MO</th>\n",
       "      <td>Missouri</td>\n",
       "      <td>US29</td>\n",
       "      <td>38.5487</td>\n",
       "      <td>-92.4460</td>\n",
       "      <td>Midwest</td>\n",
       "      <td>POLYGON ((-89.66292 36.02307, -90.31539 36.023...</td>\n",
       "    </tr>\n",
       "    <tr>\n",
       "      <th>NE</th>\n",
       "      <td>Nebraska</td>\n",
       "      <td>US31</td>\n",
       "      <td>41.5002</td>\n",
       "      <td>-99.6855</td>\n",
       "      <td>Midwest</td>\n",
       "      <td>POLYGON ((-102.05017 40.00081, -102.05017 40.0...</td>\n",
       "    </tr>\n",
       "    <tr>\n",
       "      <th>ND</th>\n",
       "      <td>North Dakota</td>\n",
       "      <td>US38</td>\n",
       "      <td>47.4675</td>\n",
       "      <td>-100.3020</td>\n",
       "      <td>Midwest</td>\n",
       "      <td>POLYGON ((-97.22894 49.00089, -97.21414 48.902...</td>\n",
       "    </tr>\n",
       "    <tr>\n",
       "      <th>OH</th>\n",
       "      <td>Ohio</td>\n",
       "      <td>US39</td>\n",
       "      <td>40.0924</td>\n",
       "      <td>-82.6719</td>\n",
       "      <td>Midwest</td>\n",
       "      <td>POLYGON ((-84.82368 39.10653, -84.81787 39.799...</td>\n",
       "    </tr>\n",
       "    <tr>\n",
       "      <th>SD</th>\n",
       "      <td>South Dakota</td>\n",
       "      <td>US46</td>\n",
       "      <td>44.4711</td>\n",
       "      <td>-100.2550</td>\n",
       "      <td>Midwest</td>\n",
       "      <td>POLYGON ((-96.53945 46.01797, -96.55689 45.872...</td>\n",
       "    </tr>\n",
       "    <tr>\n",
       "      <th>WI</th>\n",
       "      <td>Wisconsin</td>\n",
       "      <td>US55</td>\n",
       "      <td>44.3709</td>\n",
       "      <td>-89.5831</td>\n",
       "      <td>Midwest</td>\n",
       "      <td>POLYGON ((-91.22820 43.50125, -91.25466 43.613...</td>\n",
       "    </tr>\n",
       "  </tbody>\n",
       "</table>\n",
       "</div>"
      ],
      "text/plain": [
       "                name  fips  latitude  longitude   region  \\\n",
       "postal                                                     \n",
       "IL          Illinois  US17   39.9460   -89.1991  Midwest   \n",
       "IN           Indiana  US18   39.8874   -86.1396  Midwest   \n",
       "IA              Iowa  US19   42.0423   -93.3891  Midwest   \n",
       "KS            Kansas  US20   38.5000   -98.3309  Midwest   \n",
       "MI          Michigan  US26   43.4343   -84.9479  Midwest   \n",
       "MN         Minnesota  US27   46.0592   -93.3640  Midwest   \n",
       "MO          Missouri  US29   38.5487   -92.4460  Midwest   \n",
       "NE          Nebraska  US31   41.5002   -99.6855  Midwest   \n",
       "ND      North Dakota  US38   47.4675  -100.3020  Midwest   \n",
       "OH              Ohio  US39   40.0924   -82.6719  Midwest   \n",
       "SD      South Dakota  US46   44.4711  -100.2550  Midwest   \n",
       "WI         Wisconsin  US55   44.3709   -89.5831  Midwest   \n",
       "\n",
       "                                                 geometry  \n",
       "postal                                                     \n",
       "IL      POLYGON ((-91.43033 40.36860, -91.41023 40.551...  \n",
       "IN      POLYGON ((-88.05108 37.81960, -88.01881 38.021...  \n",
       "IA      POLYGON ((-96.45266 43.50179, -95.35994 43.500...  \n",
       "KS      POLYGON ((-102.04118 36.99198, -102.04012 38.4...  \n",
       "MI      POLYGON ((-89.95766 47.28691, -89.84283 47.464...  \n",
       "MN      POLYGON ((-89.95766 47.28691, -90.13175 47.292...  \n",
       "MO      POLYGON ((-89.66292 36.02307, -90.31539 36.023...  \n",
       "NE      POLYGON ((-102.05017 40.00081, -102.05017 40.0...  \n",
       "ND      POLYGON ((-97.22894 49.00089, -97.21414 48.902...  \n",
       "OH      POLYGON ((-84.82368 39.10653, -84.81787 39.799...  \n",
       "SD      POLYGON ((-96.53945 46.01797, -96.55689 45.872...  \n",
       "WI      POLYGON ((-91.22820 43.50125, -91.25466 43.613...  "
      ]
     },
     "execution_count": 7,
     "metadata": {},
     "output_type": "execute_result"
    }
   ],
   "source": [
    "# Call regions of Midwest with a conditional statement\n",
    "states.loc[states['region'] == 'Midwest']"
   ]
  },
  {
   "cell_type": "markdown",
   "id": "f42c1250",
   "metadata": {},
   "source": [
    "### 1.3. Plot(); Major difference between GeoDataFrame and DataFrame\n",
    "\n",
    "If you use `plot()` function in Pandas DataFrame, you will get a plot of numerical values. However, `plot()` in GeoPandas GeoDataFrame will give you a map. "
   ]
  },
  {
   "cell_type": "code",
   "execution_count": 8,
   "id": "ca710722",
   "metadata": {
    "scrolled": true
   },
   "outputs": [
    {
     "data": {
      "text/plain": [
       "<AxesSubplot:>"
      ]
     },
     "execution_count": 8,
     "metadata": {},
     "output_type": "execute_result"
    },
    {
     "data": {
      "image/png": "[encoded data removed]",
      "text/plain": [
       "<Figure size 432x288 with 1 Axes>"
      ]
     },
     "metadata": {
      "needs_background": "light"
     },
     "output_type": "display_data"
    }
   ],
   "source": [
    "# Example of Pandas DataFrame\n",
    "df = pd.read_csv('./data/daily_case.csv')\n",
    "df = df.set_index('County')\n",
    "df.transpose().plot()"
   ]
  },
  {
   "cell_type": "code",
   "execution_count": 9,
   "id": "084bea0d-51cc-4cdd-aa66-980a565b4415",
   "metadata": {},
   "outputs": [
    {
     "data": {
      "text/plain": [
       "<AxesSubplot:>"
      ]
     },
     "execution_count": 9,
     "metadata": {},
     "output_type": "execute_result"
    },
    {
     "data": {
      "image/png": "[encoded data removed]",
      "text/plain": [
       "<Figure size 432x288 with 1 Axes>"
      ]
     },
     "metadata": {
      "needs_background": "light"
     },
     "output_type": "display_data"
    }
   ],
   "source": [
    "# Example of GeoPandas GeoDataFrame\n",
    "# You can specify its color with 'color' attribute. \n",
    "states.plot(color='black')"
   ]
  },
  {
   "cell_type": "markdown",
   "id": "138db08a",
   "metadata": {},
   "source": [
    "Given that `geopandas` is specialized in geospatial analysis, it stores coordinates system as its attribute, too. You can check `Coordinate Reference System (CRS)` of the dataset with `.crs` attrbitue. "
   ]
  },
  {
   "cell_type": "code",
   "execution_count": 10,
   "id": "5910425a",
   "metadata": {
    "scrolled": true
   },
   "outputs": [
    {
     "name": "stdout",
     "output_type": "stream",
     "text": [
      "epsg:4326\n",
      "<class 'pyproj.crs.crs.CRS'>\n"
     ]
    }
   ],
   "source": [
    "print(states.crs) # coordinate system of imported dataset, here epsg:4326 indicates WGS 1984. \n",
    "print(type(states.crs)) # the coordinate system information is stored with `pyproj` package. "
   ]
  },
  {
   "cell_type": "markdown",
   "id": "613d46f3",
   "metadata": {},
   "source": [
    "You can change the crs with `to_crs()` function. Simply type epsg code with the attribute name `epsg`."
   ]
  },
  {
   "cell_type": "code",
   "execution_count": 11,
   "id": "4ac97cce",
   "metadata": {},
   "outputs": [
    {
     "name": "stdout",
     "output_type": "stream",
     "text": [
      "epsg:5070\n"
     ]
    },
    {
     "data": {
      "text/plain": [
       "<AxesSubplot:>"
      ]
     },
     "execution_count": 11,
     "metadata": {},
     "output_type": "execute_result"
    },
    {
     "data": {
      "image/png": "[encoded data removed]",
      "text/plain": [
       "<Figure size 432x288 with 1 Axes>"
      ]
     },
     "metadata": {
      "needs_background": "light"
     },
     "output_type": "display_data"
    }
   ],
   "source": [
    "albers = states.to_crs(epsg=5070)  # project from WGS84 to USA Contiguous Albers Equal Area Conic (EPSG: 5070). \n",
    "print(albers.crs)\n",
    "albers.plot(color='black')"
   ]
  },
  {
   "cell_type": "markdown",
   "id": "ea6d34fc",
   "metadata": {},
   "source": [
    "You must have noticed that `GeoDataFrame` has an additional column than normal `DataFrame`, which is `geometry` column. `GeoPandas` takes advantage of the column to store geospatial data, with `Shapely`. This is why we can visualize maps with `GeoPandas`."
   ]
  },
  {
   "cell_type": "code",
   "execution_count": 12,
   "id": "4fc141ed",
   "metadata": {},
   "outputs": [
    {
     "data": {
      "text/html": [
       "<div>\n",
       "<style scoped>\n",
       "    .dataframe tbody tr th:only-of-type {\n",
       "        vertical-align: middle;\n",
       "    }\n",
       "\n",
       "    .dataframe tbody tr th {\n",
       "        vertical-align: top;\n",
       "    }\n",
       "\n",
       "    .dataframe thead th {\n",
       "        text-align: right;\n",
       "    }\n",
       "</style>\n",
       "<table border=\"1\" class=\"dataframe\">\n",
       "  <thead>\n",
       "    <tr style=\"text-align: right;\">\n",
       "      <th></th>\n",
       "      <th>name</th>\n",
       "      <th>fips</th>\n",
       "      <th>latitude</th>\n",
       "      <th>longitude</th>\n",
       "      <th>region</th>\n",
       "      <th>geometry</th>\n",
       "    </tr>\n",
       "    <tr>\n",
       "      <th>postal</th>\n",
       "      <th></th>\n",
       "      <th></th>\n",
       "      <th></th>\n",
       "      <th></th>\n",
       "      <th></th>\n",
       "      <th></th>\n",
       "    </tr>\n",
       "  </thead>\n",
       "  <tbody>\n",
       "    <tr>\n",
       "      <th>AL</th>\n",
       "      <td>Alabama</td>\n",
       "      <td>US01</td>\n",
       "      <td>32.8551</td>\n",
       "      <td>-86.7184</td>\n",
       "      <td>South</td>\n",
       "      <td>POLYGON ((-88.16696 34.99967, -86.90968 34.999...</td>\n",
       "    </tr>\n",
       "    <tr>\n",
       "      <th>AK</th>\n",
       "      <td>Alaska</td>\n",
       "      <td>US02</td>\n",
       "      <td>65.3609</td>\n",
       "      <td>-151.6040</td>\n",
       "      <td>West</td>\n",
       "      <td>MULTIPOLYGON (((-153.22873 57.96897, -152.5647...</td>\n",
       "    </tr>\n",
       "    <tr>\n",
       "      <th>AZ</th>\n",
       "      <td>Arizona</td>\n",
       "      <td>US04</td>\n",
       "      <td>34.3046</td>\n",
       "      <td>-111.9350</td>\n",
       "      <td>West</td>\n",
       "      <td>POLYGON ((-109.04522 36.99991, -109.04367 31.3...</td>\n",
       "    </tr>\n",
       "    <tr>\n",
       "      <th>AR</th>\n",
       "      <td>Arkansas</td>\n",
       "      <td>US05</td>\n",
       "      <td>34.7563</td>\n",
       "      <td>-92.1428</td>\n",
       "      <td>South</td>\n",
       "      <td>POLYGON ((-89.66292 36.02307, -89.67351 35.940...</td>\n",
       "    </tr>\n",
       "    <tr>\n",
       "      <th>CA</th>\n",
       "      <td>California</td>\n",
       "      <td>US06</td>\n",
       "      <td>36.7496</td>\n",
       "      <td>-119.5910</td>\n",
       "      <td>West</td>\n",
       "      <td>POLYGON ((-114.64222 35.05311, -114.62212 34.9...</td>\n",
       "    </tr>\n",
       "  </tbody>\n",
       "</table>\n",
       "</div>"
      ],
      "text/plain": [
       "              name  fips  latitude  longitude region  \\\n",
       "postal                                                 \n",
       "AL         Alabama  US01   32.8551   -86.7184  South   \n",
       "AK          Alaska  US02   65.3609  -151.6040   West   \n",
       "AZ         Arizona  US04   34.3046  -111.9350   West   \n",
       "AR        Arkansas  US05   34.7563   -92.1428  South   \n",
       "CA      California  US06   36.7496  -119.5910   West   \n",
       "\n",
       "                                                 geometry  \n",
       "postal                                                     \n",
       "AL      POLYGON ((-88.16696 34.99967, -86.90968 34.999...  \n",
       "AK      MULTIPOLYGON (((-153.22873 57.96897, -152.5647...  \n",
       "AZ      POLYGON ((-109.04522 36.99991, -109.04367 31.3...  \n",
       "AR      POLYGON ((-89.66292 36.02307, -89.67351 35.940...  \n",
       "CA      POLYGON ((-114.64222 35.05311, -114.62212 34.9...  "
      ]
     },
     "execution_count": 12,
     "metadata": {},
     "output_type": "execute_result"
    }
   ],
   "source": [
    "states.head()"
   ]
  },
  {
   "cell_type": "markdown",
   "id": "6b343870",
   "metadata": {},
   "source": [
    "## 2. Data Creation\n",
    "### 2.1. Creating Vector data with `Shapely`\n",
    "\n",
    "`Shapely` has the following classes to represent geometry.\n",
    "\n",
    "| Geometry Type | Class |\n",
    "| :-: | :-: |\n",
    "| Point | shapely.geometry.Point() | \n",
    "| Line | shapely.geometry.LineString() <br> shapely.geometry.polygon.LinearRing() | \n",
    "| Polygon | shapely.geometry.Polygon() | \n",
    "| Collection of points | shapely.geometry.MultiPoint() | \n",
    "| Collection of lines | shapely.geometry.MultiLineString() | \n",
    "| Collection of polygons | shapely.geometry.MultiPolygon() | "
   ]
  },
  {
   "cell_type": "code",
   "execution_count": 13,
   "id": "f30cd301",
   "metadata": {},
   "outputs": [],
   "source": [
    "from shapely.geometry import Point, LineString, Polygon, MultiPoint, MultiLineString, MultiPolygon"
   ]
  },
  {
   "cell_type": "code",
   "execution_count": 14,
   "id": "e86c7834",
   "metadata": {
    "scrolled": true
   },
   "outputs": [
    {
     "name": "stdout",
     "output_type": "stream",
     "text": [
      "POINT (2 2)\n",
      "<class 'shapely.geometry.point.Point'>\n"
     ]
    },
    {
     "data": {
      "image/svg+xml": [
       "<svg xmlns=\"http://www.w3.org/2000/svg\" xmlns:xlink=\"http://www.w3.org/1999/xlink\" width=\"100.0\" height=\"100.0\" viewBox=\"1.0 1.0 2.0 2.0\" preserveAspectRatio=\"xMinYMin meet\"><g transform=\"matrix(1,0,0,-1,0,4.0)\"><circle cx=\"2.0\" cy=\"2.0\" r=\"0.06\" stroke=\"#555555\" stroke-width=\"0.02\" fill=\"#66cc99\" opacity=\"0.6\" /></g></svg>"
      ],
      "text/plain": [
       "<shapely.geometry.point.Point at 0x1621eb880>"
      ]
     },
     "execution_count": 14,
     "metadata": {},
     "output_type": "execute_result"
    }
   ],
   "source": [
    "# creating a point\n",
    "pnt = Point(2.0, 2.0)  # x, y coordinates of a point\n",
    "print(pnt.wkt)\n",
    "print(type(pnt))\n",
    "pnt"
   ]
  },
  {
   "cell_type": "code",
   "execution_count": 15,
   "id": "d1864c54",
   "metadata": {},
   "outputs": [
    {
     "name": "stdout",
     "output_type": "stream",
     "text": [
      "LINESTRING (0 0, 3 5, 8 6, 10 10)\n",
      "<class 'shapely.geometry.linestring.LineString'>\n"
     ]
    },
    {
     "data": {
      "image/svg+xml": [
       "<svg xmlns=\"http://www.w3.org/2000/svg\" xmlns:xlink=\"http://www.w3.org/1999/xlink\" width=\"100.0\" height=\"100.0\" viewBox=\"-0.4 -0.4 10.8 10.8\" preserveAspectRatio=\"xMinYMin meet\"><g transform=\"matrix(1,0,0,-1,0,10.0)\"><polyline fill=\"none\" stroke=\"#66cc99\" stroke-width=\"0.21600000000000003\" points=\"0.0,0.0 3.0,5.0 8.0,6.0 10.0,10.0\" opacity=\"0.8\" /></g></svg>"
      ],
      "text/plain": [
       "<shapely.geometry.linestring.LineString at 0x1626d8d00>"
      ]
     },
     "execution_count": 15,
     "metadata": {},
     "output_type": "execute_result"
    }
   ],
   "source": [
    "# creating a line\n",
    "line = LineString([(0, 0), (3,5), (8, 6), (10,10)])  # x, y coordinates of sequences of points\n",
    "print(line.wkt)\n",
    "print(type(line))\n",
    "line"
   ]
  },
  {
   "cell_type": "code",
   "execution_count": 16,
   "id": "87141beb",
   "metadata": {},
   "outputs": [
    {
     "name": "stdout",
     "output_type": "stream",
     "text": [
      "LINEARRING (0 0, 3 3, 5 8, 3 0, 0 0)\n",
      "<class 'shapely.geometry.polygon.LinearRing'>\n"
     ]
    },
    {
     "data": {
      "image/svg+xml": [
       "<svg xmlns=\"http://www.w3.org/2000/svg\" xmlns:xlink=\"http://www.w3.org/1999/xlink\" width=\"100.0\" height=\"100.0\" viewBox=\"-0.32 -0.32 5.640000000000001 8.64\" preserveAspectRatio=\"xMinYMin meet\"><g transform=\"matrix(1,0,0,-1,0,8.0)\"><polyline fill=\"none\" stroke=\"#66cc99\" stroke-width=\"0.1728\" points=\"0.0,0.0 3.0,3.0 5.0,8.0 3.0,0.0 0.0,0.0\" opacity=\"0.8\" /></g></svg>"
      ],
      "text/plain": [
       "<shapely.geometry.polygon.LinearRing at 0x162651720>"
      ]
     },
     "execution_count": 16,
     "metadata": {},
     "output_type": "execute_result"
    }
   ],
   "source": [
    "# creating a ring\n",
    "from shapely.geometry.polygon import LinearRing\n",
    "ring = LinearRing([(0,0), (3,3), (5,8), (3,0)])  # The purpose of this class is to create a boundary of a polygon\n",
    "print(ring.wkt)\n",
    "print(type(ring))\n",
    "ring"
   ]
  },
  {
   "cell_type": "code",
   "execution_count": 17,
   "id": "cde7df4b",
   "metadata": {},
   "outputs": [
    {
     "name": "stdout",
     "output_type": "stream",
     "text": [
      "POLYGON ((0 0, 5 0, 5 7, 0 9, 0 0))\n",
      "<class 'shapely.geometry.polygon.Polygon'>\n"
     ]
    },
    {
     "data": {
      "image/svg+xml": [
       "<svg xmlns=\"http://www.w3.org/2000/svg\" xmlns:xlink=\"http://www.w3.org/1999/xlink\" width=\"100.0\" height=\"100.0\" viewBox=\"-0.36 -0.36 5.720000000000001 9.719999999999999\" preserveAspectRatio=\"xMinYMin meet\"><g transform=\"matrix(1,0,0,-1,0,9.0)\"><path fill-rule=\"evenodd\" fill=\"#66cc99\" stroke=\"#555555\" stroke-width=\"0.1944\" opacity=\"0.6\" d=\"M 0.0,0.0 L 5.0,0.0 L 5.0,7.0 L 0.0,9.0 L 0.0,0.0 z\" /></g></svg>"
      ],
      "text/plain": [
       "<shapely.geometry.polygon.Polygon at 0x1627b1090>"
      ]
     },
     "execution_count": 17,
     "metadata": {},
     "output_type": "execute_result"
    }
   ],
   "source": [
    "# creating a polygon\n",
    "pyg = Polygon(((0, 0), (5, 0), (5, 7), (0, 9))) # The order should be kept. \n",
    "print(pyg.wkt)\n",
    "print(type(pyg))\n",
    "pyg"
   ]
  },
  {
   "cell_type": "code",
   "execution_count": 18,
   "id": "e038a753",
   "metadata": {},
   "outputs": [
    {
     "data": {
      "image/svg+xml": [
       "<svg xmlns=\"http://www.w3.org/2000/svg\" xmlns:xlink=\"http://www.w3.org/1999/xlink\" width=\"100.0\" height=\"100.0\" viewBox=\"-0.36 -0.36 5.720000000000001 9.719999999999999\" preserveAspectRatio=\"xMinYMin meet\"><g transform=\"matrix(1,0,0,-1,0,9.0)\"><path fill-rule=\"evenodd\" fill=\"#ff3333\" stroke=\"#555555\" stroke-width=\"0.1944\" opacity=\"0.6\" d=\"M 0.0,0.0 L 5.0,7.0 L 5.0,0.0 L 0.0,9.0 L 0.0,0.0 z\" /></g></svg>"
      ],
      "text/plain": [
       "<shapely.geometry.polygon.Polygon at 0x1627b05b0>"
      ]
     },
     "execution_count": 18,
     "metadata": {},
     "output_type": "execute_result"
    }
   ],
   "source": [
    "# The order of points matters. The example below shows a situation if the order of points is messed up. \n",
    "pyg2 = Polygon(((0, 0), (5, 7), (5, 0), (0, 9)))\n",
    "pyg2"
   ]
  },
  {
   "cell_type": "code",
   "execution_count": 19,
   "id": "5ed0fc8c",
   "metadata": {},
   "outputs": [
    {
     "name": "stdout",
     "output_type": "stream",
     "text": [
      "MULTIPOINT (0 0, 3 3)\n",
      "<class 'shapely.geometry.multipoint.MultiPoint'>\n"
     ]
    },
    {
     "data": {
      "image/svg+xml": [
       "<svg xmlns=\"http://www.w3.org/2000/svg\" xmlns:xlink=\"http://www.w3.org/1999/xlink\" width=\"100.0\" height=\"100.0\" viewBox=\"-0.12 -0.12 3.24 3.24\" preserveAspectRatio=\"xMinYMin meet\"><g transform=\"matrix(1,0,0,-1,0,3.0)\"><g><circle cx=\"0.0\" cy=\"0.0\" r=\"0.09720000000000001\" stroke=\"#555555\" stroke-width=\"0.032400000000000005\" fill=\"#66cc99\" opacity=\"0.6\" /><circle cx=\"3.0\" cy=\"3.0\" r=\"0.09720000000000001\" stroke=\"#555555\" stroke-width=\"0.032400000000000005\" fill=\"#66cc99\" opacity=\"0.6\" /></g></g></svg>"
      ],
      "text/plain": [
       "<shapely.geometry.multipoint.MultiPoint at 0x1627b1f60>"
      ]
     },
     "execution_count": 19,
     "metadata": {},
     "output_type": "execute_result"
    }
   ],
   "source": [
    "# a collection of points\n",
    "pnts = MultiPoint([(0.0, 0.0), (3.0, 3.0)])\n",
    "print(pnts.wkt)\n",
    "print(type(pnts))\n",
    "pnts"
   ]
  },
  {
   "cell_type": "code",
   "execution_count": 20,
   "id": "c5630ae2",
   "metadata": {},
   "outputs": [
    {
     "name": "stdout",
     "output_type": "stream",
     "text": [
      "POINT (0 0)\n",
      "<class 'shapely.geometry.point.Point'>\n"
     ]
    },
    {
     "data": {
      "image/svg+xml": [
       "<svg xmlns=\"http://www.w3.org/2000/svg\" xmlns:xlink=\"http://www.w3.org/1999/xlink\" width=\"100.0\" height=\"100.0\" viewBox=\"-1.0 -1.0 2.0 2.0\" preserveAspectRatio=\"xMinYMin meet\"><g transform=\"matrix(1,0,0,-1,0,0.0)\"><circle cx=\"0.0\" cy=\"0.0\" r=\"0.06\" stroke=\"#555555\" stroke-width=\"0.02\" fill=\"#66cc99\" opacity=\"0.6\" /></g></svg>"
      ],
      "text/plain": [
       "<shapely.geometry.point.Point at 0x1627b1780>"
      ]
     },
     "execution_count": 20,
     "metadata": {},
     "output_type": "execute_result"
    }
   ],
   "source": [
    "# how to slice a collection of points\n",
    "pnt1 = pnts.geoms[0]\n",
    "print(pnt1.wkt)\n",
    "print(type(pnt1))\n",
    "pnt1"
   ]
  },
  {
   "cell_type": "markdown",
   "id": "857a3013",
   "metadata": {},
   "source": [
    "###  2.2. Converting DataFrame to GeoDataFrame"
   ]
  },
  {
   "cell_type": "code",
   "execution_count": 21,
   "id": "bdb70a14",
   "metadata": {},
   "outputs": [
    {
     "data": {
      "text/html": [
       "<div>\n",
       "<style scoped>\n",
       "    .dataframe tbody tr th:only-of-type {\n",
       "        vertical-align: middle;\n",
       "    }\n",
       "\n",
       "    .dataframe tbody tr th {\n",
       "        vertical-align: top;\n",
       "    }\n",
       "\n",
       "    .dataframe thead th {\n",
       "        text-align: right;\n",
       "    }\n",
       "</style>\n",
       "<table border=\"1\" class=\"dataframe\">\n",
       "  <thead>\n",
       "    <tr style=\"text-align: right;\">\n",
       "      <th></th>\n",
       "      <th>City</th>\n",
       "      <th>Country</th>\n",
       "      <th>Latitude</th>\n",
       "      <th>Longitude</th>\n",
       "    </tr>\n",
       "  </thead>\n",
       "  <tbody>\n",
       "    <tr>\n",
       "      <th>0</th>\n",
       "      <td>Buenos Aires</td>\n",
       "      <td>Argentina</td>\n",
       "      <td>-34.58</td>\n",
       "      <td>-58.66</td>\n",
       "    </tr>\n",
       "    <tr>\n",
       "      <th>1</th>\n",
       "      <td>Brasilia</td>\n",
       "      <td>Brazil</td>\n",
       "      <td>-15.78</td>\n",
       "      <td>-47.91</td>\n",
       "    </tr>\n",
       "    <tr>\n",
       "      <th>2</th>\n",
       "      <td>Santiago</td>\n",
       "      <td>Chile</td>\n",
       "      <td>-33.45</td>\n",
       "      <td>-70.66</td>\n",
       "    </tr>\n",
       "    <tr>\n",
       "      <th>3</th>\n",
       "      <td>Bogota</td>\n",
       "      <td>Colombia</td>\n",
       "      <td>4.60</td>\n",
       "      <td>-74.08</td>\n",
       "    </tr>\n",
       "    <tr>\n",
       "      <th>4</th>\n",
       "      <td>Caracas</td>\n",
       "      <td>Venezuela</td>\n",
       "      <td>10.48</td>\n",
       "      <td>-66.86</td>\n",
       "    </tr>\n",
       "  </tbody>\n",
       "</table>\n",
       "</div>"
      ],
      "text/plain": [
       "           City    Country  Latitude  Longitude\n",
       "0  Buenos Aires  Argentina    -34.58     -58.66\n",
       "1      Brasilia     Brazil    -15.78     -47.91\n",
       "2      Santiago      Chile    -33.45     -70.66\n",
       "3        Bogota   Colombia      4.60     -74.08\n",
       "4       Caracas  Venezuela     10.48     -66.86"
      ]
     },
     "execution_count": 21,
     "metadata": {},
     "output_type": "execute_result"
    }
   ],
   "source": [
    "import pandas as pd\n",
    "\n",
    "# Create a DataFrame with the capitals and its coordinates of some countries in South America. \n",
    "capitals = pd.DataFrame(\n",
    "    {'City': ['Buenos Aires', 'Brasilia', 'Santiago', 'Bogota', 'Caracas'],\n",
    "     'Country': ['Argentina', 'Brazil', 'Chile', 'Colombia', 'Venezuela'],\n",
    "     'Latitude': [-34.58, -15.78, -33.45, 4.60, 10.48],\n",
    "     'Longitude': [-58.66, -47.91, -70.66, -74.08, -66.86]})\n",
    "\n",
    "capitals"
   ]
  },
  {
   "cell_type": "code",
   "execution_count": 22,
   "id": "900053cc",
   "metadata": {},
   "outputs": [
    {
     "data": {
      "text/html": [
       "<div>\n",
       "<style scoped>\n",
       "    .dataframe tbody tr th:only-of-type {\n",
       "        vertical-align: middle;\n",
       "    }\n",
       "\n",
       "    .dataframe tbody tr th {\n",
       "        vertical-align: top;\n",
       "    }\n",
       "\n",
       "    .dataframe thead th {\n",
       "        text-align: right;\n",
       "    }\n",
       "</style>\n",
       "<table border=\"1\" class=\"dataframe\">\n",
       "  <thead>\n",
       "    <tr style=\"text-align: right;\">\n",
       "      <th></th>\n",
       "      <th>City</th>\n",
       "      <th>Country</th>\n",
       "      <th>Latitude</th>\n",
       "      <th>Longitude</th>\n",
       "      <th>geometry</th>\n",
       "    </tr>\n",
       "  </thead>\n",
       "  <tbody>\n",
       "    <tr>\n",
       "      <th>0</th>\n",
       "      <td>Buenos Aires</td>\n",
       "      <td>Argentina</td>\n",
       "      <td>-34.58</td>\n",
       "      <td>-58.66</td>\n",
       "      <td>POINT (-58.66000 -34.58000)</td>\n",
       "    </tr>\n",
       "    <tr>\n",
       "      <th>1</th>\n",
       "      <td>Brasilia</td>\n",
       "      <td>Brazil</td>\n",
       "      <td>-15.78</td>\n",
       "      <td>-47.91</td>\n",
       "      <td>POINT (-47.91000 -15.78000)</td>\n",
       "    </tr>\n",
       "    <tr>\n",
       "      <th>2</th>\n",
       "      <td>Santiago</td>\n",
       "      <td>Chile</td>\n",
       "      <td>-33.45</td>\n",
       "      <td>-70.66</td>\n",
       "      <td>POINT (-70.66000 -33.45000)</td>\n",
       "    </tr>\n",
       "    <tr>\n",
       "      <th>3</th>\n",
       "      <td>Bogota</td>\n",
       "      <td>Colombia</td>\n",
       "      <td>4.60</td>\n",
       "      <td>-74.08</td>\n",
       "      <td>POINT (-74.08000 4.60000)</td>\n",
       "    </tr>\n",
       "    <tr>\n",
       "      <th>4</th>\n",
       "      <td>Caracas</td>\n",
       "      <td>Venezuela</td>\n",
       "      <td>10.48</td>\n",
       "      <td>-66.86</td>\n",
       "      <td>POINT (-66.86000 10.48000)</td>\n",
       "    </tr>\n",
       "  </tbody>\n",
       "</table>\n",
       "</div>"
      ],
      "text/plain": [
       "           City    Country  Latitude  Longitude                     geometry\n",
       "0  Buenos Aires  Argentina    -34.58     -58.66  POINT (-58.66000 -34.58000)\n",
       "1      Brasilia     Brazil    -15.78     -47.91  POINT (-47.91000 -15.78000)\n",
       "2      Santiago      Chile    -33.45     -70.66  POINT (-70.66000 -33.45000)\n",
       "3        Bogota   Colombia      4.60     -74.08    POINT (-74.08000 4.60000)\n",
       "4       Caracas  Venezuela     10.48     -66.86   POINT (-66.86000 10.48000)"
      ]
     },
     "execution_count": 22,
     "metadata": {},
     "output_type": "execute_result"
    }
   ],
   "source": [
    "capitals_gdf = gpd.GeoDataFrame(capitals, \n",
    "                                # a function to create points based on given coordinates\n",
    "                                geometry=gpd.points_from_xy(capitals.Longitude, capitals.Latitude) \n",
    "                               )\n",
    "capitals_gdf"
   ]
  },
  {
   "cell_type": "markdown",
   "id": "bb1f07e2",
   "metadata": {},
   "source": [
    "`capitals_gdf` is just created from DataFrame so it does not have crs. However, it is still able to be plotted."
   ]
  },
  {
   "cell_type": "code",
   "execution_count": 23,
   "id": "5bb2bf2b",
   "metadata": {},
   "outputs": [
    {
     "name": "stdout",
     "output_type": "stream",
     "text": [
      "None\n"
     ]
    },
    {
     "data": {
      "text/plain": [
       "<AxesSubplot:>"
      ]
     },
     "execution_count": 23,
     "metadata": {},
     "output_type": "execute_result"
    },
    {
     "data": {
      "image/png": "[encoded data removed]",
      "text/plain": [
       "<Figure size 432x288 with 1 Axes>"
      ]
     },
     "metadata": {
      "needs_background": "light"
     },
     "output_type": "display_data"
    }
   ],
   "source": [
    "print(capitals_gdf.crs)\n",
    "capitals_gdf.plot()"
   ]
  },
  {
   "cell_type": "code",
   "execution_count": 24,
   "id": "f2d8f192",
   "metadata": {},
   "outputs": [
    {
     "data": {
      "text/plain": [
       "<Geographic 2D CRS: EPSG:4326>\n",
       "Name: WGS 84\n",
       "Axis Info [ellipsoidal]:\n",
       "- Lat[north]: Geodetic latitude (degree)\n",
       "- Lon[east]: Geodetic longitude (degree)\n",
       "Area of Use:\n",
       "- name: World.\n",
       "- bounds: (-180.0, -90.0, 180.0, 90.0)\n",
       "Datum: World Geodetic System 1984 ensemble\n",
       "- Ellipsoid: WGS 84\n",
       "- Prime Meridian: Greenwich"
      ]
     },
     "execution_count": 24,
     "metadata": {},
     "output_type": "execute_result"
    }
   ],
   "source": [
    "'''\n",
    "# The most up to date version ('0.10.2') of GeoPandas has the function `set_crs()`, that can be used as shown below. \n",
    "capitals_gdf = capitals_gdf.set_crs(epsg=4326)\n",
    "\n",
    "However, we will do it another way that the current version on CyberGISX support, given its version of GeoPandas is 0.7.0. \n",
    "'''\n",
    "import pyproj\n",
    "\n",
    "capitals_gdf.crs = pyproj.CRS.from_user_input('epsg:4326')\n",
    "capitals_gdf.crs"
   ]
  },
  {
   "cell_type": "code",
   "execution_count": 25,
   "id": "1276d2b4",
   "metadata": {},
   "outputs": [
    {
     "data": {
      "text/plain": [
       "<AxesSubplot:>"
      ]
     },
     "execution_count": 25,
     "metadata": {},
     "output_type": "execute_result"
    },
    {
     "data": {
      "image/png": "[encoded data removed]",
      "text/plain": [
       "<Figure size 432x288 with 1 Axes>"
      ]
     },
     "metadata": {
      "needs_background": "light"
     },
     "output_type": "display_data"
    }
   ],
   "source": [
    "# Plotting the boundary of counties in South America as a background\n",
    "world = gpd.read_file(gpd.datasets.get_path('naturalearth_lowres')) \n",
    "ax = world[world.continent == 'South America'].plot(\n",
    "    color='white', edgecolor='black')\n",
    "\n",
    "# Overlaying the GeoDataFrame (capitals_gdf) created from a DataFrame\n",
    "capitals_gdf.plot(ax=ax, color='red')"
   ]
  },
  {
   "cell_type": "markdown",
   "id": "d95384d5",
   "metadata": {},
   "source": [
    "## 3. Functions of GeoPandas\n",
    "### 3.1. `.cx[ ]`: Coordinate based indexing"
   ]
  },
  {
   "cell_type": "code",
   "execution_count": 26,
   "id": "963de02a",
   "metadata": {},
   "outputs": [],
   "source": [
    "# a function to help your understanding on coordinate based indexing\n",
    "\n",
    "def create_bbox(lower_left, upper_right):  \n",
    "    '''Return a bounding box using two coordinates (lower left corner and upper right corner)\n",
    "    \n",
    "    Input : lower_left - lower left corner of a bounding box (x_coordinate, y_coordinate)\n",
    "            upper_right - upper right corner of a bounding box (x_coordinate, y_coordinate)\n",
    "    \n",
    "    Output: GeoDataFrame only with a bounding box geometry\n",
    "    \n",
    "    '''\n",
    "    ll = lower_left  # lower left\n",
    "    lr = (upper_right[0], lower_left[1])  # lower right\n",
    "    ur = upper_right # upper right\n",
    "    ul = (lower_left[0], upper_right[1]) # upper left\n",
    "    \n",
    "    bbox = Polygon((ll, lr, ur, ul))\n",
    "    bbox_gdf = gpd.GeoDataFrame(geometry=[bbox])\n",
    "    \n",
    "    return bbox_gdf\n",
    "   "
   ]
  },
  {
   "cell_type": "code",
   "execution_count": 27,
   "id": "01de3484",
   "metadata": {
    "scrolled": true
   },
   "outputs": [
    {
     "data": {
      "image/png": "[encoded data removed]",
      "text/plain": [
       "<Figure size 432x288 with 1 Axes>"
      ]
     },
     "metadata": {
      "needs_background": "light"
     },
     "output_type": "display_data"
    }
   ],
   "source": [
    "x_min = -124\n",
    "x_max = -100\n",
    "y_min = 30\n",
    "y_max = 40\n",
    "\n",
    "# Coordinate based indexer (gpd.GeoDataFrame.cx)\n",
    "exp = states.cx[x_min:x_max, y_min: y_max]  # .cx[xmin:xmax, ymin:ymax]\n",
    "ax = exp.plot(cmap='Set1')\n",
    "# create_bbox((x_min, y_min), (x_max, y_max)).boundary.plot(ax=ax, color='black')  # uncomment this to see a bounding box"
   ]
  },
  {
   "cell_type": "markdown",
   "id": "da143a60",
   "metadata": {},
   "source": [
    "---\n",
    "### *Exercise*\n",
    "1. Search the States under the latitude of 30.\n",
    "2. Count the number of states and save the number as `count_states`. \n",
    "3. Save the names of states as `name_states`.\n",
    "---"
   ]
  },
  {
   "cell_type": "code",
   "execution_count": 28,
   "id": "3c75932a",
   "metadata": {},
   "outputs": [],
   "source": [
    "# Your code here\n",
    "count_states = states.cx[:,:30].shape[0]\n",
    "name_states = states.cx[:,:30]['name'].to_list()\n"
   ]
  },
  {
   "cell_type": "code",
   "execution_count": 29,
   "id": "e01a6d4a",
   "metadata": {},
   "outputs": [
    {
     "name": "stdout",
     "output_type": "stream",
     "text": [
      "Success!\n"
     ]
    }
   ],
   "source": [
    "\"\"\" Test code for the previous function. This cell should NOT give any errors when it is run.\"\"\"\n",
    "\n",
    "assert count_states == 4\n",
    "assert name_states == ['Florida', 'Hawaii', 'Louisiana', 'Texas']\n",
    "\n",
    "print('Success!')"
   ]
  },
  {
   "cell_type": "markdown",
   "id": "5a150094",
   "metadata": {},
   "source": [
    "### 3.2. Geometrical methods inherited from `Shapely`\n",
    "\n",
    "`Shapely` has various gemetrical methods, such as calculating the area or perimeter of geometry. "
   ]
  },
  {
   "cell_type": "code",
   "execution_count": 30,
   "id": "f3e26389",
   "metadata": {},
   "outputs": [
    {
     "data": {
      "image/svg+xml": [
       "<svg xmlns=\"http://www.w3.org/2000/svg\" xmlns:xlink=\"http://www.w3.org/1999/xlink\" width=\"100.0\" height=\"100.0\" viewBox=\"-0.36 -0.36 5.720000000000001 9.719999999999999\" preserveAspectRatio=\"xMinYMin meet\"><g transform=\"matrix(1,0,0,-1,0,9.0)\"><path fill-rule=\"evenodd\" fill=\"#66cc99\" stroke=\"#555555\" stroke-width=\"0.1944\" opacity=\"0.6\" d=\"M 0.0,0.0 L 5.0,0.0 L 5.0,7.0 L 0.0,9.0 L 0.0,0.0 z\" /></g></svg>"
      ],
      "text/plain": [
       "<shapely.geometry.polygon.Polygon at 0x1627b1090>"
      ]
     },
     "execution_count": 30,
     "metadata": {},
     "output_type": "execute_result"
    }
   ],
   "source": [
    "# A polygon we created earlier\n",
    "pyg"
   ]
  },
  {
   "cell_type": "code",
   "execution_count": 31,
   "id": "ca979623",
   "metadata": {},
   "outputs": [
    {
     "name": "stdout",
     "output_type": "stream",
     "text": [
      "40.0\n",
      "(0.0, 0.0, 5.0, 9.0)\n",
      "26.385164807134505\n",
      "Polygon\n"
     ]
    }
   ],
   "source": [
    "# apply geometrical methods with Shapely\n",
    "print(pyg.area)  # area\n",
    "print(pyg.bounds)  # bounding box\n",
    "print(pyg.length)  # perimeter\n",
    "print(pyg.geom_type)  # geometry type"
   ]
  },
  {
   "cell_type": "code",
   "execution_count": 32,
   "id": "957c3ca8",
   "metadata": {},
   "outputs": [
    {
     "data": {
      "image/svg+xml": [
       "<svg xmlns=\"http://www.w3.org/2000/svg\" xmlns:xlink=\"http://www.w3.org/1999/xlink\" width=\"300\" height=\"300\" viewBox=\"353214.94436032366 1542158.8811527193 402989.0083755876 683649.4740575305\" preserveAspectRatio=\"xMinYMin meet\"><g transform=\"matrix(1,0,0,-1,0,3767967.236362969)\"><path fill-rule=\"evenodd\" fill=\"#66cc99\" stroke=\"#555555\" stroke-width=\"4557.663160383537\" opacity=\"0.6\" d=\"M 384563.42843906465,1937521.4363883846 L 385266.5740324866,1958027.5958413065 L 405897.31886660226,1975728.1128105226 L 410599.44687739125,1993001.4031717957 L 420484.803049625,2012923.009640799 L 416046.18759455596,2030073.0215729885 L 405262.8412788501,2038230.7329265648 L 411682.205275439,2057840.6795474857 L 439817.18654633214,2064880.6603655068 L 458355.9799721758,2072405.0803701144 L 463394.4306782035,2080768.022435699 L 477145.71273953887,2106983.448370686 L 479695.7244680063,2137268.118521741 L 470654.18623740715,2146380.5473428094 L 457253.9633468986,2154592.33384451 L 452655.6058447115,2166414.6305299043 L 442692.96932191576,2171528.809349965 L 437460.8194994103,2179764.088613529 L 520668.90814422444,2184909.898476077 L 605686.7873962568,2190857.6188597367 L 668446.1710968423,2195017.296071864 L 668420.8007489612,2195310.8303414886 L 694226.1627781191,2197407.68084392 L 730883.6018448916,2200488.00431923 L 729100.7844785951,2179758.348514928 L 727290.9760396406,2159084.068995255 L 725469.9664992263,2138342.10903608 L 723629.1261277667,2117601.5680411425 L 711274.1163663924,2116466.8753962778 L 699006.5532892686,2115359.7059484706 L 699486.4897282887,2109515.8932091487 L 699093.1802827684,2109480.719742295 L 710553.0351774822,1980299.6366338232 L 722014.0974403507,1851078.7553938157 L 715083.354471752,1819146.6014173795 L 722815.0358286749,1811554.5722483818 L 729044.572576004,1792877.5704412537 L 729706.5061900564,1777811.1767056058 L 723136.8199956785,1770378.6391140856 L 718539.4445259519,1751336.664598514 L 702774.327877407,1725439.5542166554 L 693194.3431397848,1694386.7961596875 L 692290.7054114635,1671575.8109548255 L 693587.2129547795,1663291.812996059 L 685024.6260190125,1646927.5236267035 L 693373.2225592787,1637027.5187512417 L 678710.8216511973,1627604.0266025374 L 659667.4696203665,1616669.4654585863 L 664993.4246154352,1592526.1406372057 L 654203.7759122318,1582393.6649044277 L 632224.0874517917,1591106.4829526348 L 608427.188267888,1595400.6853619257 L 603270.8942741415,1584145.7646907351 L 607892.3074030702,1567479.232043739 L 591066.242254724,1583690.4000727448 L 581788.2183427415,1580124.5896630974 L 568662.3582960771,1606796.3039848811 L 570752.1798509517,1623822.6431426832 L 562393.9102030295,1650416.196338408 L 553366.8463480299,1653136.861466587 L 528981.4871832156,1676205.3532776507 L 519120.3356224836,1675997.0577557324 L 500970.0528956778,1690740.178407212 L 487679.88854674157,1706815.971285895 L 492084.5815929451,1726807.376909068 L 499084.16633884807,1743571.513837336 L 502690.4087849285,1764529.7093230058 L 485250.8930620476,1781537.322316136 L 469468.3074841498,1773366.3624267161 L 459396.98843667575,1777483.1868322277 L 456982.4980934089,1796119.8531083583 L 448650.0135728687,1817039.9283374564 L 440512.65390570887,1821701.0792055177 L 420092.84330372076,1835701.3612820832 L 402875.580843929,1853885.5276922248 L 387692.51991479716,1876236.9738196512 L 378535.2952513433,1909337.9707147772 L 384563.42843906465,1937521.4363883846 z\" /></g></svg>"
      ],
      "text/plain": [
       "<shapely.geometry.polygon.Polygon at 0x162730dc0>"
      ]
     },
     "execution_count": 32,
     "metadata": {},
     "output_type": "execute_result"
    }
   ],
   "source": [
    "# Use case: Example of real dataset\n",
    "albers.loc['IL', 'geometry']"
   ]
  },
  {
   "cell_type": "code",
   "execution_count": 33,
   "id": "a4c3f0fa",
   "metadata": {},
   "outputs": [
    {
     "data": {
      "text/plain": [
       "<Derived Projected CRS: EPSG:5070>\n",
       "Name: NAD83 / Conus Albers\n",
       "Axis Info [cartesian]:\n",
       "- X[east]: Easting (metre)\n",
       "- Y[north]: Northing (metre)\n",
       "Area of Use:\n",
       "- name: United States (USA) - CONUS onshore - Alabama; Arizona; Arkansas; California; Colorado; Connecticut; Delaware; Florida; Georgia; Idaho; Illinois; Indiana; Iowa; Kansas; Kentucky; Louisiana; Maine; Maryland; Massachusetts; Michigan; Minnesota; Mississippi; Missouri; Montana; Nebraska; Nevada; New Hampshire; New Jersey; New Mexico; New York; North Carolina; North Dakota; Ohio; Oklahoma; Oregon; Pennsylvania; Rhode Island; South Carolina; South Dakota; Tennessee; Texas; Utah; Vermont; Virginia; Washington; West Virginia; Wisconsin; Wyoming.\n",
       "- bounds: (-124.79, 24.41, -66.91, 49.38)\n",
       "Coordinate Operation:\n",
       "- name: Conus Albers\n",
       "- method: Albers Equal Area\n",
       "Datum: North American Datum 1983\n",
       "- Ellipsoid: GRS 1980\n",
       "- Prime Meridian: Greenwich"
      ]
     },
     "execution_count": 33,
     "metadata": {},
     "output_type": "execute_result"
    }
   ],
   "source": [
    "# To indicate that the unit of Albers projection is `meter`\n",
    "albers.crs"
   ]
  },
  {
   "cell_type": "code",
   "execution_count": 34,
   "id": "0588c266",
   "metadata": {},
   "outputs": [
    {
     "name": "stdout",
     "output_type": "stream",
     "text": [
      "151003553007.96494\n",
      "(378535.2952513433, 1567479.232043739, 730883.6018448916, 2200488.00431923)\n",
      "1887145.1715682622\n",
      "Polygon\n"
     ]
    }
   ],
   "source": [
    "print(albers.loc['IL', 'geometry'].area)  # in meters\n",
    "print(albers.loc['IL', 'geometry'].bounds)\n",
    "print(albers.loc['IL', 'geometry'].length)  # in meters\n",
    "print(albers.loc['IL', 'geometry'].geom_type)"
   ]
  },
  {
   "cell_type": "code",
   "execution_count": 35,
   "id": "13b44033",
   "metadata": {
    "scrolled": false
   },
   "outputs": [
    {
     "name": "stdout",
     "output_type": "stream",
     "text": [
      "16923028998.30241\n",
      "(-6239299.801761352, 1530861.8285968797, -5978009.672543132, 2078147.40912012)\n",
      "1078669.032881122\n",
      "MultiPolygon\n"
     ]
    }
   ],
   "source": [
    "print(albers.loc['HI', 'geometry'].area)  # in meters\n",
    "print(albers.loc['HI', 'geometry'].bounds)\n",
    "print(albers.loc['HI', 'geometry'].length)  # in meters\n",
    "print(albers.loc['HI', 'geometry'].geom_type)"
   ]
  },
  {
   "cell_type": "code",
   "execution_count": 36,
   "id": "4a263994",
   "metadata": {},
   "outputs": [
    {
     "data": {
      "text/plain": [
       "<AxesSubplot:>"
      ]
     },
     "execution_count": 36,
     "metadata": {},
     "output_type": "execute_result"
    },
    {
     "data": {
      "image/png": "[encoded data removed]",
      "text/plain": [
       "<Figure size 432x288 with 1 Axes>"
      ]
     },
     "metadata": {
      "needs_background": "light"
     },
     "output_type": "display_data"
    }
   ],
   "source": [
    "# The following example is to show the impact of projections (crs) on calculating area and peripeter of shape. \n",
    "merc = albers.to_crs(epsg=3857)  # Change projection to Web Mercator (epsg:3857)\n",
    "merc.plot(color='black')"
   ]
  },
  {
   "cell_type": "code",
   "execution_count": 37,
   "id": "10df609d",
   "metadata": {},
   "outputs": [
    {
     "name": "stdout",
     "output_type": "stream",
     "text": [
      "99905.87226277194 SqMi\n"
     ]
    },
    {
     "data": {
      "image/svg+xml": [
       "<svg xmlns=\"http://www.w3.org/2000/svg\" xmlns:xlink=\"http://www.w3.org/1999/xlink\" width=\"300\" height=\"300\" viewBox=\"-10219877.88412041 4400278.08537115 562887.5369240604 868886.6912947288\" preserveAspectRatio=\"xMinYMin meet\"><g transform=\"matrix(1,0,0,-1,0,9669442.86203703)\"><path fill-rule=\"evenodd\" fill=\"#66cc99\" stroke=\"#555555\" stroke-width=\"5792.577941964859\" opacity=\"0.6\" d=\"M -10177977.887773426,4919651.065086649 L -10175740.128657347,4946359.056275259 L -10147230.272413688,4968168.674966233 L -10139806.549432144,4990494.740368354 L -10125258.238880549,5015994.029592129 L -10129969.61347199,5038900.227820004 L -10143813.231242811,5050410.008441817 L -10133858.367103022,5075910.303338247 L -10095626.626523387,5083221.114278348 L -10070180.026394885,5091793.919414913 L -10062756.30367174,5102501.448363574 L -10042139.00631432,5136282.418174093 L -10036190.823985199,5176531.17055358 L -10047675.878163237,5189480.629220795 L -10065172.393205812,5201573.153343295 L -10070473.388588501,5217826.92940909 L -10083609.363983111,5225484.943344972 L -10090089.746024407,5236983.674473553 L -9976458.76284938,5236983.788099407 L -9860296.629607644,5236663.864254678 L -9774585.853386417,5235306.259293774 L -9774585.853386417,5235704.157765592 L -9739302.317297762,5235466.196860108 L -9689171.335762821,5235064.407632115 L -9694236.494893178,5207463.789571796 L -9699304.530320602,5180024.778007576 L -9704369.689450966,5152579.644619405 L -9709434.848581323,5125220.932911544 L -9726166.268604774,5125220.93291154 L -9742776.884151524,5125220.932911538 L -9742834.410092812,5117404.194320868 L -9743366.52504972,5117404.194320862 L -9743484.45322936,4946203.85330373 L -9743602.381408999,4778018.075323678 L -9756266.717383431,4738006.18116104 L -9747134.474204047,4727457.62637972 L -9741243.817816215,4702990.39119537 L -9742129.717312042,4683790.788674964 L -9751437.41461235,4675110.810818193 L -9759505.427877914,4651522.346338816 L -9782596.340710694,4620553.499269191 L -9798208.881176107,4582496.886069945 L -9801801.376209505,4553973.1573067205 L -9801036.281190384,4543462.869159418 L -9813640.214926463,4523889.883484018 L -9804099.53756394,4510660.922961663 L -9823655.481304606,4500418.692035011 L -9848866.225073831,4488702.76955235 L -9844566.160962593,4458142.082827325 L -9859174.87375254,4446620.8070573 L -9886036.61203671,4459545.687610754 L -9915668.217270521,4467086.481070186 L -9923206.998999594,4453560.91747167 L -9918906.934888357,4432459.073937621 L -9938641.209047016,4454080.256900476 L -9950658.378181962,4450459.837922017 L -9964913.30643299,4484773.837607668 L -9960788.69644268,4505835.752228048 L -9969095.442364587,4539811.498572885 L -9980347.516480412,4543983.038994755 L -10009504.539821953,4574945.397806119 L -10022111.349855095,4575470.794497759 L -10044143.785368185,4595441.023777034 L -10059928.903657462,4616724.662673218 L -10052743.913590658,4641665.161096661 L -10042435.26491195,4662367.754149197 L -10036130.421746844,4688699.813190885 L -10057337.360002464,4711694.187100425 L -10078368.844137153,4702462.1205103 L -10091090.70605287,4708437.244059719 L -10092859.62874746,4732387.808830772 L -10102164.449750705,4759741.922045128 L -10112415.572488125,4766286.287939789 L -10138040.50303462,4785643.264230376 L -10159304.967231523,4810159.063554911 L -10177742.03141415,4839950.424355191 L -10187696.895553939,4883377.803628258 L -10177977.887773426,4919651.065086649 z\" /></g></svg>"
      ],
      "text/plain": [
       "<shapely.geometry.polygon.Polygon at 0x162944a00>"
      ]
     },
     "execution_count": 37,
     "metadata": {},
     "output_type": "execute_result"
    }
   ],
   "source": [
    "# Shape of Illinois with Web Mercator projection (i.e., Equirectangular projection)\n",
    "print(merc.loc['IL', 'geometry'].area / 2.59e+6, 'SqMi') # Unit: Square Mile\n",
    "merc.loc['IL', 'geometry']"
   ]
  },
  {
   "cell_type": "code",
   "execution_count": 38,
   "id": "37f995c3",
   "metadata": {},
   "outputs": [
    {
     "name": "stdout",
     "output_type": "stream",
     "text": [
      "58302.53011890538 SqMi\n"
     ]
    },
    {
     "data": {
      "image/svg+xml": [
       "<svg xmlns=\"http://www.w3.org/2000/svg\" xmlns:xlink=\"http://www.w3.org/1999/xlink\" width=\"300\" height=\"300\" viewBox=\"353214.94436032366 1542158.8811527193 402989.0083755876 683649.4740575305\" preserveAspectRatio=\"xMinYMin meet\"><g transform=\"matrix(1,0,0,-1,0,3767967.236362969)\"><path fill-rule=\"evenodd\" fill=\"#66cc99\" stroke=\"#555555\" stroke-width=\"4557.663160383537\" opacity=\"0.6\" d=\"M 384563.42843906465,1937521.4363883846 L 385266.5740324866,1958027.5958413065 L 405897.31886660226,1975728.1128105226 L 410599.44687739125,1993001.4031717957 L 420484.803049625,2012923.009640799 L 416046.18759455596,2030073.0215729885 L 405262.8412788501,2038230.7329265648 L 411682.205275439,2057840.6795474857 L 439817.18654633214,2064880.6603655068 L 458355.9799721758,2072405.0803701144 L 463394.4306782035,2080768.022435699 L 477145.71273953887,2106983.448370686 L 479695.7244680063,2137268.118521741 L 470654.18623740715,2146380.5473428094 L 457253.9633468986,2154592.33384451 L 452655.6058447115,2166414.6305299043 L 442692.96932191576,2171528.809349965 L 437460.8194994103,2179764.088613529 L 520668.90814422444,2184909.898476077 L 605686.7873962568,2190857.6188597367 L 668446.1710968423,2195017.296071864 L 668420.8007489612,2195310.8303414886 L 694226.1627781191,2197407.68084392 L 730883.6018448916,2200488.00431923 L 729100.7844785951,2179758.348514928 L 727290.9760396406,2159084.068995255 L 725469.9664992263,2138342.10903608 L 723629.1261277667,2117601.5680411425 L 711274.1163663924,2116466.8753962778 L 699006.5532892686,2115359.7059484706 L 699486.4897282887,2109515.8932091487 L 699093.1802827684,2109480.719742295 L 710553.0351774822,1980299.6366338232 L 722014.0974403507,1851078.7553938157 L 715083.354471752,1819146.6014173795 L 722815.0358286749,1811554.5722483818 L 729044.572576004,1792877.5704412537 L 729706.5061900564,1777811.1767056058 L 723136.8199956785,1770378.6391140856 L 718539.4445259519,1751336.664598514 L 702774.327877407,1725439.5542166554 L 693194.3431397848,1694386.7961596875 L 692290.7054114635,1671575.8109548255 L 693587.2129547795,1663291.812996059 L 685024.6260190125,1646927.5236267035 L 693373.2225592787,1637027.5187512417 L 678710.8216511973,1627604.0266025374 L 659667.4696203665,1616669.4654585863 L 664993.4246154352,1592526.1406372057 L 654203.7759122318,1582393.6649044277 L 632224.0874517917,1591106.4829526348 L 608427.188267888,1595400.6853619257 L 603270.8942741415,1584145.7646907351 L 607892.3074030702,1567479.232043739 L 591066.242254724,1583690.4000727448 L 581788.2183427415,1580124.5896630974 L 568662.3582960771,1606796.3039848811 L 570752.1798509517,1623822.6431426832 L 562393.9102030295,1650416.196338408 L 553366.8463480299,1653136.861466587 L 528981.4871832156,1676205.3532776507 L 519120.3356224836,1675997.0577557324 L 500970.0528956778,1690740.178407212 L 487679.88854674157,1706815.971285895 L 492084.5815929451,1726807.376909068 L 499084.16633884807,1743571.513837336 L 502690.4087849285,1764529.7093230058 L 485250.8930620476,1781537.322316136 L 469468.3074841498,1773366.3624267161 L 459396.98843667575,1777483.1868322277 L 456982.4980934089,1796119.8531083583 L 448650.0135728687,1817039.9283374564 L 440512.65390570887,1821701.0792055177 L 420092.84330372076,1835701.3612820832 L 402875.580843929,1853885.5276922248 L 387692.51991479716,1876236.9738196512 L 378535.2952513433,1909337.9707147772 L 384563.42843906465,1937521.4363883846 z\" /></g></svg>"
      ],
      "text/plain": [
       "<shapely.geometry.polygon.Polygon at 0x162730dc0>"
      ]
     },
     "execution_count": 38,
     "metadata": {},
     "output_type": "execute_result"
    }
   ],
   "source": [
    "# Shape of Illinois with Albers Albers Equal Area Conic (i.e., Equal-area projection)\n",
    "print(albers.loc['IL', 'geometry'].area / 2.59e+6, 'SqMi') # Unit: Square Mile\n",
    "albers.loc['IL', 'geometry']"
   ]
  },
  {
   "cell_type": "markdown",
   "id": "475b39d6",
   "metadata": {},
   "source": [
    "### 3.3. Overlay\n",
    "\n",
    "You can perfrom spatial overlay between two GeoDataFrames, as shown below. Currently, it only supports data GeoDataFrames with uniform geometry types, i.e. containing only (Multi)Polygons, or only (Multi)Points, or a combination of (Multi)LineString and LinearRing shapes.\n",
    "<br><br>\n",
    "source: https://geopandas.org/en/stable/docs/reference/api/geopandas.overlay.html <br>\n",
    "source: https://geopandas.org/en/stable/docs/user_guide/set_operations.html"
   ]
  },
  {
   "cell_type": "code",
   "execution_count": 39,
   "id": "3821145d",
   "metadata": {},
   "outputs": [],
   "source": [
    "# Create two GeoDataFrame, each has two square polygons \n",
    "pyg_A = gpd.GeoSeries([Polygon([(0,0), (2,0), (2,2), (0,2)]),\n",
    "                       Polygon([(2,2), (4,2), (4,4), (2,4)])])\n",
    "pyg_B = gpd.GeoSeries([Polygon([(1,1), (3,1), (3,3), (1,3)]),\n",
    "                       Polygon([(3,3), (5,3), (5,5), (3,5)])])\n",
    "\n",
    "gdf1 = gpd.GeoDataFrame({'geometry': pyg_A, 'df1_data':[1,2]})\n",
    "gdf2 = gpd.GeoDataFrame({'geometry': pyg_B, 'df2_data':[1,2]})"
   ]
  },
  {
   "cell_type": "code",
   "execution_count": 40,
   "id": "dacbfcf8",
   "metadata": {},
   "outputs": [
    {
     "data": {
      "text/plain": [
       "<AxesSubplot:>"
      ]
     },
     "execution_count": 40,
     "metadata": {},
     "output_type": "execute_result"
    },
    {
     "data": {
      "image/png": "[encoded data removed]",
      "text/plain": [
       "<Figure size 432x288 with 1 Axes>"
      ]
     },
     "metadata": {
      "needs_background": "light"
     },
     "output_type": "display_data"
    }
   ],
   "source": [
    "gdf1.plot(color='blue')"
   ]
  },
  {
   "cell_type": "code",
   "execution_count": 41,
   "id": "3992cdaa",
   "metadata": {},
   "outputs": [
    {
     "data": {
      "text/plain": [
       "<AxesSubplot:>"
      ]
     },
     "execution_count": 41,
     "metadata": {},
     "output_type": "execute_result"
    },
    {
     "data": {
      "image/png": "[encoded data removed]",
      "text/plain": [
       "<Figure size 432x288 with 1 Axes>"
      ]
     },
     "metadata": {
      "needs_background": "light"
     },
     "output_type": "display_data"
    }
   ],
   "source": [
    "gdf2.plot(color='red')"
   ]
  },
  {
   "cell_type": "code",
   "execution_count": 42,
   "id": "df3340aa",
   "metadata": {},
   "outputs": [
    {
     "data": {
      "text/plain": [
       "<AxesSubplot:>"
      ]
     },
     "execution_count": 42,
     "metadata": {},
     "output_type": "execute_result"
    },
    {
     "data": {
      "image/png": "[encoded data removed]",
      "text/plain": [
       "<Figure size 432x288 with 1 Axes>"
      ]
     },
     "metadata": {
      "needs_background": "light"
     },
     "output_type": "display_data"
    }
   ],
   "source": [
    "# 'union' returns all those possible geometries.\n",
    "ax = gpd.overlay(gdf1, gdf2, how='union').plot(cmap='tab10')\n",
    "gdf1.boundary.plot(color='blue', ax=ax)\n",
    "gdf2.boundary.plot(color='red', ax=ax)"
   ]
  },
  {
   "cell_type": "code",
   "execution_count": 43,
   "id": "dbcf3a60",
   "metadata": {},
   "outputs": [
    {
     "data": {
      "text/plain": [
       "<AxesSubplot:>"
      ]
     },
     "execution_count": 43,
     "metadata": {},
     "output_type": "execute_result"
    },
    {
     "data": {
      "image/png": "[encoded data removed]",
      "text/plain": [
       "<Figure size 432x288 with 1 Axes>"
      ]
     },
     "metadata": {
      "needs_background": "light"
     },
     "output_type": "display_data"
    }
   ],
   "source": [
    "# 'intersection' returns only those geometries that are contained by both GeoDataFrames.\n",
    "ax = gpd.overlay(gdf1, gdf2, how='intersection').plot(cmap='tab10')\n",
    "gdf1.boundary.plot(color='blue', ax=ax)\n",
    "gdf2.boundary.plot(color='red', ax=ax)"
   ]
  },
  {
   "cell_type": "code",
   "execution_count": 44,
   "id": "8d44b55f",
   "metadata": {},
   "outputs": [
    {
     "data": {
      "text/plain": [
       "<AxesSubplot:>"
      ]
     },
     "execution_count": 44,
     "metadata": {},
     "output_type": "execute_result"
    },
    {
     "data": {
      "image/png": "[encoded data removed]",
      "text/plain": [
       "<Figure size 432x288 with 1 Axes>"
      ]
     },
     "metadata": {
      "needs_background": "light"
     },
     "output_type": "display_data"
    }
   ],
   "source": [
    "# 'symmetric_difference' is the opposite of 'intersection' and \n",
    "# returns the geometries that are only part of one of the GeoDataFrames but not of both.\n",
    "ax = gpd.overlay(gdf1, gdf2, how='symmetric_difference').plot(cmap='tab10')\n",
    "gdf1.boundary.plot(color='blue', ax=ax)\n",
    "gdf2.boundary.plot(color='red', ax=ax)"
   ]
  },
  {
   "cell_type": "code",
   "execution_count": 45,
   "id": "1eca34b4",
   "metadata": {},
   "outputs": [
    {
     "data": {
      "text/plain": [
       "<AxesSubplot:>"
      ]
     },
     "execution_count": 45,
     "metadata": {},
     "output_type": "execute_result"
    },
    {
     "data": {
      "image/png": "[encoded data removed]",
      "text/plain": [
       "<Figure size 432x288 with 1 Axes>"
      ]
     },
     "metadata": {
      "needs_background": "light"
     },
     "output_type": "display_data"
    }
   ],
   "source": [
    "# 'difference' returns the geometries that are part of gdf1 but are not contained in gdf2.\n",
    "ax = gpd.overlay(gdf1, gdf2, how='difference').plot(cmap='tab10')\n",
    "gdf1.boundary.plot(color='blue', ax=ax)\n",
    "gdf2.boundary.plot(color='red', ax=ax)"
   ]
  },
  {
   "cell_type": "code",
   "execution_count": 46,
   "id": "29309a8c",
   "metadata": {},
   "outputs": [
    {
     "data": {
      "text/plain": [
       "<AxesSubplot:>"
      ]
     },
     "execution_count": 46,
     "metadata": {},
     "output_type": "execute_result"
    },
    {
     "data": {
      "image/png": "[encoded data removed]",
      "text/plain": [
       "<Figure size 432x288 with 1 Axes>"
      ]
     },
     "metadata": {
      "needs_background": "light"
     },
     "output_type": "display_data"
    }
   ],
   "source": [
    "# 'identity' returns the surface of gdf1 but they are divided based on the overlay from gdf2.\n",
    "ax = gpd.overlay(gdf1, gdf2, how='identity').plot(cmap='tab10')\n",
    "gdf1.boundary.plot(color='blue', ax=ax)\n",
    "gdf2.boundary.plot(color='red', ax=ax)"
   ]
  },
  {
   "cell_type": "markdown",
   "id": "69801eac",
   "metadata": {},
   "source": [
    "---\n",
    "### *Exercise*\n",
    "\n",
    "1. import two files `illinois_county.json` and `tl_2021_17019_areawater.shp` in `data` folder, and name them as `county` and `water`, respectively. \n",
    "2. Select only Champagin county from `county` with `.loc` method, and resave the resulted GeoDataFrame back to `county`. \n",
    "3. Change the coordinate reference system for two dataset to the Illinois State Plane East (epsg:3435)\n",
    "4. Calculate the area not covered by water in sqaure miles (original unit is in feet) and save the number as `diff_area` (i.e., divide sqft by 2.788e+7).\n",
    "---"
   ]
  },
  {
   "cell_type": "code",
   "execution_count": 47,
   "id": "b1687927",
   "metadata": {},
   "outputs": [],
   "source": [
    "# Your code here\n",
    "\n",
    "# Step 1\n",
    "county = gpd.read_file('./data/illinois_county.json')\n",
    "water = gpd.read_file('./data/tl_2021_17019_areawater.shp')\n",
    "\n",
    "# Step 2\n",
    "county = county.loc[county['NAME'] == 'Champaign']\n",
    "\n",
    "# Step 3\n",
    "county = county.to_crs(epsg=3435)\n",
    "water = water.to_crs(epsg=3435)\n",
    "\n",
    "# Step 4\n",
    "diff_area = gpd.overlay(county, water, how='symmetric_difference').area[0] / 2.788e+7\n"
   ]
  },
  {
   "cell_type": "code",
   "execution_count": 48,
   "id": "76c313a0",
   "metadata": {},
   "outputs": [
    {
     "name": "stdout",
     "output_type": "stream",
     "text": [
      "Success!\n"
     ]
    }
   ],
   "source": [
    "\"\"\" Test code for the previous function. This cell should NOT give any errors when it is run.\"\"\"\n",
    "\n",
    "# Check your result here. \n",
    "assert county['NAME'].values[0] == 'Champaign'\n",
    "assert county.crs.name == 'NAD83 / Illinois East (ftUS)'\n",
    "assert water.crs.name == 'NAD83 / Illinois East (ftUS)'\n",
    "assert round(diff_area) == 996\n",
    "\n",
    "print(\"Success!\")"
   ]
  },
  {
   "cell_type": "markdown",
   "id": "decb584d",
   "metadata": {},
   "source": [
    "### 3.4. Spatial Join \n",
    "#### 3.4.1. Data preprocessing (i.e., importing data and matching crs)"
   ]
  },
  {
   "cell_type": "code",
   "execution_count": 49,
   "id": "528661ca",
   "metadata": {
    "scrolled": true
   },
   "outputs": [
    {
     "data": {
      "text/html": [
       "<div>\n",
       "<style scoped>\n",
       "    .dataframe tbody tr th:only-of-type {\n",
       "        vertical-align: middle;\n",
       "    }\n",
       "\n",
       "    .dataframe tbody tr th {\n",
       "        vertical-align: top;\n",
       "    }\n",
       "\n",
       "    .dataframe thead th {\n",
       "        text-align: right;\n",
       "    }\n",
       "</style>\n",
       "<table border=\"1\" class=\"dataframe\">\n",
       "  <thead>\n",
       "    <tr style=\"text-align: right;\">\n",
       "      <th></th>\n",
       "      <th>Incid_Name</th>\n",
       "      <th>Incid_Type</th>\n",
       "      <th>Ig_Date</th>\n",
       "      <th>geometry</th>\n",
       "    </tr>\n",
       "  </thead>\n",
       "  <tbody>\n",
       "    <tr>\n",
       "      <th>0</th>\n",
       "      <td>HELLS HOLLOW</td>\n",
       "      <td>Prescribed Fire</td>\n",
       "      <td>2012-10-04</td>\n",
       "      <td>POINT (-111.50798 41.75847)</td>\n",
       "    </tr>\n",
       "    <tr>\n",
       "      <th>1</th>\n",
       "      <td>KLONE PEAK</td>\n",
       "      <td>Wildfire</td>\n",
       "      <td>2012-09-08</td>\n",
       "      <td>POINT (-120.58152 47.97210)</td>\n",
       "    </tr>\n",
       "    <tr>\n",
       "      <th>2</th>\n",
       "      <td>BASALT</td>\n",
       "      <td>Wildfire</td>\n",
       "      <td>2012-09-08</td>\n",
       "      <td>POINT (-120.74488 47.96732)</td>\n",
       "    </tr>\n",
       "    <tr>\n",
       "      <th>3</th>\n",
       "      <td>PYRAMID</td>\n",
       "      <td>Wildfire</td>\n",
       "      <td>2012-09-08</td>\n",
       "      <td>POINT (-120.58122 48.04474)</td>\n",
       "    </tr>\n",
       "    <tr>\n",
       "      <th>4</th>\n",
       "      <td>FIRST CREEK</td>\n",
       "      <td>Wildfire</td>\n",
       "      <td>2012-09-08</td>\n",
       "      <td>POINT (-120.26049 47.89598)</td>\n",
       "    </tr>\n",
       "    <tr>\n",
       "      <th>...</th>\n",
       "      <td>...</td>\n",
       "      <td>...</td>\n",
       "      <td>...</td>\n",
       "      <td>...</td>\n",
       "    </tr>\n",
       "    <tr>\n",
       "      <th>28579</th>\n",
       "      <td>NW SANDS UNITS I/F/C/A</td>\n",
       "      <td>Prescribed Fire</td>\n",
       "      <td>2019-05-24</td>\n",
       "      <td>POINT (-91.29028 46.63399)</td>\n",
       "    </tr>\n",
       "    <tr>\n",
       "      <th>28580</th>\n",
       "      <td>UNNAMED</td>\n",
       "      <td>Unknown</td>\n",
       "      <td>2015-03-22</td>\n",
       "      <td>POINT (-96.45150 36.71381)</td>\n",
       "    </tr>\n",
       "    <tr>\n",
       "      <th>28581</th>\n",
       "      <td>UNNAMED</td>\n",
       "      <td>Prescribed Fire</td>\n",
       "      <td>2019-03-22</td>\n",
       "      <td>POINT (-94.62221 34.33207)</td>\n",
       "    </tr>\n",
       "    <tr>\n",
       "      <th>28582</th>\n",
       "      <td>RX - MCWA WEST</td>\n",
       "      <td>Prescribed Fire</td>\n",
       "      <td>2019-03-27</td>\n",
       "      <td>POINT (-94.71266 34.31007)</td>\n",
       "    </tr>\n",
       "    <tr>\n",
       "      <th>28583</th>\n",
       "      <td>UNNAMED</td>\n",
       "      <td>Prescribed Fire</td>\n",
       "      <td>2011-05-06</td>\n",
       "      <td>POINT (-96.66491 38.28082)</td>\n",
       "    </tr>\n",
       "  </tbody>\n",
       "</table>\n",
       "<p>28584 rows × 4 columns</p>\n",
       "</div>"
      ],
      "text/plain": [
       "                   Incid_Name       Incid_Type     Ig_Date  \\\n",
       "0                HELLS HOLLOW  Prescribed Fire  2012-10-04   \n",
       "1                  KLONE PEAK         Wildfire  2012-09-08   \n",
       "2                      BASALT         Wildfire  2012-09-08   \n",
       "3                     PYRAMID         Wildfire  2012-09-08   \n",
       "4                 FIRST CREEK         Wildfire  2012-09-08   \n",
       "...                       ...              ...         ...   \n",
       "28579  NW SANDS UNITS I/F/C/A  Prescribed Fire  2019-05-24   \n",
       "28580                 UNNAMED          Unknown  2015-03-22   \n",
       "28581                 UNNAMED  Prescribed Fire  2019-03-22   \n",
       "28582          RX - MCWA WEST  Prescribed Fire  2019-03-27   \n",
       "28583                 UNNAMED  Prescribed Fire  2011-05-06   \n",
       "\n",
       "                          geometry  \n",
       "0      POINT (-111.50798 41.75847)  \n",
       "1      POINT (-120.58152 47.97210)  \n",
       "2      POINT (-120.74488 47.96732)  \n",
       "3      POINT (-120.58122 48.04474)  \n",
       "4      POINT (-120.26049 47.89598)  \n",
       "...                            ...  \n",
       "28579   POINT (-91.29028 46.63399)  \n",
       "28580   POINT (-96.45150 36.71381)  \n",
       "28581   POINT (-94.62221 34.33207)  \n",
       "28582   POINT (-94.71266 34.31007)  \n",
       "28583   POINT (-96.66491 38.28082)  \n",
       "\n",
       "[28584 rows x 4 columns]"
      ]
     },
     "execution_count": 49,
     "metadata": {},
     "output_type": "execute_result"
    }
   ],
   "source": [
    "# Importing necessary data for spatially joining fire location data to State polygons\n",
    "# Fire Data is from USGS\n",
    "fires = gpd.read_file(r'./data/fires_usgs.shp')\n",
    "fires"
   ]
  },
  {
   "cell_type": "code",
   "execution_count": 50,
   "id": "872ec246",
   "metadata": {},
   "outputs": [
    {
     "data": {
      "text/plain": [
       "<AxesSubplot:>"
      ]
     },
     "execution_count": 50,
     "metadata": {},
     "output_type": "execute_result"
    },
    {
     "data": {
      "image/png": "[encoded data removed]",
      "text/plain": [
       "<Figure size 720x720 with 1 Axes>"
      ]
     },
     "metadata": {
      "needs_background": "light"
     },
     "output_type": "display_data"
    }
   ],
   "source": [
    "# plot all fires as point data on a map\n",
    "fires.plot(markersize=1, figsize=(10,10))"
   ]
  },
  {
   "cell_type": "markdown",
   "id": "e19ad8b3",
   "metadata": {},
   "source": [
    "You need to check the coordinate reference system of two datasets before running a spatial join to make sure they have the same coordinate reference system. "
   ]
  },
  {
   "cell_type": "code",
   "execution_count": 51,
   "id": "854af9bf",
   "metadata": {},
   "outputs": [
    {
     "data": {
      "text/plain": [
       "<Geographic 2D CRS: EPSG:4269>\n",
       "Name: NAD83\n",
       "Axis Info [ellipsoidal]:\n",
       "- Lat[north]: Geodetic latitude (degree)\n",
       "- Lon[east]: Geodetic longitude (degree)\n",
       "Area of Use:\n",
       "- name: North America - onshore and offshore: Canada - Alberta; British Columbia; Manitoba; New Brunswick; Newfoundland and Labrador; Northwest Territories; Nova Scotia; Nunavut; Ontario; Prince Edward Island; Quebec; Saskatchewan; Yukon. Puerto Rico. United States (USA) - Alabama; Alaska; Arizona; Arkansas; California; Colorado; Connecticut; Delaware; Florida; Georgia; Hawaii; Idaho; Illinois; Indiana; Iowa; Kansas; Kentucky; Louisiana; Maine; Maryland; Massachusetts; Michigan; Minnesota; Mississippi; Missouri; Montana; Nebraska; Nevada; New Hampshire; New Jersey; New Mexico; New York; North Carolina; North Dakota; Ohio; Oklahoma; Oregon; Pennsylvania; Rhode Island; South Carolina; South Dakota; Tennessee; Texas; Utah; Vermont; Virginia; Washington; West Virginia; Wisconsin; Wyoming. US Virgin Islands. British Virgin Islands.\n",
       "- bounds: (167.65, 14.92, -47.74, 86.46)\n",
       "Datum: North American Datum 1983\n",
       "- Ellipsoid: GRS 1980\n",
       "- Prime Meridian: Greenwich"
      ]
     },
     "execution_count": 51,
     "metadata": {},
     "output_type": "execute_result"
    }
   ],
   "source": [
    "# crs of fire data\n",
    "fires.crs"
   ]
  },
  {
   "cell_type": "code",
   "execution_count": 52,
   "id": "c24b064b",
   "metadata": {},
   "outputs": [
    {
     "data": {
      "text/plain": [
       "<Geographic 2D CRS: EPSG:4326>\n",
       "Name: WGS 84\n",
       "Axis Info [ellipsoidal]:\n",
       "- Lat[north]: Geodetic latitude (degree)\n",
       "- Lon[east]: Geodetic longitude (degree)\n",
       "Area of Use:\n",
       "- name: World.\n",
       "- bounds: (-180.0, -90.0, 180.0, 90.0)\n",
       "Datum: World Geodetic System 1984 ensemble\n",
       "- Ellipsoid: WGS 84\n",
       "- Prime Meridian: Greenwich"
      ]
     },
     "execution_count": 52,
     "metadata": {},
     "output_type": "execute_result"
    }
   ],
   "source": [
    "# crs of state geometry \n",
    "states.crs"
   ]
  },
  {
   "cell_type": "code",
   "execution_count": 53,
   "id": "84943907",
   "metadata": {},
   "outputs": [],
   "source": [
    "# Given that two dataset has different crs, we need to make them identical.\n",
    "# reproject fires shapefile the state geometry shapefile\n",
    "fires = fires.to_crs(epsg=4326)"
   ]
  },
  {
   "cell_type": "markdown",
   "id": "c349d856",
   "metadata": {},
   "source": [
    "#### 3.4.2. Spatial join with <a href=https://geopandas.org/en/stable/docs/reference/api/geopandas.sjoin.html> .sjoin() </a> method\n",
    "\n",
    "`.sjoin()` method has numerous `op` attributes (i.e., 'intersects', 'contains', 'within', 'touches', 'crosses', 'overlaps') to test various types of geographical relationships. <br>\n",
    "**Note**: the attribute `op` attribute is deprecated in the up-to-date version of GeoPandas (0.10.2) and is replaced with `predicate`. "
   ]
  },
  {
   "cell_type": "code",
   "execution_count": 54,
   "id": "34c995ea",
   "metadata": {},
   "outputs": [
    {
     "name": "stderr",
     "output_type": "stream",
     "text": [
      "/Users/zawoon96/opt/anaconda3/envs/sa/lib/python3.10/site-packages/IPython/core/interactiveshell.py:3191: FutureWarning: The `op` parameter is deprecated and will be removed in a future release. Please use the `predicate` parameter instead.\n",
      "  if await self.run_code(code, result, async_=asy):\n"
     ]
    },
    {
     "data": {
      "text/html": [
       "<div>\n",
       "<style scoped>\n",
       "    .dataframe tbody tr th:only-of-type {\n",
       "        vertical-align: middle;\n",
       "    }\n",
       "\n",
       "    .dataframe tbody tr th {\n",
       "        vertical-align: top;\n",
       "    }\n",
       "\n",
       "    .dataframe thead th {\n",
       "        text-align: right;\n",
       "    }\n",
       "</style>\n",
       "<table border=\"1\" class=\"dataframe\">\n",
       "  <thead>\n",
       "    <tr style=\"text-align: right;\">\n",
       "      <th></th>\n",
       "      <th>Incid_Name</th>\n",
       "      <th>Incid_Type</th>\n",
       "      <th>Ig_Date</th>\n",
       "      <th>geometry</th>\n",
       "      <th>index_right</th>\n",
       "      <th>name</th>\n",
       "    </tr>\n",
       "  </thead>\n",
       "  <tbody>\n",
       "    <tr>\n",
       "      <th>0</th>\n",
       "      <td>HELLS HOLLOW</td>\n",
       "      <td>Prescribed Fire</td>\n",
       "      <td>2012-10-04</td>\n",
       "      <td>POINT (-111.50799 41.75848)</td>\n",
       "      <td>UT</td>\n",
       "      <td>Utah</td>\n",
       "    </tr>\n",
       "    <tr>\n",
       "      <th>372</th>\n",
       "      <td>CHURCH CAMP</td>\n",
       "      <td>Wildfire</td>\n",
       "      <td>2012-06-24</td>\n",
       "      <td>POINT (-110.66860 39.89245)</td>\n",
       "      <td>UT</td>\n",
       "      <td>Utah</td>\n",
       "    </tr>\n",
       "    <tr>\n",
       "      <th>381</th>\n",
       "      <td>DALLAS CANYON</td>\n",
       "      <td>Wildfire</td>\n",
       "      <td>2012-07-27</td>\n",
       "      <td>POINT (-112.94540 40.62366)</td>\n",
       "      <td>UT</td>\n",
       "      <td>Utah</td>\n",
       "    </tr>\n",
       "    <tr>\n",
       "      <th>382</th>\n",
       "      <td>IBAPAH</td>\n",
       "      <td>Wildfire</td>\n",
       "      <td>2012-07-29</td>\n",
       "      <td>POINT (-113.95799 40.00499)</td>\n",
       "      <td>UT</td>\n",
       "      <td>Utah</td>\n",
       "    </tr>\n",
       "    <tr>\n",
       "      <th>412</th>\n",
       "      <td>73</td>\n",
       "      <td>Wildfire</td>\n",
       "      <td>2012-05-17</td>\n",
       "      <td>POINT (-112.23804 40.26205)</td>\n",
       "      <td>UT</td>\n",
       "      <td>Utah</td>\n",
       "    </tr>\n",
       "    <tr>\n",
       "      <th>...</th>\n",
       "      <td>...</td>\n",
       "      <td>...</td>\n",
       "      <td>...</td>\n",
       "      <td>...</td>\n",
       "      <td>...</td>\n",
       "      <td>...</td>\n",
       "    </tr>\n",
       "    <tr>\n",
       "      <th>28018</th>\n",
       "      <td>FINK SANDSTONE RX</td>\n",
       "      <td>Prescribed Fire</td>\n",
       "      <td>2019-03-26</td>\n",
       "      <td>POINT (-88.71612 37.50626)</td>\n",
       "      <td>IL</td>\n",
       "      <td>Illinois</td>\n",
       "    </tr>\n",
       "    <tr>\n",
       "      <th>28022</th>\n",
       "      <td>HARRIS BRANCH RX</td>\n",
       "      <td>Prescribed Fire</td>\n",
       "      <td>2019-03-28</td>\n",
       "      <td>POINT (-88.27095 37.55491)</td>\n",
       "      <td>IL</td>\n",
       "      <td>Illinois</td>\n",
       "    </tr>\n",
       "    <tr>\n",
       "      <th>28054</th>\n",
       "      <td>UNNAMED</td>\n",
       "      <td>Prescribed Fire</td>\n",
       "      <td>2019-03-25</td>\n",
       "      <td>POINT (-88.17146 41.37205)</td>\n",
       "      <td>IL</td>\n",
       "      <td>Illinois</td>\n",
       "    </tr>\n",
       "    <tr>\n",
       "      <th>28061</th>\n",
       "      <td>UNNAMED</td>\n",
       "      <td>Prescribed Fire</td>\n",
       "      <td>2019-03-26</td>\n",
       "      <td>POINT (-88.03922 41.38849)</td>\n",
       "      <td>IL</td>\n",
       "      <td>Illinois</td>\n",
       "    </tr>\n",
       "    <tr>\n",
       "      <th>28074</th>\n",
       "      <td>UNNAMED</td>\n",
       "      <td>Unknown</td>\n",
       "      <td>2019-03-20</td>\n",
       "      <td>POINT (-88.11554 41.37046)</td>\n",
       "      <td>IL</td>\n",
       "      <td>Illinois</td>\n",
       "    </tr>\n",
       "  </tbody>\n",
       "</table>\n",
       "<p>28461 rows × 6 columns</p>\n",
       "</div>"
      ],
      "text/plain": [
       "              Incid_Name       Incid_Type     Ig_Date  \\\n",
       "0           HELLS HOLLOW  Prescribed Fire  2012-10-04   \n",
       "372          CHURCH CAMP         Wildfire  2012-06-24   \n",
       "381        DALLAS CANYON         Wildfire  2012-07-27   \n",
       "382               IBAPAH         Wildfire  2012-07-29   \n",
       "412                   73         Wildfire  2012-05-17   \n",
       "...                  ...              ...         ...   \n",
       "28018  FINK SANDSTONE RX  Prescribed Fire  2019-03-26   \n",
       "28022   HARRIS BRANCH RX  Prescribed Fire  2019-03-28   \n",
       "28054            UNNAMED  Prescribed Fire  2019-03-25   \n",
       "28061            UNNAMED  Prescribed Fire  2019-03-26   \n",
       "28074            UNNAMED          Unknown  2019-03-20   \n",
       "\n",
       "                          geometry index_right      name  \n",
       "0      POINT (-111.50799 41.75848)          UT      Utah  \n",
       "372    POINT (-110.66860 39.89245)          UT      Utah  \n",
       "381    POINT (-112.94540 40.62366)          UT      Utah  \n",
       "382    POINT (-113.95799 40.00499)          UT      Utah  \n",
       "412    POINT (-112.23804 40.26205)          UT      Utah  \n",
       "...                            ...         ...       ...  \n",
       "28018   POINT (-88.71612 37.50626)          IL  Illinois  \n",
       "28022   POINT (-88.27095 37.55491)          IL  Illinois  \n",
       "28054   POINT (-88.17146 41.37205)          IL  Illinois  \n",
       "28061   POINT (-88.03922 41.38849)          IL  Illinois  \n",
       "28074   POINT (-88.11554 41.37046)          IL  Illinois  \n",
       "\n",
       "[28461 rows x 6 columns]"
      ]
     },
     "execution_count": 54,
     "metadata": {},
     "output_type": "execute_result"
    }
   ],
   "source": [
    "# op (or predicate) can be 'intersects', 'contains', 'within', 'touches', 'crosses', 'overlaps'\n",
    "state_fires = gpd.sjoin(fires, states[['name', 'geometry']], op='within')  \n",
    "state_fires"
   ]
  },
  {
   "cell_type": "code",
   "execution_count": 55,
   "id": "f47506d3",
   "metadata": {
    "scrolled": true
   },
   "outputs": [
    {
     "data": {
      "text/html": [
       "<div>\n",
       "<style scoped>\n",
       "    .dataframe tbody tr th:only-of-type {\n",
       "        vertical-align: middle;\n",
       "    }\n",
       "\n",
       "    .dataframe tbody tr th {\n",
       "        vertical-align: top;\n",
       "    }\n",
       "\n",
       "    .dataframe thead th {\n",
       "        text-align: right;\n",
       "    }\n",
       "</style>\n",
       "<table border=\"1\" class=\"dataframe\">\n",
       "  <thead>\n",
       "    <tr style=\"text-align: right;\">\n",
       "      <th></th>\n",
       "      <th>number_of_fires</th>\n",
       "    </tr>\n",
       "    <tr>\n",
       "      <th>name</th>\n",
       "      <th></th>\n",
       "    </tr>\n",
       "  </thead>\n",
       "  <tbody>\n",
       "    <tr>\n",
       "      <th>Florida</th>\n",
       "      <td>5329</td>\n",
       "    </tr>\n",
       "    <tr>\n",
       "      <th>Kansas</th>\n",
       "      <td>1964</td>\n",
       "    </tr>\n",
       "    <tr>\n",
       "      <th>California</th>\n",
       "      <td>1867</td>\n",
       "    </tr>\n",
       "    <tr>\n",
       "      <th>Idaho</th>\n",
       "      <td>1517</td>\n",
       "    </tr>\n",
       "    <tr>\n",
       "      <th>Texas</th>\n",
       "      <td>1397</td>\n",
       "    </tr>\n",
       "    <tr>\n",
       "      <th>Alaska</th>\n",
       "      <td>1334</td>\n",
       "    </tr>\n",
       "    <tr>\n",
       "      <th>Arizona</th>\n",
       "      <td>1158</td>\n",
       "    </tr>\n",
       "    <tr>\n",
       "      <th>Oklahoma</th>\n",
       "      <td>1066</td>\n",
       "    </tr>\n",
       "    <tr>\n",
       "      <th>New Mexico</th>\n",
       "      <td>1007</td>\n",
       "    </tr>\n",
       "    <tr>\n",
       "      <th>Oregon</th>\n",
       "      <td>1003</td>\n",
       "    </tr>\n",
       "    <tr>\n",
       "      <th>Nevada</th>\n",
       "      <td>1002</td>\n",
       "    </tr>\n",
       "    <tr>\n",
       "      <th>Mississippi</th>\n",
       "      <td>788</td>\n",
       "    </tr>\n",
       "    <tr>\n",
       "      <th>Montana</th>\n",
       "      <td>776</td>\n",
       "    </tr>\n",
       "    <tr>\n",
       "      <th>South Carolina</th>\n",
       "      <td>766</td>\n",
       "    </tr>\n",
       "    <tr>\n",
       "      <th>Louisiana</th>\n",
       "      <td>681</td>\n",
       "    </tr>\n",
       "    <tr>\n",
       "      <th>Utah</th>\n",
       "      <td>680</td>\n",
       "    </tr>\n",
       "    <tr>\n",
       "      <th>Alabama</th>\n",
       "      <td>672</td>\n",
       "    </tr>\n",
       "    <tr>\n",
       "      <th>Georgia</th>\n",
       "      <td>604</td>\n",
       "    </tr>\n",
       "    <tr>\n",
       "      <th>Arkansas</th>\n",
       "      <td>568</td>\n",
       "    </tr>\n",
       "    <tr>\n",
       "      <th>Washington</th>\n",
       "      <td>538</td>\n",
       "    </tr>\n",
       "    <tr>\n",
       "      <th>Minnesota</th>\n",
       "      <td>512</td>\n",
       "    </tr>\n",
       "    <tr>\n",
       "      <th>Wyoming</th>\n",
       "      <td>427</td>\n",
       "    </tr>\n",
       "    <tr>\n",
       "      <th>Colorado</th>\n",
       "      <td>374</td>\n",
       "    </tr>\n",
       "    <tr>\n",
       "      <th>Kentucky</th>\n",
       "      <td>344</td>\n",
       "    </tr>\n",
       "    <tr>\n",
       "      <th>West Virginia</th>\n",
       "      <td>309</td>\n",
       "    </tr>\n",
       "    <tr>\n",
       "      <th>North Carolina</th>\n",
       "      <td>277</td>\n",
       "    </tr>\n",
       "    <tr>\n",
       "      <th>Missouri</th>\n",
       "      <td>271</td>\n",
       "    </tr>\n",
       "    <tr>\n",
       "      <th>South Dakota</th>\n",
       "      <td>229</td>\n",
       "    </tr>\n",
       "    <tr>\n",
       "      <th>Tennessee</th>\n",
       "      <td>199</td>\n",
       "    </tr>\n",
       "    <tr>\n",
       "      <th>Virginia</th>\n",
       "      <td>138</td>\n",
       "    </tr>\n",
       "    <tr>\n",
       "      <th>Nebraska</th>\n",
       "      <td>117</td>\n",
       "    </tr>\n",
       "    <tr>\n",
       "      <th>New Jersey</th>\n",
       "      <td>111</td>\n",
       "    </tr>\n",
       "    <tr>\n",
       "      <th>North Dakota</th>\n",
       "      <td>105</td>\n",
       "    </tr>\n",
       "    <tr>\n",
       "      <th>Michigan</th>\n",
       "      <td>78</td>\n",
       "    </tr>\n",
       "    <tr>\n",
       "      <th>Indiana</th>\n",
       "      <td>62</td>\n",
       "    </tr>\n",
       "    <tr>\n",
       "      <th>Wisconsin</th>\n",
       "      <td>51</td>\n",
       "    </tr>\n",
       "    <tr>\n",
       "      <th>Maryland</th>\n",
       "      <td>41</td>\n",
       "    </tr>\n",
       "    <tr>\n",
       "      <th>Illinois</th>\n",
       "      <td>28</td>\n",
       "    </tr>\n",
       "    <tr>\n",
       "      <th>Hawaii</th>\n",
       "      <td>20</td>\n",
       "    </tr>\n",
       "    <tr>\n",
       "      <th>Pennsylvania</th>\n",
       "      <td>16</td>\n",
       "    </tr>\n",
       "    <tr>\n",
       "      <th>Iowa</th>\n",
       "      <td>13</td>\n",
       "    </tr>\n",
       "    <tr>\n",
       "      <th>New York</th>\n",
       "      <td>11</td>\n",
       "    </tr>\n",
       "    <tr>\n",
       "      <th>Maine</th>\n",
       "      <td>4</td>\n",
       "    </tr>\n",
       "    <tr>\n",
       "      <th>Ohio</th>\n",
       "      <td>3</td>\n",
       "    </tr>\n",
       "    <tr>\n",
       "      <th>Delaware</th>\n",
       "      <td>3</td>\n",
       "    </tr>\n",
       "    <tr>\n",
       "      <th>Massachusetts</th>\n",
       "      <td>1</td>\n",
       "    </tr>\n",
       "  </tbody>\n",
       "</table>\n",
       "</div>"
      ],
      "text/plain": [
       "                number_of_fires\n",
       "name                           \n",
       "Florida                    5329\n",
       "Kansas                     1964\n",
       "California                 1867\n",
       "Idaho                      1517\n",
       "Texas                      1397\n",
       "Alaska                     1334\n",
       "Arizona                    1158\n",
       "Oklahoma                   1066\n",
       "New Mexico                 1007\n",
       "Oregon                     1003\n",
       "Nevada                     1002\n",
       "Mississippi                 788\n",
       "Montana                     776\n",
       "South Carolina              766\n",
       "Louisiana                   681\n",
       "Utah                        680\n",
       "Alabama                     672\n",
       "Georgia                     604\n",
       "Arkansas                    568\n",
       "Washington                  538\n",
       "Minnesota                   512\n",
       "Wyoming                     427\n",
       "Colorado                    374\n",
       "Kentucky                    344\n",
       "West Virginia               309\n",
       "North Carolina              277\n",
       "Missouri                    271\n",
       "South Dakota                229\n",
       "Tennessee                   199\n",
       "Virginia                    138\n",
       "Nebraska                    117\n",
       "New Jersey                  111\n",
       "North Dakota                105\n",
       "Michigan                     78\n",
       "Indiana                      62\n",
       "Wisconsin                    51\n",
       "Maryland                     41\n",
       "Illinois                     28\n",
       "Hawaii                       20\n",
       "Pennsylvania                 16\n",
       "Iowa                         13\n",
       "New York                     11\n",
       "Maine                         4\n",
       "Ohio                          3\n",
       "Delaware                      3\n",
       "Massachusetts                 1"
      ]
     },
     "execution_count": 55,
     "metadata": {},
     "output_type": "execute_result"
    }
   ],
   "source": [
    "# create pandas DataFrame object with states and fire count\n",
    "counts_per_state = state_fires.groupby('name').size() # Will return a Series, not a DataFrame\n",
    "counts_per_state = counts_per_state.to_frame(name='number_of_fires') # Convert Series to DataFrame\n",
    "counts_per_state.sort_values(by='number_of_fires', ascending=False) # list highest values first "
   ]
  },
  {
   "cell_type": "markdown",
   "id": "74fdd8f4",
   "metadata": {},
   "source": [
    "<a href=https://pandas.pydata.org/docs/reference/api/pandas.DataFrame.merge.html> `.merge()` </a> function will add a dataframe into the other based on a given index. Be aware that if you do not specify `how='outer`, it will automatically return the values that only exist in both DataFrames, meaning that some states will be disregarded."
   ]
  },
  {
   "cell_type": "code",
   "execution_count": 56,
   "id": "84ab85b8",
   "metadata": {
    "scrolled": true
   },
   "outputs": [
    {
     "data": {
      "text/html": [
       "<div>\n",
       "<style scoped>\n",
       "    .dataframe tbody tr th:only-of-type {\n",
       "        vertical-align: middle;\n",
       "    }\n",
       "\n",
       "    .dataframe tbody tr th {\n",
       "        vertical-align: top;\n",
       "    }\n",
       "\n",
       "    .dataframe thead th {\n",
       "        text-align: right;\n",
       "    }\n",
       "</style>\n",
       "<table border=\"1\" class=\"dataframe\">\n",
       "  <thead>\n",
       "    <tr style=\"text-align: right;\">\n",
       "      <th></th>\n",
       "      <th>number_of_fires</th>\n",
       "    </tr>\n",
       "    <tr>\n",
       "      <th>name</th>\n",
       "      <th></th>\n",
       "    </tr>\n",
       "  </thead>\n",
       "  <tbody>\n",
       "    <tr>\n",
       "      <th>Alabama</th>\n",
       "      <td>672</td>\n",
       "    </tr>\n",
       "    <tr>\n",
       "      <th>Alaska</th>\n",
       "      <td>1334</td>\n",
       "    </tr>\n",
       "    <tr>\n",
       "      <th>Arizona</th>\n",
       "      <td>1158</td>\n",
       "    </tr>\n",
       "    <tr>\n",
       "      <th>Arkansas</th>\n",
       "      <td>568</td>\n",
       "    </tr>\n",
       "    <tr>\n",
       "      <th>California</th>\n",
       "      <td>1867</td>\n",
       "    </tr>\n",
       "    <tr>\n",
       "      <th>Colorado</th>\n",
       "      <td>374</td>\n",
       "    </tr>\n",
       "    <tr>\n",
       "      <th>Delaware</th>\n",
       "      <td>3</td>\n",
       "    </tr>\n",
       "    <tr>\n",
       "      <th>Florida</th>\n",
       "      <td>5329</td>\n",
       "    </tr>\n",
       "    <tr>\n",
       "      <th>Georgia</th>\n",
       "      <td>604</td>\n",
       "    </tr>\n",
       "    <tr>\n",
       "      <th>Hawaii</th>\n",
       "      <td>20</td>\n",
       "    </tr>\n",
       "    <tr>\n",
       "      <th>Idaho</th>\n",
       "      <td>1517</td>\n",
       "    </tr>\n",
       "    <tr>\n",
       "      <th>Illinois</th>\n",
       "      <td>28</td>\n",
       "    </tr>\n",
       "    <tr>\n",
       "      <th>Indiana</th>\n",
       "      <td>62</td>\n",
       "    </tr>\n",
       "    <tr>\n",
       "      <th>Iowa</th>\n",
       "      <td>13</td>\n",
       "    </tr>\n",
       "    <tr>\n",
       "      <th>Kansas</th>\n",
       "      <td>1964</td>\n",
       "    </tr>\n",
       "    <tr>\n",
       "      <th>Kentucky</th>\n",
       "      <td>344</td>\n",
       "    </tr>\n",
       "    <tr>\n",
       "      <th>Louisiana</th>\n",
       "      <td>681</td>\n",
       "    </tr>\n",
       "    <tr>\n",
       "      <th>Maine</th>\n",
       "      <td>4</td>\n",
       "    </tr>\n",
       "    <tr>\n",
       "      <th>Maryland</th>\n",
       "      <td>41</td>\n",
       "    </tr>\n",
       "    <tr>\n",
       "      <th>Massachusetts</th>\n",
       "      <td>1</td>\n",
       "    </tr>\n",
       "    <tr>\n",
       "      <th>Michigan</th>\n",
       "      <td>78</td>\n",
       "    </tr>\n",
       "    <tr>\n",
       "      <th>Minnesota</th>\n",
       "      <td>512</td>\n",
       "    </tr>\n",
       "    <tr>\n",
       "      <th>Mississippi</th>\n",
       "      <td>788</td>\n",
       "    </tr>\n",
       "    <tr>\n",
       "      <th>Missouri</th>\n",
       "      <td>271</td>\n",
       "    </tr>\n",
       "    <tr>\n",
       "      <th>Montana</th>\n",
       "      <td>776</td>\n",
       "    </tr>\n",
       "    <tr>\n",
       "      <th>Nebraska</th>\n",
       "      <td>117</td>\n",
       "    </tr>\n",
       "    <tr>\n",
       "      <th>Nevada</th>\n",
       "      <td>1002</td>\n",
       "    </tr>\n",
       "    <tr>\n",
       "      <th>New Jersey</th>\n",
       "      <td>111</td>\n",
       "    </tr>\n",
       "    <tr>\n",
       "      <th>New Mexico</th>\n",
       "      <td>1007</td>\n",
       "    </tr>\n",
       "    <tr>\n",
       "      <th>New York</th>\n",
       "      <td>11</td>\n",
       "    </tr>\n",
       "    <tr>\n",
       "      <th>North Carolina</th>\n",
       "      <td>277</td>\n",
       "    </tr>\n",
       "    <tr>\n",
       "      <th>North Dakota</th>\n",
       "      <td>105</td>\n",
       "    </tr>\n",
       "    <tr>\n",
       "      <th>Ohio</th>\n",
       "      <td>3</td>\n",
       "    </tr>\n",
       "    <tr>\n",
       "      <th>Oklahoma</th>\n",
       "      <td>1066</td>\n",
       "    </tr>\n",
       "    <tr>\n",
       "      <th>Oregon</th>\n",
       "      <td>1003</td>\n",
       "    </tr>\n",
       "    <tr>\n",
       "      <th>Pennsylvania</th>\n",
       "      <td>16</td>\n",
       "    </tr>\n",
       "    <tr>\n",
       "      <th>South Carolina</th>\n",
       "      <td>766</td>\n",
       "    </tr>\n",
       "    <tr>\n",
       "      <th>South Dakota</th>\n",
       "      <td>229</td>\n",
       "    </tr>\n",
       "    <tr>\n",
       "      <th>Tennessee</th>\n",
       "      <td>199</td>\n",
       "    </tr>\n",
       "    <tr>\n",
       "      <th>Texas</th>\n",
       "      <td>1397</td>\n",
       "    </tr>\n",
       "    <tr>\n",
       "      <th>Utah</th>\n",
       "      <td>680</td>\n",
       "    </tr>\n",
       "    <tr>\n",
       "      <th>Virginia</th>\n",
       "      <td>138</td>\n",
       "    </tr>\n",
       "    <tr>\n",
       "      <th>Washington</th>\n",
       "      <td>538</td>\n",
       "    </tr>\n",
       "    <tr>\n",
       "      <th>West Virginia</th>\n",
       "      <td>309</td>\n",
       "    </tr>\n",
       "    <tr>\n",
       "      <th>Wisconsin</th>\n",
       "      <td>51</td>\n",
       "    </tr>\n",
       "    <tr>\n",
       "      <th>Wyoming</th>\n",
       "      <td>427</td>\n",
       "    </tr>\n",
       "  </tbody>\n",
       "</table>\n",
       "</div>"
      ],
      "text/plain": [
       "                number_of_fires\n",
       "name                           \n",
       "Alabama                     672\n",
       "Alaska                     1334\n",
       "Arizona                    1158\n",
       "Arkansas                    568\n",
       "California                 1867\n",
       "Colorado                    374\n",
       "Delaware                      3\n",
       "Florida                    5329\n",
       "Georgia                     604\n",
       "Hawaii                       20\n",
       "Idaho                      1517\n",
       "Illinois                     28\n",
       "Indiana                      62\n",
       "Iowa                         13\n",
       "Kansas                     1964\n",
       "Kentucky                    344\n",
       "Louisiana                   681\n",
       "Maine                         4\n",
       "Maryland                     41\n",
       "Massachusetts                 1\n",
       "Michigan                     78\n",
       "Minnesota                   512\n",
       "Mississippi                 788\n",
       "Missouri                    271\n",
       "Montana                     776\n",
       "Nebraska                    117\n",
       "Nevada                     1002\n",
       "New Jersey                  111\n",
       "New Mexico                 1007\n",
       "New York                     11\n",
       "North Carolina              277\n",
       "North Dakota                105\n",
       "Ohio                          3\n",
       "Oklahoma                   1066\n",
       "Oregon                     1003\n",
       "Pennsylvania                 16\n",
       "South Carolina              766\n",
       "South Dakota                229\n",
       "Tennessee                   199\n",
       "Texas                      1397\n",
       "Utah                        680\n",
       "Virginia                    138\n",
       "Washington                  538\n",
       "West Virginia               309\n",
       "Wisconsin                    51\n",
       "Wyoming                     427"
      ]
     },
     "execution_count": 56,
     "metadata": {},
     "output_type": "execute_result"
    }
   ],
   "source": [
    "counts_per_state"
   ]
  },
  {
   "cell_type": "code",
   "execution_count": 57,
   "id": "c9653d88",
   "metadata": {
    "scrolled": true
   },
   "outputs": [
    {
     "data": {
      "text/html": [
       "<div>\n",
       "<style scoped>\n",
       "    .dataframe tbody tr th:only-of-type {\n",
       "        vertical-align: middle;\n",
       "    }\n",
       "\n",
       "    .dataframe tbody tr th {\n",
       "        vertical-align: top;\n",
       "    }\n",
       "\n",
       "    .dataframe thead th {\n",
       "        text-align: right;\n",
       "    }\n",
       "</style>\n",
       "<table border=\"1\" class=\"dataframe\">\n",
       "  <thead>\n",
       "    <tr style=\"text-align: right;\">\n",
       "      <th></th>\n",
       "      <th>name</th>\n",
       "      <th>fips</th>\n",
       "      <th>latitude</th>\n",
       "      <th>longitude</th>\n",
       "      <th>region</th>\n",
       "      <th>geometry</th>\n",
       "      <th>number_of_fires</th>\n",
       "    </tr>\n",
       "  </thead>\n",
       "  <tbody>\n",
       "    <tr>\n",
       "      <th>0</th>\n",
       "      <td>Alabama</td>\n",
       "      <td>US01</td>\n",
       "      <td>32.8551</td>\n",
       "      <td>-86.7184</td>\n",
       "      <td>South</td>\n",
       "      <td>POLYGON ((-88.16696 34.99967, -86.90968 34.999...</td>\n",
       "      <td>672.0</td>\n",
       "    </tr>\n",
       "    <tr>\n",
       "      <th>1</th>\n",
       "      <td>Alaska</td>\n",
       "      <td>US02</td>\n",
       "      <td>65.3609</td>\n",
       "      <td>-151.6040</td>\n",
       "      <td>West</td>\n",
       "      <td>MULTIPOLYGON (((-153.22873 57.96897, -152.5647...</td>\n",
       "      <td>1334.0</td>\n",
       "    </tr>\n",
       "    <tr>\n",
       "      <th>2</th>\n",
       "      <td>Arizona</td>\n",
       "      <td>US04</td>\n",
       "      <td>34.3046</td>\n",
       "      <td>-111.9350</td>\n",
       "      <td>West</td>\n",
       "      <td>POLYGON ((-109.04522 36.99991, -109.04367 31.3...</td>\n",
       "      <td>1158.0</td>\n",
       "    </tr>\n",
       "    <tr>\n",
       "      <th>3</th>\n",
       "      <td>Arkansas</td>\n",
       "      <td>US05</td>\n",
       "      <td>34.7563</td>\n",
       "      <td>-92.1428</td>\n",
       "      <td>South</td>\n",
       "      <td>POLYGON ((-89.66292 36.02307, -89.67351 35.940...</td>\n",
       "      <td>568.0</td>\n",
       "    </tr>\n",
       "    <tr>\n",
       "      <th>4</th>\n",
       "      <td>California</td>\n",
       "      <td>US06</td>\n",
       "      <td>36.7496</td>\n",
       "      <td>-119.5910</td>\n",
       "      <td>West</td>\n",
       "      <td>POLYGON ((-114.64222 35.05311, -114.62212 34.9...</td>\n",
       "      <td>1867.0</td>\n",
       "    </tr>\n",
       "    <tr>\n",
       "      <th>5</th>\n",
       "      <td>Colorado</td>\n",
       "      <td>US08</td>\n",
       "      <td>38.9998</td>\n",
       "      <td>-105.5430</td>\n",
       "      <td>West</td>\n",
       "      <td>POLYGON ((-102.05017 40.00081, -102.04012 38.4...</td>\n",
       "      <td>374.0</td>\n",
       "    </tr>\n",
       "    <tr>\n",
       "      <th>6</th>\n",
       "      <td>Connecticut</td>\n",
       "      <td>US09</td>\n",
       "      <td>41.6486</td>\n",
       "      <td>-72.7594</td>\n",
       "      <td>Northeast</td>\n",
       "      <td>POLYGON ((-73.49794 42.05451, -72.73222 42.035...</td>\n",
       "      <td>NaN</td>\n",
       "    </tr>\n",
       "    <tr>\n",
       "      <th>7</th>\n",
       "      <td>Delaware</td>\n",
       "      <td>US10</td>\n",
       "      <td>38.8657</td>\n",
       "      <td>-75.4112</td>\n",
       "      <td>South</td>\n",
       "      <td>POLYGON ((-75.04839 38.44876, -75.71462 38.449...</td>\n",
       "      <td>3.0</td>\n",
       "    </tr>\n",
       "    <tr>\n",
       "      <th>8</th>\n",
       "      <td>District of Columbia</td>\n",
       "      <td>US11</td>\n",
       "      <td>38.8922</td>\n",
       "      <td>-77.0113</td>\n",
       "      <td>South</td>\n",
       "      <td>POLYGON ((-77.04124 38.78954, -77.04123 38.789...</td>\n",
       "      <td>NaN</td>\n",
       "    </tr>\n",
       "    <tr>\n",
       "      <th>9</th>\n",
       "      <td>Florida</td>\n",
       "      <td>US12</td>\n",
       "      <td>28.1568</td>\n",
       "      <td>-81.6228</td>\n",
       "      <td>South</td>\n",
       "      <td>POLYGON ((-87.53039 30.27420, -87.45789 30.411...</td>\n",
       "      <td>5329.0</td>\n",
       "    </tr>\n",
       "    <tr>\n",
       "      <th>10</th>\n",
       "      <td>Georgia</td>\n",
       "      <td>US13</td>\n",
       "      <td>32.8547</td>\n",
       "      <td>-83.4078</td>\n",
       "      <td>South</td>\n",
       "      <td>POLYGON ((-85.00519 30.99069, -85.05442 31.108...</td>\n",
       "      <td>604.0</td>\n",
       "    </tr>\n",
       "    <tr>\n",
       "      <th>11</th>\n",
       "      <td>Hawaii</td>\n",
       "      <td>US15</td>\n",
       "      <td>21.4919</td>\n",
       "      <td>-157.9990</td>\n",
       "      <td>West</td>\n",
       "      <td>MULTIPOLYGON (((-155.93665 19.05939, -155.9080...</td>\n",
       "      <td>20.0</td>\n",
       "    </tr>\n",
       "    <tr>\n",
       "      <th>12</th>\n",
       "      <td>Idaho</td>\n",
       "      <td>US16</td>\n",
       "      <td>43.7825</td>\n",
       "      <td>-114.1330</td>\n",
       "      <td>West</td>\n",
       "      <td>POLYGON ((-116.04823 49.00037, -115.96780 47.9...</td>\n",
       "      <td>1517.0</td>\n",
       "    </tr>\n",
       "    <tr>\n",
       "      <th>13</th>\n",
       "      <td>Illinois</td>\n",
       "      <td>US17</td>\n",
       "      <td>39.9460</td>\n",
       "      <td>-89.1991</td>\n",
       "      <td>Midwest</td>\n",
       "      <td>POLYGON ((-91.43033 40.36860, -91.41023 40.551...</td>\n",
       "      <td>28.0</td>\n",
       "    </tr>\n",
       "    <tr>\n",
       "      <th>14</th>\n",
       "      <td>Indiana</td>\n",
       "      <td>US18</td>\n",
       "      <td>39.8874</td>\n",
       "      <td>-86.1396</td>\n",
       "      <td>Midwest</td>\n",
       "      <td>POLYGON ((-88.05108 37.81960, -88.01881 38.021...</td>\n",
       "      <td>62.0</td>\n",
       "    </tr>\n",
       "    <tr>\n",
       "      <th>15</th>\n",
       "      <td>Iowa</td>\n",
       "      <td>US19</td>\n",
       "      <td>42.0423</td>\n",
       "      <td>-93.3891</td>\n",
       "      <td>Midwest</td>\n",
       "      <td>POLYGON ((-96.45266 43.50179, -95.35994 43.500...</td>\n",
       "      <td>13.0</td>\n",
       "    </tr>\n",
       "    <tr>\n",
       "      <th>16</th>\n",
       "      <td>Kansas</td>\n",
       "      <td>US20</td>\n",
       "      <td>38.5000</td>\n",
       "      <td>-98.3309</td>\n",
       "      <td>Midwest</td>\n",
       "      <td>POLYGON ((-102.04118 36.99198, -102.04012 38.4...</td>\n",
       "      <td>1964.0</td>\n",
       "    </tr>\n",
       "    <tr>\n",
       "      <th>17</th>\n",
       "      <td>Kentucky</td>\n",
       "      <td>US21</td>\n",
       "      <td>37.3994</td>\n",
       "      <td>-85.5729</td>\n",
       "      <td>South</td>\n",
       "      <td>POLYGON ((-89.49836 36.50620, -89.27398 36.611...</td>\n",
       "      <td>344.0</td>\n",
       "    </tr>\n",
       "    <tr>\n",
       "      <th>18</th>\n",
       "      <td>Louisiana</td>\n",
       "      <td>US22</td>\n",
       "      <td>30.5274</td>\n",
       "      <td>-91.9991</td>\n",
       "      <td>South</td>\n",
       "      <td>POLYGON ((-94.05976 33.01212, -93.09403 33.010...</td>\n",
       "      <td>681.0</td>\n",
       "    </tr>\n",
       "    <tr>\n",
       "      <th>19</th>\n",
       "      <td>Maine</td>\n",
       "      <td>US23</td>\n",
       "      <td>45.1480</td>\n",
       "      <td>-69.1973</td>\n",
       "      <td>Northeast</td>\n",
       "      <td>POLYGON ((-70.64573 43.09008, -70.75102 43.080...</td>\n",
       "      <td>4.0</td>\n",
       "    </tr>\n",
       "    <tr>\n",
       "      <th>20</th>\n",
       "      <td>Maryland</td>\n",
       "      <td>US24</td>\n",
       "      <td>39.3874</td>\n",
       "      <td>-77.0454</td>\n",
       "      <td>South</td>\n",
       "      <td>POLYGON ((-75.37754 38.01538, -75.37754 38.015...</td>\n",
       "      <td>41.0</td>\n",
       "    </tr>\n",
       "    <tr>\n",
       "      <th>21</th>\n",
       "      <td>Massachusetts</td>\n",
       "      <td>US25</td>\n",
       "      <td>42.3739</td>\n",
       "      <td>-71.9993</td>\n",
       "      <td>Northeast</td>\n",
       "      <td>POLYGON ((-71.80091 42.01325, -72.73222 42.035...</td>\n",
       "      <td>1.0</td>\n",
       "    </tr>\n",
       "    <tr>\n",
       "      <th>22</th>\n",
       "      <td>Michigan</td>\n",
       "      <td>US26</td>\n",
       "      <td>43.4343</td>\n",
       "      <td>-84.9479</td>\n",
       "      <td>Midwest</td>\n",
       "      <td>POLYGON ((-89.95766 47.28691, -89.84283 47.464...</td>\n",
       "      <td>78.0</td>\n",
       "    </tr>\n",
       "    <tr>\n",
       "      <th>23</th>\n",
       "      <td>Minnesota</td>\n",
       "      <td>US27</td>\n",
       "      <td>46.0592</td>\n",
       "      <td>-93.3640</td>\n",
       "      <td>Midwest</td>\n",
       "      <td>POLYGON ((-89.95766 47.28691, -90.13175 47.292...</td>\n",
       "      <td>512.0</td>\n",
       "    </tr>\n",
       "    <tr>\n",
       "      <th>24</th>\n",
       "      <td>Mississippi</td>\n",
       "      <td>US28</td>\n",
       "      <td>32.8657</td>\n",
       "      <td>-89.7189</td>\n",
       "      <td>South</td>\n",
       "      <td>POLYGON ((-91.15624 33.01000, -91.10808 33.206...</td>\n",
       "      <td>788.0</td>\n",
       "    </tr>\n",
       "    <tr>\n",
       "      <th>25</th>\n",
       "      <td>Missouri</td>\n",
       "      <td>US29</td>\n",
       "      <td>38.5487</td>\n",
       "      <td>-92.4460</td>\n",
       "      <td>Midwest</td>\n",
       "      <td>POLYGON ((-89.66292 36.02307, -90.31539 36.023...</td>\n",
       "      <td>271.0</td>\n",
       "    </tr>\n",
       "    <tr>\n",
       "      <th>26</th>\n",
       "      <td>Montana</td>\n",
       "      <td>US30</td>\n",
       "      <td>46.9965</td>\n",
       "      <td>-110.0440</td>\n",
       "      <td>West</td>\n",
       "      <td>POLYGON ((-116.04823 49.00037, -113.05950 49.0...</td>\n",
       "      <td>776.0</td>\n",
       "    </tr>\n",
       "    <tr>\n",
       "      <th>27</th>\n",
       "      <td>Nebraska</td>\n",
       "      <td>US31</td>\n",
       "      <td>41.5002</td>\n",
       "      <td>-99.6855</td>\n",
       "      <td>Midwest</td>\n",
       "      <td>POLYGON ((-102.05017 40.00081, -102.05017 40.0...</td>\n",
       "      <td>117.0</td>\n",
       "    </tr>\n",
       "    <tr>\n",
       "      <th>28</th>\n",
       "      <td>Nevada</td>\n",
       "      <td>US32</td>\n",
       "      <td>39.4299</td>\n",
       "      <td>-117.0200</td>\n",
       "      <td>West</td>\n",
       "      <td>POLYGON ((-117.02825 42.00002, -114.03422 41.9...</td>\n",
       "      <td>1002.0</td>\n",
       "    </tr>\n",
       "    <tr>\n",
       "      <th>29</th>\n",
       "      <td>New Hampshire</td>\n",
       "      <td>US33</td>\n",
       "      <td>43.5993</td>\n",
       "      <td>-71.6301</td>\n",
       "      <td>Northeast</td>\n",
       "      <td>POLYGON ((-70.81505 42.86519, -70.93360 42.884...</td>\n",
       "      <td>NaN</td>\n",
       "    </tr>\n",
       "    <tr>\n",
       "      <th>30</th>\n",
       "      <td>New Jersey</td>\n",
       "      <td>US34</td>\n",
       "      <td>40.0449</td>\n",
       "      <td>-74.4653</td>\n",
       "      <td>Northeast</td>\n",
       "      <td>POLYGON ((-75.52781 39.49865, -75.55427 39.691...</td>\n",
       "      <td>111.0</td>\n",
       "    </tr>\n",
       "    <tr>\n",
       "      <th>31</th>\n",
       "      <td>New Mexico</td>\n",
       "      <td>US35</td>\n",
       "      <td>34.5002</td>\n",
       "      <td>-106.0240</td>\n",
       "      <td>West</td>\n",
       "      <td>POLYGON ((-109.04367 31.34190, -109.04522 36.9...</td>\n",
       "      <td>1007.0</td>\n",
       "    </tr>\n",
       "    <tr>\n",
       "      <th>32</th>\n",
       "      <td>New York</td>\n",
       "      <td>US36</td>\n",
       "      <td>43.1988</td>\n",
       "      <td>-75.3242</td>\n",
       "      <td>Northeast</td>\n",
       "      <td>POLYGON ((-73.49794 42.05451, -73.55349 41.289...</td>\n",
       "      <td>11.0</td>\n",
       "    </tr>\n",
       "    <tr>\n",
       "      <th>33</th>\n",
       "      <td>North Carolina</td>\n",
       "      <td>US37</td>\n",
       "      <td>35.6152</td>\n",
       "      <td>-78.8660</td>\n",
       "      <td>South</td>\n",
       "      <td>POLYGON ((-83.07637 34.97903, -84.32097 34.986...</td>\n",
       "      <td>277.0</td>\n",
       "    </tr>\n",
       "    <tr>\n",
       "      <th>34</th>\n",
       "      <td>North Dakota</td>\n",
       "      <td>US38</td>\n",
       "      <td>47.4675</td>\n",
       "      <td>-100.3020</td>\n",
       "      <td>Midwest</td>\n",
       "      <td>POLYGON ((-97.22894 49.00089, -97.21414 48.902...</td>\n",
       "      <td>105.0</td>\n",
       "    </tr>\n",
       "    <tr>\n",
       "      <th>35</th>\n",
       "      <td>Ohio</td>\n",
       "      <td>US39</td>\n",
       "      <td>40.0924</td>\n",
       "      <td>-82.6719</td>\n",
       "      <td>Midwest</td>\n",
       "      <td>POLYGON ((-84.82368 39.10653, -84.81787 39.799...</td>\n",
       "      <td>3.0</td>\n",
       "    </tr>\n",
       "    <tr>\n",
       "      <th>36</th>\n",
       "      <td>Oklahoma</td>\n",
       "      <td>US40</td>\n",
       "      <td>35.4520</td>\n",
       "      <td>-97.1309</td>\n",
       "      <td>South</td>\n",
       "      <td>POLYGON ((-103.00322 36.99516, -102.04118 36.9...</td>\n",
       "      <td>1066.0</td>\n",
       "    </tr>\n",
       "    <tr>\n",
       "      <th>37</th>\n",
       "      <td>Oregon</td>\n",
       "      <td>US41</td>\n",
       "      <td>43.8333</td>\n",
       "      <td>-120.3860</td>\n",
       "      <td>West</td>\n",
       "      <td>POLYGON ((-116.91500 45.99998, -116.67900 45.8...</td>\n",
       "      <td>1003.0</td>\n",
       "    </tr>\n",
       "    <tr>\n",
       "      <th>38</th>\n",
       "      <td>Pennsylvania</td>\n",
       "      <td>US42</td>\n",
       "      <td>40.8601</td>\n",
       "      <td>-77.6094</td>\n",
       "      <td>Northeast</td>\n",
       "      <td>POLYGON ((-80.51893 40.64111, -80.51627 42.324...</td>\n",
       "      <td>16.0</td>\n",
       "    </tr>\n",
       "    <tr>\n",
       "      <th>39</th>\n",
       "      <td>Rhode Island</td>\n",
       "      <td>US44</td>\n",
       "      <td>41.6242</td>\n",
       "      <td>-71.5082</td>\n",
       "      <td>Northeast</td>\n",
       "      <td>POLYGON ((-71.85383 41.32004, -71.79295 41.466...</td>\n",
       "      <td>NaN</td>\n",
       "    </tr>\n",
       "    <tr>\n",
       "      <th>40</th>\n",
       "      <td>South Carolina</td>\n",
       "      <td>US45</td>\n",
       "      <td>33.8578</td>\n",
       "      <td>-80.6471</td>\n",
       "      <td>South</td>\n",
       "      <td>POLYGON ((-80.86501 32.03316, -81.03644 32.084...</td>\n",
       "      <td>766.0</td>\n",
       "    </tr>\n",
       "    <tr>\n",
       "      <th>41</th>\n",
       "      <td>South Dakota</td>\n",
       "      <td>US46</td>\n",
       "      <td>44.4711</td>\n",
       "      <td>-100.2550</td>\n",
       "      <td>Midwest</td>\n",
       "      <td>POLYGON ((-96.53945 46.01797, -96.55689 45.872...</td>\n",
       "      <td>229.0</td>\n",
       "    </tr>\n",
       "    <tr>\n",
       "      <th>42</th>\n",
       "      <td>Tennessee</td>\n",
       "      <td>US47</td>\n",
       "      <td>35.7514</td>\n",
       "      <td>-86.3415</td>\n",
       "      <td>South</td>\n",
       "      <td>POLYGON ((-90.24924 35.02083, -90.13493 35.113...</td>\n",
       "      <td>199.0</td>\n",
       "    </tr>\n",
       "    <tr>\n",
       "      <th>43</th>\n",
       "      <td>Texas</td>\n",
       "      <td>US48</td>\n",
       "      <td>31.1310</td>\n",
       "      <td>-98.7607</td>\n",
       "      <td>South</td>\n",
       "      <td>POLYGON ((-106.50734 31.75429, -106.61953 31.9...</td>\n",
       "      <td>1397.0</td>\n",
       "    </tr>\n",
       "    <tr>\n",
       "      <th>44</th>\n",
       "      <td>Utah</td>\n",
       "      <td>US49</td>\n",
       "      <td>39.5007</td>\n",
       "      <td>-111.5440</td>\n",
       "      <td>West</td>\n",
       "      <td>POLYGON ((-114.03422 41.99312, -111.05024 42.0...</td>\n",
       "      <td>680.0</td>\n",
       "    </tr>\n",
       "    <tr>\n",
       "      <th>45</th>\n",
       "      <td>Vermont</td>\n",
       "      <td>US50</td>\n",
       "      <td>44.0886</td>\n",
       "      <td>-72.7317</td>\n",
       "      <td>Northeast</td>\n",
       "      <td>POLYGON ((-72.45707 42.72708, -73.28203 42.743...</td>\n",
       "      <td>NaN</td>\n",
       "    </tr>\n",
       "    <tr>\n",
       "      <th>46</th>\n",
       "      <td>Virginia</td>\n",
       "      <td>US51</td>\n",
       "      <td>37.7403</td>\n",
       "      <td>-78.2431</td>\n",
       "      <td>South</td>\n",
       "      <td>MULTIPOLYGON (((-83.33059 36.67266, -83.17851 ...</td>\n",
       "      <td>138.0</td>\n",
       "    </tr>\n",
       "    <tr>\n",
       "      <th>47</th>\n",
       "      <td>Washington</td>\n",
       "      <td>US53</td>\n",
       "      <td>47.4865</td>\n",
       "      <td>-120.3610</td>\n",
       "      <td>West</td>\n",
       "      <td>POLYGON ((-117.03143 48.99931, -117.02665 47.7...</td>\n",
       "      <td>538.0</td>\n",
       "    </tr>\n",
       "    <tr>\n",
       "      <th>48</th>\n",
       "      <td>West Virginia</td>\n",
       "      <td>US54</td>\n",
       "      <td>38.6422</td>\n",
       "      <td>-80.7128</td>\n",
       "      <td>South</td>\n",
       "      <td>POLYGON ((-81.97254 37.53595, -82.16728 37.554...</td>\n",
       "      <td>309.0</td>\n",
       "    </tr>\n",
       "    <tr>\n",
       "      <th>49</th>\n",
       "      <td>Wisconsin</td>\n",
       "      <td>US55</td>\n",
       "      <td>44.3709</td>\n",
       "      <td>-89.5831</td>\n",
       "      <td>Midwest</td>\n",
       "      <td>POLYGON ((-91.22820 43.50125, -91.25466 43.613...</td>\n",
       "      <td>51.0</td>\n",
       "    </tr>\n",
       "    <tr>\n",
       "      <th>50</th>\n",
       "      <td>Wyoming</td>\n",
       "      <td>US56</td>\n",
       "      <td>42.9999</td>\n",
       "      <td>-107.5520</td>\n",
       "      <td>West</td>\n",
       "      <td>POLYGON ((-111.08518 44.50615, -111.06719 44.5...</td>\n",
       "      <td>427.0</td>\n",
       "    </tr>\n",
       "  </tbody>\n",
       "</table>\n",
       "</div>"
      ],
      "text/plain": [
       "                    name  fips  latitude  longitude     region  \\\n",
       "0                Alabama  US01   32.8551   -86.7184      South   \n",
       "1                 Alaska  US02   65.3609  -151.6040       West   \n",
       "2                Arizona  US04   34.3046  -111.9350       West   \n",
       "3               Arkansas  US05   34.7563   -92.1428      South   \n",
       "4             California  US06   36.7496  -119.5910       West   \n",
       "5               Colorado  US08   38.9998  -105.5430       West   \n",
       "6            Connecticut  US09   41.6486   -72.7594  Northeast   \n",
       "7               Delaware  US10   38.8657   -75.4112      South   \n",
       "8   District of Columbia  US11   38.8922   -77.0113      South   \n",
       "9                Florida  US12   28.1568   -81.6228      South   \n",
       "10               Georgia  US13   32.8547   -83.4078      South   \n",
       "11                Hawaii  US15   21.4919  -157.9990       West   \n",
       "12                 Idaho  US16   43.7825  -114.1330       West   \n",
       "13              Illinois  US17   39.9460   -89.1991    Midwest   \n",
       "14               Indiana  US18   39.8874   -86.1396    Midwest   \n",
       "15                  Iowa  US19   42.0423   -93.3891    Midwest   \n",
       "16                Kansas  US20   38.5000   -98.3309    Midwest   \n",
       "17              Kentucky  US21   37.3994   -85.5729      South   \n",
       "18             Louisiana  US22   30.5274   -91.9991      South   \n",
       "19                 Maine  US23   45.1480   -69.1973  Northeast   \n",
       "20              Maryland  US24   39.3874   -77.0454      South   \n",
       "21         Massachusetts  US25   42.3739   -71.9993  Northeast   \n",
       "22              Michigan  US26   43.4343   -84.9479    Midwest   \n",
       "23             Minnesota  US27   46.0592   -93.3640    Midwest   \n",
       "24           Mississippi  US28   32.8657   -89.7189      South   \n",
       "25              Missouri  US29   38.5487   -92.4460    Midwest   \n",
       "26               Montana  US30   46.9965  -110.0440       West   \n",
       "27              Nebraska  US31   41.5002   -99.6855    Midwest   \n",
       "28                Nevada  US32   39.4299  -117.0200       West   \n",
       "29         New Hampshire  US33   43.5993   -71.6301  Northeast   \n",
       "30            New Jersey  US34   40.0449   -74.4653  Northeast   \n",
       "31            New Mexico  US35   34.5002  -106.0240       West   \n",
       "32              New York  US36   43.1988   -75.3242  Northeast   \n",
       "33        North Carolina  US37   35.6152   -78.8660      South   \n",
       "34          North Dakota  US38   47.4675  -100.3020    Midwest   \n",
       "35                  Ohio  US39   40.0924   -82.6719    Midwest   \n",
       "36              Oklahoma  US40   35.4520   -97.1309      South   \n",
       "37                Oregon  US41   43.8333  -120.3860       West   \n",
       "38          Pennsylvania  US42   40.8601   -77.6094  Northeast   \n",
       "39          Rhode Island  US44   41.6242   -71.5082  Northeast   \n",
       "40        South Carolina  US45   33.8578   -80.6471      South   \n",
       "41          South Dakota  US46   44.4711  -100.2550    Midwest   \n",
       "42             Tennessee  US47   35.7514   -86.3415      South   \n",
       "43                 Texas  US48   31.1310   -98.7607      South   \n",
       "44                  Utah  US49   39.5007  -111.5440       West   \n",
       "45               Vermont  US50   44.0886   -72.7317  Northeast   \n",
       "46              Virginia  US51   37.7403   -78.2431      South   \n",
       "47            Washington  US53   47.4865  -120.3610       West   \n",
       "48         West Virginia  US54   38.6422   -80.7128      South   \n",
       "49             Wisconsin  US55   44.3709   -89.5831    Midwest   \n",
       "50               Wyoming  US56   42.9999  -107.5520       West   \n",
       "\n",
       "                                             geometry  number_of_fires  \n",
       "0   POLYGON ((-88.16696 34.99967, -86.90968 34.999...            672.0  \n",
       "1   MULTIPOLYGON (((-153.22873 57.96897, -152.5647...           1334.0  \n",
       "2   POLYGON ((-109.04522 36.99991, -109.04367 31.3...           1158.0  \n",
       "3   POLYGON ((-89.66292 36.02307, -89.67351 35.940...            568.0  \n",
       "4   POLYGON ((-114.64222 35.05311, -114.62212 34.9...           1867.0  \n",
       "5   POLYGON ((-102.05017 40.00081, -102.04012 38.4...            374.0  \n",
       "6   POLYGON ((-73.49794 42.05451, -72.73222 42.035...              NaN  \n",
       "7   POLYGON ((-75.04839 38.44876, -75.71462 38.449...              3.0  \n",
       "8   POLYGON ((-77.04124 38.78954, -77.04123 38.789...              NaN  \n",
       "9   POLYGON ((-87.53039 30.27420, -87.45789 30.411...           5329.0  \n",
       "10  POLYGON ((-85.00519 30.99069, -85.05442 31.108...            604.0  \n",
       "11  MULTIPOLYGON (((-155.93665 19.05939, -155.9080...             20.0  \n",
       "12  POLYGON ((-116.04823 49.00037, -115.96780 47.9...           1517.0  \n",
       "13  POLYGON ((-91.43033 40.36860, -91.41023 40.551...             28.0  \n",
       "14  POLYGON ((-88.05108 37.81960, -88.01881 38.021...             62.0  \n",
       "15  POLYGON ((-96.45266 43.50179, -95.35994 43.500...             13.0  \n",
       "16  POLYGON ((-102.04118 36.99198, -102.04012 38.4...           1964.0  \n",
       "17  POLYGON ((-89.49836 36.50620, -89.27398 36.611...            344.0  \n",
       "18  POLYGON ((-94.05976 33.01212, -93.09403 33.010...            681.0  \n",
       "19  POLYGON ((-70.64573 43.09008, -70.75102 43.080...              4.0  \n",
       "20  POLYGON ((-75.37754 38.01538, -75.37754 38.015...             41.0  \n",
       "21  POLYGON ((-71.80091 42.01325, -72.73222 42.035...              1.0  \n",
       "22  POLYGON ((-89.95766 47.28691, -89.84283 47.464...             78.0  \n",
       "23  POLYGON ((-89.95766 47.28691, -90.13175 47.292...            512.0  \n",
       "24  POLYGON ((-91.15624 33.01000, -91.10808 33.206...            788.0  \n",
       "25  POLYGON ((-89.66292 36.02307, -90.31539 36.023...            271.0  \n",
       "26  POLYGON ((-116.04823 49.00037, -113.05950 49.0...            776.0  \n",
       "27  POLYGON ((-102.05017 40.00081, -102.05017 40.0...            117.0  \n",
       "28  POLYGON ((-117.02825 42.00002, -114.03422 41.9...           1002.0  \n",
       "29  POLYGON ((-70.81505 42.86519, -70.93360 42.884...              NaN  \n",
       "30  POLYGON ((-75.52781 39.49865, -75.55427 39.691...            111.0  \n",
       "31  POLYGON ((-109.04367 31.34190, -109.04522 36.9...           1007.0  \n",
       "32  POLYGON ((-73.49794 42.05451, -73.55349 41.289...             11.0  \n",
       "33  POLYGON ((-83.07637 34.97903, -84.32097 34.986...            277.0  \n",
       "34  POLYGON ((-97.22894 49.00089, -97.21414 48.902...            105.0  \n",
       "35  POLYGON ((-84.82368 39.10653, -84.81787 39.799...              3.0  \n",
       "36  POLYGON ((-103.00322 36.99516, -102.04118 36.9...           1066.0  \n",
       "37  POLYGON ((-116.91500 45.99998, -116.67900 45.8...           1003.0  \n",
       "38  POLYGON ((-80.51893 40.64111, -80.51627 42.324...             16.0  \n",
       "39  POLYGON ((-71.85383 41.32004, -71.79295 41.466...              NaN  \n",
       "40  POLYGON ((-80.86501 32.03316, -81.03644 32.084...            766.0  \n",
       "41  POLYGON ((-96.53945 46.01797, -96.55689 45.872...            229.0  \n",
       "42  POLYGON ((-90.24924 35.02083, -90.13493 35.113...            199.0  \n",
       "43  POLYGON ((-106.50734 31.75429, -106.61953 31.9...           1397.0  \n",
       "44  POLYGON ((-114.03422 41.99312, -111.05024 42.0...            680.0  \n",
       "45  POLYGON ((-72.45707 42.72708, -73.28203 42.743...              NaN  \n",
       "46  MULTIPOLYGON (((-83.33059 36.67266, -83.17851 ...            138.0  \n",
       "47  POLYGON ((-117.03143 48.99931, -117.02665 47.7...            538.0  \n",
       "48  POLYGON ((-81.97254 37.53595, -82.16728 37.554...            309.0  \n",
       "49  POLYGON ((-91.22820 43.50125, -91.25466 43.613...             51.0  \n",
       "50  POLYGON ((-111.08518 44.50615, -111.06719 44.5...            427.0  "
      ]
     },
     "execution_count": 57,
     "metadata": {},
     "output_type": "execute_result"
    }
   ],
   "source": [
    "states_sjoin_1 = states.merge(counts_per_state, left_on='name', right_on='name', how='outer')\n",
    "states_sjoin_1"
   ]
  },
  {
   "cell_type": "markdown",
   "id": "f8ec312f",
   "metadata": {},
   "source": [
    "#### 3.4.3. Spatial Join with `.loc` method of `GeoDataFrame` and relationship test method of  `shapely`"
   ]
  },
  {
   "cell_type": "markdown",
   "id": "ceaf7afa",
   "metadata": {},
   "source": [
    "You can test the relationship between two geometries by using <a href=https://geopandas.org/en/stable/docs/reference/api/geopandas.GeoSeries.intersects.html>`intersects` </a>, <a href=https://geopandas.org/en/stable/docs/reference/api/geopandas.GeoSeries.contains.html>`contains`</a>, <a href=https://geopandas.org/en/stable/docs/reference/api/geopandas.GeoSeries.within.html>`within`</a> so on. This will give you Boolean (i.e., True or False). "
   ]
  },
  {
   "cell_type": "code",
   "execution_count": 58,
   "id": "e63c9c48",
   "metadata": {},
   "outputs": [
    {
     "data": {
      "text/plain": [
       "0        False\n",
       "1        False\n",
       "2        False\n",
       "3        False\n",
       "4        False\n",
       "         ...  \n",
       "28579    False\n",
       "28580    False\n",
       "28581    False\n",
       "28582    False\n",
       "28583    False\n",
       "Length: 28584, dtype: bool"
      ]
     },
     "execution_count": 58,
     "metadata": {},
     "output_type": "execute_result"
    }
   ],
   "source": [
    "# Test the relationship between the fire location points and State polygons\n",
    "fires['geometry'].intersects(\n",
    "        states.at['AL', 'geometry']\n",
    "    )"
   ]
  },
  {
   "cell_type": "markdown",
   "id": "2c9e77bf",
   "metadata": {},
   "source": [
    "Combination of the relationship test with `.loc` method will slice the given GeoDataFrame"
   ]
  },
  {
   "cell_type": "code",
   "execution_count": 59,
   "id": "9a497105",
   "metadata": {},
   "outputs": [
    {
     "data": {
      "text/html": [
       "<div>\n",
       "<style scoped>\n",
       "    .dataframe tbody tr th:only-of-type {\n",
       "        vertical-align: middle;\n",
       "    }\n",
       "\n",
       "    .dataframe tbody tr th {\n",
       "        vertical-align: top;\n",
       "    }\n",
       "\n",
       "    .dataframe thead th {\n",
       "        text-align: right;\n",
       "    }\n",
       "</style>\n",
       "<table border=\"1\" class=\"dataframe\">\n",
       "  <thead>\n",
       "    <tr style=\"text-align: right;\">\n",
       "      <th></th>\n",
       "      <th>Incid_Name</th>\n",
       "      <th>Incid_Type</th>\n",
       "      <th>Ig_Date</th>\n",
       "      <th>geometry</th>\n",
       "    </tr>\n",
       "  </thead>\n",
       "  <tbody>\n",
       "    <tr>\n",
       "      <th>642</th>\n",
       "      <td>SMOKE CHASER</td>\n",
       "      <td>Wildfire</td>\n",
       "      <td>2012-01-31</td>\n",
       "      <td>POINT (-85.62636 33.75153)</td>\n",
       "    </tr>\n",
       "    <tr>\n",
       "      <th>987</th>\n",
       "      <td>SEMINOLE FIRE</td>\n",
       "      <td>Wildfire</td>\n",
       "      <td>2011-06-05</td>\n",
       "      <td>POINT (-87.46848 30.53995)</td>\n",
       "    </tr>\n",
       "    <tr>\n",
       "      <th>988</th>\n",
       "      <td>ST MARK CHURCH</td>\n",
       "      <td>Wildfire</td>\n",
       "      <td>2011-03-04</td>\n",
       "      <td>POINT (-85.72716 32.26555)</td>\n",
       "    </tr>\n",
       "    <tr>\n",
       "      <th>989</th>\n",
       "      <td>MUD CREEK FIRE</td>\n",
       "      <td>Wildfire</td>\n",
       "      <td>2011-06-04</td>\n",
       "      <td>POINT (-87.10912 33.40652)</td>\n",
       "    </tr>\n",
       "    <tr>\n",
       "      <th>990</th>\n",
       "      <td>FLEET</td>\n",
       "      <td>Wildfire</td>\n",
       "      <td>2011-02-19</td>\n",
       "      <td>POINT (-85.54137 33.89979)</td>\n",
       "    </tr>\n",
       "    <tr>\n",
       "      <th>...</th>\n",
       "      <td>...</td>\n",
       "      <td>...</td>\n",
       "      <td>...</td>\n",
       "      <td>...</td>\n",
       "    </tr>\n",
       "    <tr>\n",
       "      <th>28565</th>\n",
       "      <td>OK C-61</td>\n",
       "      <td>Prescribed Fire</td>\n",
       "      <td>2019-03-05</td>\n",
       "      <td>POINT (-87.41140 32.87049)</td>\n",
       "    </tr>\n",
       "    <tr>\n",
       "      <th>28566</th>\n",
       "      <td>UNNAMED</td>\n",
       "      <td>Prescribed Fire</td>\n",
       "      <td>2019-03-26</td>\n",
       "      <td>POINT (-87.31914 32.93106)</td>\n",
       "    </tr>\n",
       "    <tr>\n",
       "      <th>28567</th>\n",
       "      <td>UNNAMED</td>\n",
       "      <td>Unknown</td>\n",
       "      <td>2019-04-16</td>\n",
       "      <td>POINT (-87.48566 32.94249)</td>\n",
       "    </tr>\n",
       "    <tr>\n",
       "      <th>28568</th>\n",
       "      <td>UNNAMED</td>\n",
       "      <td>Prescribed Fire</td>\n",
       "      <td>2019-03-20</td>\n",
       "      <td>POINT (-87.33001 32.98040)</td>\n",
       "    </tr>\n",
       "    <tr>\n",
       "      <th>28572</th>\n",
       "      <td>OK 426 B</td>\n",
       "      <td>Wildfire</td>\n",
       "      <td>2019-04-02</td>\n",
       "      <td>POINT (-86.93944 32.76786)</td>\n",
       "    </tr>\n",
       "  </tbody>\n",
       "</table>\n",
       "<p>672 rows × 4 columns</p>\n",
       "</div>"
      ],
      "text/plain": [
       "           Incid_Name       Incid_Type     Ig_Date                    geometry\n",
       "642      SMOKE CHASER         Wildfire  2012-01-31  POINT (-85.62636 33.75153)\n",
       "987     SEMINOLE FIRE         Wildfire  2011-06-05  POINT (-87.46848 30.53995)\n",
       "988    ST MARK CHURCH         Wildfire  2011-03-04  POINT (-85.72716 32.26555)\n",
       "989    MUD CREEK FIRE         Wildfire  2011-06-04  POINT (-87.10912 33.40652)\n",
       "990             FLEET         Wildfire  2011-02-19  POINT (-85.54137 33.89979)\n",
       "...               ...              ...         ...                         ...\n",
       "28565         OK C-61  Prescribed Fire  2019-03-05  POINT (-87.41140 32.87049)\n",
       "28566         UNNAMED  Prescribed Fire  2019-03-26  POINT (-87.31914 32.93106)\n",
       "28567         UNNAMED          Unknown  2019-04-16  POINT (-87.48566 32.94249)\n",
       "28568         UNNAMED  Prescribed Fire  2019-03-20  POINT (-87.33001 32.98040)\n",
       "28572        OK 426 B         Wildfire  2019-04-02  POINT (-86.93944 32.76786)\n",
       "\n",
       "[672 rows x 4 columns]"
      ]
     },
     "execution_count": 59,
     "metadata": {},
     "output_type": "execute_result"
    }
   ],
   "source": [
    "# The following example will return the fire locations in the state of Alabama\n",
    "fires.loc[\n",
    "    fires['geometry'].intersects(\n",
    "        states.at['AL', 'geometry']\n",
    "    )\n",
    "]"
   ]
  },
  {
   "cell_type": "markdown",
   "id": "c505205b",
   "metadata": {},
   "source": [
    "Let's combine all the processes into one cell. "
   ]
  },
  {
   "cell_type": "code",
   "execution_count": 60,
   "id": "fcd84f21",
   "metadata": {
    "scrolled": true
   },
   "outputs": [
    {
     "data": {
      "text/html": [
       "<div>\n",
       "<style scoped>\n",
       "    .dataframe tbody tr th:only-of-type {\n",
       "        vertical-align: middle;\n",
       "    }\n",
       "\n",
       "    .dataframe tbody tr th {\n",
       "        vertical-align: top;\n",
       "    }\n",
       "\n",
       "    .dataframe thead th {\n",
       "        text-align: right;\n",
       "    }\n",
       "</style>\n",
       "<table border=\"1\" class=\"dataframe\">\n",
       "  <thead>\n",
       "    <tr style=\"text-align: right;\">\n",
       "      <th></th>\n",
       "      <th>name</th>\n",
       "      <th>fips</th>\n",
       "      <th>latitude</th>\n",
       "      <th>longitude</th>\n",
       "      <th>region</th>\n",
       "      <th>geometry</th>\n",
       "      <th>number_of_fires</th>\n",
       "    </tr>\n",
       "    <tr>\n",
       "      <th>postal</th>\n",
       "      <th></th>\n",
       "      <th></th>\n",
       "      <th></th>\n",
       "      <th></th>\n",
       "      <th></th>\n",
       "      <th></th>\n",
       "      <th></th>\n",
       "    </tr>\n",
       "  </thead>\n",
       "  <tbody>\n",
       "    <tr>\n",
       "      <th>AL</th>\n",
       "      <td>Alabama</td>\n",
       "      <td>US01</td>\n",
       "      <td>32.8551</td>\n",
       "      <td>-86.7184</td>\n",
       "      <td>South</td>\n",
       "      <td>POLYGON ((-88.16696 34.99967, -86.90968 34.999...</td>\n",
       "      <td>672</td>\n",
       "    </tr>\n",
       "    <tr>\n",
       "      <th>AK</th>\n",
       "      <td>Alaska</td>\n",
       "      <td>US02</td>\n",
       "      <td>65.3609</td>\n",
       "      <td>-151.6040</td>\n",
       "      <td>West</td>\n",
       "      <td>MULTIPOLYGON (((-153.22873 57.96897, -152.5647...</td>\n",
       "      <td>1334</td>\n",
       "    </tr>\n",
       "    <tr>\n",
       "      <th>AZ</th>\n",
       "      <td>Arizona</td>\n",
       "      <td>US04</td>\n",
       "      <td>34.3046</td>\n",
       "      <td>-111.9350</td>\n",
       "      <td>West</td>\n",
       "      <td>POLYGON ((-109.04522 36.99991, -109.04367 31.3...</td>\n",
       "      <td>1158</td>\n",
       "    </tr>\n",
       "    <tr>\n",
       "      <th>AR</th>\n",
       "      <td>Arkansas</td>\n",
       "      <td>US05</td>\n",
       "      <td>34.7563</td>\n",
       "      <td>-92.1428</td>\n",
       "      <td>South</td>\n",
       "      <td>POLYGON ((-89.66292 36.02307, -89.67351 35.940...</td>\n",
       "      <td>568</td>\n",
       "    </tr>\n",
       "    <tr>\n",
       "      <th>CA</th>\n",
       "      <td>California</td>\n",
       "      <td>US06</td>\n",
       "      <td>36.7496</td>\n",
       "      <td>-119.5910</td>\n",
       "      <td>West</td>\n",
       "      <td>POLYGON ((-114.64222 35.05311, -114.62212 34.9...</td>\n",
       "      <td>1867</td>\n",
       "    </tr>\n",
       "  </tbody>\n",
       "</table>\n",
       "</div>"
      ],
      "text/plain": [
       "              name  fips  latitude  longitude region  \\\n",
       "postal                                                 \n",
       "AL         Alabama  US01   32.8551   -86.7184  South   \n",
       "AK          Alaska  US02   65.3609  -151.6040   West   \n",
       "AZ         Arizona  US04   34.3046  -111.9350   West   \n",
       "AR        Arkansas  US05   34.7563   -92.1428  South   \n",
       "CA      California  US06   36.7496  -119.5910   West   \n",
       "\n",
       "                                                 geometry  number_of_fires  \n",
       "postal                                                                      \n",
       "AL      POLYGON ((-88.16696 34.99967, -86.90968 34.999...              672  \n",
       "AK      MULTIPOLYGON (((-153.22873 57.96897, -152.5647...             1334  \n",
       "AZ      POLYGON ((-109.04522 36.99991, -109.04367 31.3...             1158  \n",
       "AR      POLYGON ((-89.66292 36.02307, -89.67351 35.940...              568  \n",
       "CA      POLYGON ((-114.64222 35.05311, -114.62212 34.9...             1867  "
      ]
     },
     "execution_count": 60,
     "metadata": {},
     "output_type": "execute_result"
    }
   ],
   "source": [
    "# Now, let's count the number of fires in each state. \n",
    "states_sjoin_2 = states.copy() # Make a copy\n",
    "states_sjoin_2['number_of_fires'] = 0 # Create an empty column to store the result of spatial join\n",
    "\n",
    "for idx, row in states_sjoin_2.iterrows(): # Iterrating through rows of GeoDataFrame\n",
    "    # This will give you the Dataframe of fires associated with each state\n",
    "    temp_ = fires.loc[fires['geometry'].intersects(row['geometry'])]  \n",
    "    \n",
    "    if temp_.shape[0]: # If the sliced dataframe is not empty\n",
    "        states_sjoin_2.at[idx, 'number_of_fires'] = temp_.shape[0] # Enter the number of fires in each state\n",
    "        \n",
    "    else: # If the sliced dataframe is empty\n",
    "        states_sjoin_2.at[idx, 'number_of_fires'] = 0 # Enter 0 for the state in the loop. \n",
    "        \n",
    "states_sjoin_2.head()"
   ]
  },
  {
   "cell_type": "code",
   "execution_count": 61,
   "id": "1d53f483",
   "metadata": {},
   "outputs": [
    {
     "data": {
      "text/html": [
       "<div>\n",
       "<style scoped>\n",
       "    .dataframe tbody tr th:only-of-type {\n",
       "        vertical-align: middle;\n",
       "    }\n",
       "\n",
       "    .dataframe tbody tr th {\n",
       "        vertical-align: top;\n",
       "    }\n",
       "\n",
       "    .dataframe thead th {\n",
       "        text-align: right;\n",
       "    }\n",
       "</style>\n",
       "<table border=\"1\" class=\"dataframe\">\n",
       "  <thead>\n",
       "    <tr style=\"text-align: right;\">\n",
       "      <th></th>\n",
       "      <th>name</th>\n",
       "      <th>fips</th>\n",
       "      <th>latitude</th>\n",
       "      <th>longitude</th>\n",
       "      <th>region</th>\n",
       "      <th>geometry</th>\n",
       "      <th>number_of_fires</th>\n",
       "    </tr>\n",
       "  </thead>\n",
       "  <tbody>\n",
       "    <tr>\n",
       "      <th>0</th>\n",
       "      <td>Alabama</td>\n",
       "      <td>US01</td>\n",
       "      <td>32.8551</td>\n",
       "      <td>-86.7184</td>\n",
       "      <td>South</td>\n",
       "      <td>POLYGON ((-88.16696 34.99967, -86.90968 34.999...</td>\n",
       "      <td>672.0</td>\n",
       "    </tr>\n",
       "    <tr>\n",
       "      <th>1</th>\n",
       "      <td>Alaska</td>\n",
       "      <td>US02</td>\n",
       "      <td>65.3609</td>\n",
       "      <td>-151.6040</td>\n",
       "      <td>West</td>\n",
       "      <td>MULTIPOLYGON (((-153.22873 57.96897, -152.5647...</td>\n",
       "      <td>1334.0</td>\n",
       "    </tr>\n",
       "    <tr>\n",
       "      <th>2</th>\n",
       "      <td>Arizona</td>\n",
       "      <td>US04</td>\n",
       "      <td>34.3046</td>\n",
       "      <td>-111.9350</td>\n",
       "      <td>West</td>\n",
       "      <td>POLYGON ((-109.04522 36.99991, -109.04367 31.3...</td>\n",
       "      <td>1158.0</td>\n",
       "    </tr>\n",
       "    <tr>\n",
       "      <th>3</th>\n",
       "      <td>Arkansas</td>\n",
       "      <td>US05</td>\n",
       "      <td>34.7563</td>\n",
       "      <td>-92.1428</td>\n",
       "      <td>South</td>\n",
       "      <td>POLYGON ((-89.66292 36.02307, -89.67351 35.940...</td>\n",
       "      <td>568.0</td>\n",
       "    </tr>\n",
       "    <tr>\n",
       "      <th>4</th>\n",
       "      <td>California</td>\n",
       "      <td>US06</td>\n",
       "      <td>36.7496</td>\n",
       "      <td>-119.5910</td>\n",
       "      <td>West</td>\n",
       "      <td>POLYGON ((-114.64222 35.05311, -114.62212 34.9...</td>\n",
       "      <td>1867.0</td>\n",
       "    </tr>\n",
       "  </tbody>\n",
       "</table>\n",
       "</div>"
      ],
      "text/plain": [
       "         name  fips  latitude  longitude region  \\\n",
       "0     Alabama  US01   32.8551   -86.7184  South   \n",
       "1      Alaska  US02   65.3609  -151.6040   West   \n",
       "2     Arizona  US04   34.3046  -111.9350   West   \n",
       "3    Arkansas  US05   34.7563   -92.1428  South   \n",
       "4  California  US06   36.7496  -119.5910   West   \n",
       "\n",
       "                                            geometry  number_of_fires  \n",
       "0  POLYGON ((-88.16696 34.99967, -86.90968 34.999...            672.0  \n",
       "1  MULTIPOLYGON (((-153.22873 57.96897, -152.5647...           1334.0  \n",
       "2  POLYGON ((-109.04522 36.99991, -109.04367 31.3...           1158.0  \n",
       "3  POLYGON ((-89.66292 36.02307, -89.67351 35.940...            568.0  \n",
       "4  POLYGON ((-114.64222 35.05311, -114.62212 34.9...           1867.0  "
      ]
     },
     "execution_count": 61,
     "metadata": {},
     "output_type": "execute_result"
    }
   ],
   "source": [
    "# Compare the results of the two appraoches of spatial join\n",
    "states_sjoin_1.head()"
   ]
  },
  {
   "cell_type": "markdown",
   "id": "e54d70db",
   "metadata": {},
   "source": [
    "---\n",
    "### *Exercise*\n",
    "```python\n",
    "# Original code\n",
    "fires.loc[fires['geometry'].intersects(states.at['AL', 'geometry'])]\n",
    "```\n",
    "\n",
    "1. From the original code above, replace `intersects()` with `within()`, and count the number of fires in Illinois. Then, save the number of fires as `fire_in_IL`. <br><br>\n",
    "\n",
    "2. From the original code above, replace `intersects()` with `contains()`, and think about why it doesn't have any return for `contains()`. \n",
    "<br><br>\n",
    "3. When can we use `contains()`? Find the state that had a fire on 2000-01-01, and save ONLY the name of the state as `first_fire_in_millennium`. <br>\n",
    "**Hint**: the following statement will give you a coordinates (Point) that the fire ignited on 2000-01-01. \n",
    "```python\n",
    "fires.loc[fires['Ig_Date'] == '2000-01-01', 'geometry'].values[0]\n",
    "```\n",
    "\n",
    "---"
   ]
  },
  {
   "cell_type": "code",
   "execution_count": 62,
   "id": "1a4fb6fa",
   "metadata": {
    "scrolled": false
   },
   "outputs": [
    {
     "data": {
      "text/html": [
       "<div>\n",
       "<style scoped>\n",
       "    .dataframe tbody tr th:only-of-type {\n",
       "        vertical-align: middle;\n",
       "    }\n",
       "\n",
       "    .dataframe tbody tr th {\n",
       "        vertical-align: top;\n",
       "    }\n",
       "\n",
       "    .dataframe thead th {\n",
       "        text-align: right;\n",
       "    }\n",
       "</style>\n",
       "<table border=\"1\" class=\"dataframe\">\n",
       "  <thead>\n",
       "    <tr style=\"text-align: right;\">\n",
       "      <th></th>\n",
       "      <th>Incid_Name</th>\n",
       "      <th>Incid_Type</th>\n",
       "      <th>Ig_Date</th>\n",
       "      <th>geometry</th>\n",
       "    </tr>\n",
       "  </thead>\n",
       "  <tbody>\n",
       "    <tr>\n",
       "      <th>642</th>\n",
       "      <td>SMOKE CHASER</td>\n",
       "      <td>Wildfire</td>\n",
       "      <td>2012-01-31</td>\n",
       "      <td>POINT (-85.62636 33.75153)</td>\n",
       "    </tr>\n",
       "    <tr>\n",
       "      <th>987</th>\n",
       "      <td>SEMINOLE FIRE</td>\n",
       "      <td>Wildfire</td>\n",
       "      <td>2011-06-05</td>\n",
       "      <td>POINT (-87.46848 30.53995)</td>\n",
       "    </tr>\n",
       "    <tr>\n",
       "      <th>988</th>\n",
       "      <td>ST MARK CHURCH</td>\n",
       "      <td>Wildfire</td>\n",
       "      <td>2011-03-04</td>\n",
       "      <td>POINT (-85.72716 32.26555)</td>\n",
       "    </tr>\n",
       "    <tr>\n",
       "      <th>989</th>\n",
       "      <td>MUD CREEK FIRE</td>\n",
       "      <td>Wildfire</td>\n",
       "      <td>2011-06-04</td>\n",
       "      <td>POINT (-87.10912 33.40652)</td>\n",
       "    </tr>\n",
       "    <tr>\n",
       "      <th>990</th>\n",
       "      <td>FLEET</td>\n",
       "      <td>Wildfire</td>\n",
       "      <td>2011-02-19</td>\n",
       "      <td>POINT (-85.54137 33.89979)</td>\n",
       "    </tr>\n",
       "    <tr>\n",
       "      <th>...</th>\n",
       "      <td>...</td>\n",
       "      <td>...</td>\n",
       "      <td>...</td>\n",
       "      <td>...</td>\n",
       "    </tr>\n",
       "    <tr>\n",
       "      <th>28565</th>\n",
       "      <td>OK C-61</td>\n",
       "      <td>Prescribed Fire</td>\n",
       "      <td>2019-03-05</td>\n",
       "      <td>POINT (-87.41140 32.87049)</td>\n",
       "    </tr>\n",
       "    <tr>\n",
       "      <th>28566</th>\n",
       "      <td>UNNAMED</td>\n",
       "      <td>Prescribed Fire</td>\n",
       "      <td>2019-03-26</td>\n",
       "      <td>POINT (-87.31914 32.93106)</td>\n",
       "    </tr>\n",
       "    <tr>\n",
       "      <th>28567</th>\n",
       "      <td>UNNAMED</td>\n",
       "      <td>Unknown</td>\n",
       "      <td>2019-04-16</td>\n",
       "      <td>POINT (-87.48566 32.94249)</td>\n",
       "    </tr>\n",
       "    <tr>\n",
       "      <th>28568</th>\n",
       "      <td>UNNAMED</td>\n",
       "      <td>Prescribed Fire</td>\n",
       "      <td>2019-03-20</td>\n",
       "      <td>POINT (-87.33001 32.98040)</td>\n",
       "    </tr>\n",
       "    <tr>\n",
       "      <th>28572</th>\n",
       "      <td>OK 426 B</td>\n",
       "      <td>Wildfire</td>\n",
       "      <td>2019-04-02</td>\n",
       "      <td>POINT (-86.93944 32.76786)</td>\n",
       "    </tr>\n",
       "  </tbody>\n",
       "</table>\n",
       "<p>672 rows × 4 columns</p>\n",
       "</div>"
      ],
      "text/plain": [
       "           Incid_Name       Incid_Type     Ig_Date                    geometry\n",
       "642      SMOKE CHASER         Wildfire  2012-01-31  POINT (-85.62636 33.75153)\n",
       "987     SEMINOLE FIRE         Wildfire  2011-06-05  POINT (-87.46848 30.53995)\n",
       "988    ST MARK CHURCH         Wildfire  2011-03-04  POINT (-85.72716 32.26555)\n",
       "989    MUD CREEK FIRE         Wildfire  2011-06-04  POINT (-87.10912 33.40652)\n",
       "990             FLEET         Wildfire  2011-02-19  POINT (-85.54137 33.89979)\n",
       "...               ...              ...         ...                         ...\n",
       "28565         OK C-61  Prescribed Fire  2019-03-05  POINT (-87.41140 32.87049)\n",
       "28566         UNNAMED  Prescribed Fire  2019-03-26  POINT (-87.31914 32.93106)\n",
       "28567         UNNAMED          Unknown  2019-04-16  POINT (-87.48566 32.94249)\n",
       "28568         UNNAMED  Prescribed Fire  2019-03-20  POINT (-87.33001 32.98040)\n",
       "28572        OK 426 B         Wildfire  2019-04-02  POINT (-86.93944 32.76786)\n",
       "\n",
       "[672 rows x 4 columns]"
      ]
     },
     "execution_count": 62,
     "metadata": {},
     "output_type": "execute_result"
    }
   ],
   "source": [
    "# Check the result of original code\n",
    "fires.loc[fires['geometry'].intersects(states.at['AL', 'geometry'])]"
   ]
  },
  {
   "cell_type": "code",
   "execution_count": 63,
   "id": "d72fa60b",
   "metadata": {},
   "outputs": [
    {
     "name": "stdout",
     "output_type": "stream",
     "text": [
      "28\n",
      "Empty GeoDataFrame\n",
      "Columns: [Incid_Name, Incid_Type, Ig_Date, geometry]\n",
      "Index: []\n",
      "Oklahoma\n"
     ]
    }
   ],
   "source": [
    "# Your code here\n",
    "\n",
    "# Step 1\n",
    "fire_in_IL = fires.loc[fires['geometry'].within(states.at['IL', 'geometry'])].shape[0]\n",
    "print(fire_in_IL)\n",
    "\n",
    "# Step 2\n",
    "print(fires.loc[fires['geometry'].contains(states.at['AL', 'geometry'])])\n",
    "\n",
    "# Step 3\n",
    "fire_point = fires.loc[fires['Ig_Date'] == '2000-01-01', 'geometry'].values[0] \n",
    "fire_point\n",
    "\n",
    "first_fire_in_millennium = states.loc[states['geometry'].contains(fire_point), 'name'].values[0]\n",
    "print(first_fire_in_millennium)\n"
   ]
  },
  {
   "cell_type": "code",
   "execution_count": 64,
   "id": "730ac2bd",
   "metadata": {},
   "outputs": [
    {
     "name": "stdout",
     "output_type": "stream",
     "text": [
      "Success!\n"
     ]
    }
   ],
   "source": [
    "\"\"\" Test code for the previous function. This cell should NOT give any errors when it is run.\"\"\"\n",
    "\n",
    "# Check your result here. \n",
    "assert fire_in_IL == 28\n",
    "assert first_fire_in_millennium == 'Oklahoma'\n",
    "\n",
    "print(\"Success!\")"
   ]
  },
  {
   "cell_type": "markdown",
   "id": "456a98e4",
   "metadata": {},
   "source": [
    "### 3.5. Visualize data (more details will be covered in Week 6)"
   ]
  },
  {
   "cell_type": "code",
   "execution_count": 65,
   "id": "a72b5540",
   "metadata": {},
   "outputs": [
    {
     "data": {
      "text/plain": [
       "<AxesSubplot:>"
      ]
     },
     "execution_count": 65,
     "metadata": {},
     "output_type": "execute_result"
    },
    {
     "data": {
      "image/png": "[encoded data removed]",
      "text/plain": [
       "<Figure size 1080x432 with 2 Axes>"
      ]
     },
     "metadata": {
      "needs_background": "light"
     },
     "output_type": "display_data"
    }
   ],
   "source": [
    "# create a static map of the number of fire per state\n",
    "states_sjoin_2.plot(column='number_of_fires', figsize=(15, 6), cmap='Reds', legend=True)"
   ]
  },
  {
   "cell_type": "code",
   "execution_count": 66,
   "id": "f6eeea5e",
   "metadata": {},
   "outputs": [
    {
     "data": {
      "text/plain": [
       "<AxesSubplot:>"
      ]
     },
     "execution_count": 66,
     "metadata": {},
     "output_type": "execute_result"
    },
    {
     "data": {
      "image/png": "[encoded data removed]",
      "text/plain": [
       "<Figure size 1080x432 with 1 Axes>"
      ]
     },
     "metadata": {
      "needs_background": "light"
     },
     "output_type": "display_data"
    }
   ],
   "source": [
    "# Use Quantiles for the classification scheme (uses `mapclassify` package)\n",
    "states_sjoin_2.plot(column='number_of_fires', figsize=(15, 6), cmap='Reds', legend=True, scheme='Quantiles')"
   ]
  },
  {
   "cell_type": "code",
   "execution_count": 67,
   "id": "99070b99",
   "metadata": {},
   "outputs": [
    {
     "data": {
      "text/plain": [
       "<AxesSubplot:>"
      ]
     },
     "execution_count": 67,
     "metadata": {},
     "output_type": "execute_result"
    },
    {
     "data": {
      "image/png": "[encoded data removed]",
      "text/plain": [
       "<Figure size 1080x432 with 1 Axes>"
      ]
     },
     "metadata": {
      "needs_background": "light"
     },
     "output_type": "display_data"
    }
   ],
   "source": [
    "# Use FisherJenks algorithm of 7 classes (k) for the classification scheme (uses `mapclassify` package)\n",
    "states_sjoin_2.plot(column='number_of_fires', figsize=(15, 6), cmap='Reds', legend=True, scheme='FisherJenks', k=7)"
   ]
  }
 ],
 "metadata": {
  "kernelspec": {
   "display_name": "Python 3 (ipykernel)",
   "language": "python",
   "name": "python3"
  },
  "language_info": {
   "codemirror_mode": {
    "name": "ipython",
    "version": 3
   },
   "file_extension": ".py",
   "mimetype": "text/x-python",
   "name": "python",
   "nbconvert_exporter": "python",
   "pygments_lexer": "ipython3",
   "version": "3.8.13"
  }
 },
 "nbformat": 4,
 "nbformat_minor": 5
}
