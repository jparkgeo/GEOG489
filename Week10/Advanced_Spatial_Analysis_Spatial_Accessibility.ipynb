{
 "cells": [
  {
   "cell_type": "markdown",
   "id": "af059281",
   "metadata": {},
   "source": [
    "# Advanced Spatial Analysis: Spatial Accessibility\n",
    "\n",
    "## Overview\n",
    "In this lecture, we will investigate a method to measure spatial accessibility. The method is called the two-step floating catchment area (2SFCA). The method has been spotlighted as it includes the interactions among supply, demand, and mobility, and it is straightforward, making this method relatively easy to replicate and reproduce. \n",
    "The method consists of two steps, as you can tell from its name. The first step is to calculate the supply-to-demand ratio of each infrastructure (e.g., hospitals). The second step is to sum the ratio from the locations of demand. In both steps, the method considers the interaction between the supply and demand that is only accessible within a particular threshold travel cost (e.g., 30 minutes or 10 km).  \n",
    "\n",
    "### First step:\n",
    "\n",
    "$$\\huge R_j = \\frac{S_j}{\\sum_{k\\in {\\left\\{d_{kj} \\le d_0 \\right\\}}}^{}P_k}$$\n",
    "where<br>\n",
    "$R_j$: the supply-to-demand ratio of location $j$. <br>\n",
    "$S_j$: the degree of supply (e.g., number of doctors) at location $j$. <br>\n",
    "$P_k$: the degree of demand (e.g., population) at location $k$. <br>\n",
    "$d_{kj}$: the travel cost between locations $k$ and $j$. <br>\n",
    "$d_0$: the threshold travel cost of the analysis. \n",
    "\n",
    "### Second step:\n",
    "$$\\huge A_i = \\sum_{j\\in {\\left\\{d_{ij} \\le d_0 \\right\\}}} R_j$$\n",
    "where<br>\n",
    "$A_i$: the accessibility measures at location $i$. <br>\n",
    "$R_j$: the supply-to-demand ratio of location $j$. <br>\n",
    "\n",
    "![](./data/fig1.jpg)\n",
    "\n",
    "\n",
    "Source: <br>\n",
    "* Luo, W., & Wang, F. (2003). Measures of spatial accessibility to health care in a GIS environment: Synthesis and a case study in the Chicago region. *Environment and Planning B: Planning and Design*, 30(6), 865–884. <br>\n",
    "* Data is obtained from https://github.com/cybergis/COVID_19Accessibility"
   ]
  },
  {
   "cell_type": "code",
   "execution_count": null,
   "id": "22ce6788",
   "metadata": {},
   "outputs": [],
   "source": [
    "import geopandas as gpd\n",
    "import pandas as pd\n",
    "import osmnx as ox\n",
    "import time\n",
    "from tqdm import tqdm, trange\n",
    "from shapely.geometry import Point, MultiPoint\n",
    "import networkx as nx\n",
    "import matplotlib.pyplot as plt\n",
    "from scipy.stats import pearsonr\n",
    "import warnings\n",
    "warnings.filterwarnings(\"ignore\")"
   ]
  },
  {
   "cell_type": "markdown",
   "id": "ed5540bc",
   "metadata": {},
   "source": [
    "## Import Data"
   ]
  },
  {
   "cell_type": "code",
   "execution_count": null,
   "id": "4f4bd225",
   "metadata": {
    "scrolled": true
   },
   "outputs": [],
   "source": [
    "# Supply: hospitals in the city of Chicago\n",
    "hospitals = gpd.read_file('./data/Chicago_Hospital_Info.shp')\n",
    "hospitals.head(1)"
   ]
  },
  {
   "cell_type": "code",
   "execution_count": null,
   "id": "f2823e31",
   "metadata": {
    "scrolled": true
   },
   "outputs": [],
   "source": [
    "# Demand: population per census tract\n",
    "tracts = gpd.read_file('./data/Chicago_Tract.shp')\n",
    "tracts.head(1)"
   ]
  },
  {
   "cell_type": "code",
   "execution_count": null,
   "id": "881bb524",
   "metadata": {},
   "outputs": [],
   "source": [
    "fig, ax = plt.subplots(figsize=(10, 10))\n",
    "\n",
    "tracts.plot('TotalPop', ax=ax, scheme='FisherJenks', cmap='Blues')\n",
    "hospitals.plot(markersize='Total_Bed', ax=ax, color='black')"
   ]
  },
  {
   "cell_type": "code",
   "execution_count": null,
   "id": "0b791df3",
   "metadata": {},
   "outputs": [],
   "source": [
    "# Mobility: Chicago Road Network\n",
    "G = ox.io.load_graphml('./data/chicago_road.graphml')\n",
    "ox.plot_graph(G)"
   ]
  },
  {
   "cell_type": "code",
   "execution_count": null,
   "id": "318d856b",
   "metadata": {},
   "outputs": [],
   "source": [
    "'''\n",
    "## This cell demonstrates how you can make the identical network dataset from OSMnx. \n",
    "\n",
    "# Obtain OSM Network in the city of Chicago\n",
    "G = ox.graph_from_place('Chicago, IL, USA', network_type='drive', simplify=True)\n",
    "\n",
    "# Remove edges\n",
    "for u, v, data in G.copy().edges(data=True):\n",
    "    if data['highway'] not in ['motorway', 'motorway_link', \n",
    "                               'trunk', 'trunk_link',\n",
    "                               'primary', 'primary_link', \n",
    "                               'secondary', 'secondary_link']:\n",
    "        G.remove_edge(u, v)\n",
    "        \n",
    "# Remove nodes\n",
    "G.remove_nodes_from(list(nx.isolates(G)))\n",
    "\n",
    "# Save OSM Network to Graphml\n",
    "ox.io.save_graphml(G, './data/chicago_road.graphml')\n",
    "\n",
    "'''"
   ]
  },
  {
   "cell_type": "markdown",
   "id": "fabb9155",
   "metadata": {},
   "source": [
    "## Data Preprocessing"
   ]
  },
  {
   "cell_type": "code",
   "execution_count": null,
   "id": "6c372bd1",
   "metadata": {},
   "outputs": [],
   "source": [
    "# This function helps you to find the nearest OSM node from a given GeoDataFrame\n",
    "# If geom type is point, it will take it without modification, but \n",
    "# IF geom type is polygon or multipolygon, it will take its centroid to calculate the nearest element. \n",
    "\n",
    "def find_nearest_osm(network, gdf):\n",
    "    for idx, row in tqdm(gdf.iterrows(), total=gdf.shape[0]):\n",
    "        if row.geometry.geom_type == 'Point':\n",
    "            nearest_osm = ox.distance.nearest_nodes(network, \n",
    "                                                    X=row.geometry.x, \n",
    "                                                    Y=row.geometry.y\n",
    "                                                   )\n",
    "        elif row.geometry.geom_type == 'Polygon' or row.geometry.geom_type == 'MultiPolygon':\n",
    "            nearest_osm = ox.distance.nearest_nodes(network, \n",
    "                                        X=row.geometry.centroid.x, \n",
    "                                        Y=row.geometry.centroid.y\n",
    "                                       )\n",
    "        else:\n",
    "            print(row.geometry.geom_type)\n",
    "            continue\n",
    "\n",
    "        gdf.at[idx, 'nearest_osm'] = nearest_osm\n",
    "\n",
    "    return gdf\n",
    "\n",
    "supply = find_nearest_osm(G, hospitals)\n",
    "demand = find_nearest_osm(G, tracts)"
   ]
  },
  {
   "cell_type": "code",
   "execution_count": null,
   "id": "8510b161",
   "metadata": {
    "scrolled": false
   },
   "outputs": [],
   "source": [
    "# Extract the nodes and edges of the network dataset for the future analysis. \n",
    "nodes, edges = ox.graph_to_gdfs(G, nodes=True, edges=True, node_geometry=True)\n",
    "nodes.head(1)"
   ]
  },
  {
   "cell_type": "markdown",
   "id": "f1aba302",
   "metadata": {},
   "source": [
    "## Procedural demonstration\n",
    "\n",
    "The following procedure demonstrates how to make a catchment area from a given location. \n",
    "1. Calculate accessible nodes in the network dataset from a given location with `nx.single_source_dijkstra_path_length()`. The function returns a dictionary (keys: OSMID, values: distance from a given location).  \n",
    "2. Extract the locations (or coordinates) of accessible nodes based on the OSMID. \n",
    "3. Create a convex hull with the locations of the nodes. "
   ]
  },
  {
   "cell_type": "code",
   "execution_count": null,
   "id": "54fc3fb6",
   "metadata": {},
   "outputs": [],
   "source": [
    "# Threshold travel time\n",
    "dist = 10000\n",
    "\n",
    "# Calculate the number of census tract that is accessible to each hospital\n",
    "# This returns the dictionary that has OSM node as its key and the distance as value.\n",
    "temp_nodes = nx.single_source_dijkstra_path_length(G, supply.loc[0, 'nearest_osm'], dist, weight='length')\n",
    "temp_nodes"
   ]
  },
  {
   "cell_type": "code",
   "execution_count": null,
   "id": "056ba18e",
   "metadata": {
    "scrolled": true
   },
   "outputs": [],
   "source": [
    "# Slice the `nodes` GeoDataFrame to collect the location of the nodes based on their OSMID. \n",
    "access_nodes = nodes.loc[nodes.index.isin(temp_nodes.keys()), 'geometry']\n",
    "access_nodes"
   ]
  },
  {
   "cell_type": "code",
   "execution_count": null,
   "id": "09822266",
   "metadata": {},
   "outputs": [],
   "source": [
    "access_nodes.unary_union  # Union every nodes\n",
    "access_nodes.unary_union.convex_hull # Create convex hull from the unioned nodes"
   ]
  },
  {
   "cell_type": "code",
   "execution_count": null,
   "id": "4be56e4d",
   "metadata": {
    "scrolled": false
   },
   "outputs": [],
   "source": [
    "fig, ax = plt.subplots(figsize=(10, 10))\n",
    "\n",
    "tracts.plot('TotalPop', ax=ax, scheme='FisherJenks', cmap='Blues')\n",
    "\n",
    "access_nodes = gpd.GeoSeries(access_nodes.unary_union.convex_hull, crs=\"EPSG:4326\")\n",
    "access_nodes.boundary.plot(ax=ax, color='red', linewidth=4)\n",
    "\n",
    "supply_0 = supply.loc[supply.index==0]\n",
    "supply_0.plot(markersize='Total_Bed', ax=ax, color='black')"
   ]
  },
  {
   "cell_type": "code",
   "execution_count": null,
   "id": "438f779b",
   "metadata": {},
   "outputs": [],
   "source": [
    "# In summary, the following is the necessary code to create a catchment area from a given location. \n",
    "dist = 10000\n",
    "\n",
    "# 1. Calculate accessible nodes in the network dataset from a given location \n",
    "temp_nodes = nx.single_source_dijkstra_path_length(G, supply.loc[0, 'nearest_osm'], dist, weight='length')\n",
    "\n",
    "# 2. Extract the locations (or coordinates) of accessible nodes based on the OSMID.\n",
    "access_nodes = nodes.loc[nodes.index.isin(temp_nodes.keys()), 'geometry']\n",
    "\n",
    "# 3. Create a convex hull with the locations of the nodes.\n",
    "access_nodes = gpd.GeoSeries(access_nodes.unary_union.convex_hull, crs=\"EPSG:4326\")\n",
    "\n",
    "# Result. \n",
    "demand.loc[demand['geometry'].centroid.within(access_nodes[0])]"
   ]
  },
  {
   "cell_type": "markdown",
   "id": "a0d1b852",
   "metadata": {},
   "source": [
    "---\n",
    "### *Exercise*\n",
    "\n",
    "You may have understood the concept of 2SFCA method and how to calculate the catchment area. Here, we want to calculate the number of demand locations (i.e., census tract) accessible from each supply location (i.e., hospitals). This will be the preliminary supply-to-demand ratio of each hospital, assuming that there are **no weights** on the supply and demand. Then, return the result as `count` column of `supply_` GeoDataFrame (which is the copy of `supply` GeoDataFrame). <br>\n",
    "\n",
    "The result should look like the below. \n",
    "![](./data/fig2.jpg)\n",
    "\n",
    "\n",
    "```python\n",
    "supply_ = supply.copy(deep=True)\n",
    "supply_['count'] = 0\n",
    "\n",
    "for i in range(supply.shape[0]):\n",
    "    ### Your code here\n",
    "\n",
    "    \n",
    "\n",
    "    # Enter the number of demand location into the `count` column. \n",
    "    supply_.at[i, 'count'] = demand_count\n",
    "\n",
    "```\n",
    "Once we know the preliminary supply-to-demand ratio, we can incorporate the weigths of hospitals and census tracts, based on the bed count and population, respectively. \n",
    "\n",
    "---"
   ]
  },
  {
   "cell_type": "code",
   "execution_count": null,
   "id": "6590a455",
   "metadata": {
    "scrolled": true
   },
   "outputs": [],
   "source": [
    "# Your code here\n",
    "\n",
    "supply_ = supply.copy(deep=True)\n",
    "supply_['count'] = 0\n",
    "\n",
    "for i in range(supply.shape[0]):\n",
    "    ### Your code here\n",
    "\n",
    "    \n",
    "    \n",
    "    supply_.at[i, 'count'] = demand_count\n",
    "    \n",
    "supply_.head(5)"
   ]
  },
  {
   "cell_type": "code",
   "execution_count": null,
   "id": "e4ffb101",
   "metadata": {},
   "outputs": [],
   "source": [
    "\"\"\" Test code for the previous code. This cell should NOT give any errors when it is run.\"\"\"\n",
    "assert supply_.loc[6, 'count'] == 360\n",
    "assert supply_.loc[24, 'count'] == 280\n",
    "\n",
    "print('Success!')"
   ]
  },
  {
   "cell_type": "markdown",
   "id": "1235588c",
   "metadata": {},
   "source": [
    "## Measuring Accessibility to Hospitals in Chicago\n",
    "\n",
    "With the skeleton we just created in the previous cell, we now want to incorporate the weights of supply and demand based on the bed count and population, respectively.\n",
    "\n",
    "### Step1 of 2SFCA method: calculate the supply-to-demand ratio of each infrastructure (e.g., hospitals)\n",
    "\n",
    "$$\\large R_j = \\frac{S_j}{\\sum_{k\\in {\\left\\{d_{kj} \\le d_0 \\right\\}}}^{}P_k}$$\n",
    "where<br>\n",
    "$R_j$: the supply-to-demand ratio of location $j$. <br>\n",
    "$S_j$: the degree of supply (e.g., number of doctors) at location $j$. <br>\n",
    "$P_k$: the degree of demand (e.g., population) at location $k$. <br>\n",
    "$d_{kj}$: the travel cost between locations $k$ and $j$. <br>\n",
    "$d_0$: the threshold travel cost of the analysis. \n"
   ]
  },
  {
   "cell_type": "code",
   "execution_count": null,
   "id": "79a6558c",
   "metadata": {},
   "outputs": [],
   "source": [
    "supply_ = supply.copy(deep=True)\n",
    "supply_['ratio'] = 0\n",
    "\n",
    "for i in range(supply.shape[0]):\n",
    "    \n",
    "    # Create a catchment area from a given location\n",
    "    temp_nodes = nx.single_source_dijkstra_path_length(G, supply.loc[i, 'nearest_osm'], dist, weight='length')\n",
    "    access_nodes = nodes.loc[nodes.index.isin(temp_nodes.keys()), 'geometry']\n",
    "    access_nodes = gpd.GeoSeries(access_nodes.unary_union.convex_hull, crs=\"EPSG:4326\")\n",
    "    \n",
    "    # Calculate the population within the catchment area\n",
    "    temp_demand = demand.loc[demand['geometry'].centroid.within(access_nodes[0]), 'TotalPop'].sum()\n",
    "    \n",
    "    # Calculate the number of hospital beds in each hospital\n",
    "    temp_supply = supply.loc[i, 'Total_Bed']\n",
    "    \n",
    "    # Calculate the number of hospital beds available for 100,000 people \n",
    "    supply_.at[i, 'ratio'] = temp_supply / temp_demand * 100000\n",
    "    \n",
    "supply_.head(5)"
   ]
  },
  {
   "cell_type": "code",
   "execution_count": null,
   "id": "b5bb22de",
   "metadata": {},
   "outputs": [],
   "source": [
    "fig, axes = plt.subplots(1, 2, figsize=(15, 10))\n",
    "\n",
    "tracts.plot('TotalPop', ax=axes[0], scheme='FisherJenks', cmap='Blues')\n",
    "supply_.plot(markersize=supply_['ratio'] * 5, ax=axes[0], color='black')\n",
    "axes[0].set_title('Supply-to-demand ratio of each hospital')\n",
    "\n",
    "tracts.plot('TotalPop', ax=axes[1], scheme='FisherJenks', cmap='Blues')\n",
    "hospitals.plot(markersize='Total_Bed', ax=axes[1], color='black')\n",
    "axes[1].set_title('Staffed hospital beds of each hospital')\n",
    "\n",
    "plt.show()"
   ]
  },
  {
   "cell_type": "markdown",
   "id": "8c8cdbf0",
   "metadata": {},
   "source": [
    "### Step2 of 2SFCA method: sum the ratio from the locations of demand.\n",
    "\n",
    "$$\\large A_i = \\sum_{j\\in {\\left\\{d_{ij} \\le d_0 \\right\\}}} R_j$$\n",
    "where<br>\n",
    "$A_i$: the accessibility measures at location $i$. <br>\n",
    "$R_j$: the supply-to-demand ratio of location $j$. <br>\n",
    "$d_{kj}$: the travel cost between locations $k$ and $j$. <br>\n",
    "$d_0$: the threshold travel cost of the analysis. \n"
   ]
  },
  {
   "cell_type": "code",
   "execution_count": null,
   "id": "51d3d13a",
   "metadata": {},
   "outputs": [],
   "source": [
    "fig, ax = plt.subplots(figsize=(10, 10))\n",
    "\n",
    "tracts.plot('TotalPop', ax=ax, scheme='FisherJenks', cmap='Blues')\n",
    "tracts.loc[tracts.index==105].plot(ax=ax, color='red')\n",
    "\n",
    "# Plot catchment area\n",
    "temp_nodes = nx.single_source_dijkstra_path_length(G, demand.loc[105, 'nearest_osm'], dist, weight='length')\n",
    "access_nodes = nodes.loc[nodes.index.isin(temp_nodes.keys()), 'geometry']\n",
    "access_nodes = gpd.GeoSeries(access_nodes.unary_union.convex_hull, crs=\"EPSG:4326\")\n",
    "access_nodes.boundary.plot(ax=ax, color='red', linewidth=4)\n",
    "\n",
    "# Calculate accessible hospital from a census tract\n",
    "access_supply_ = supply_.loc[supply_['geometry'].centroid.within(access_nodes[0])]\n",
    "non_access_supply_ = supply_.loc[~supply_['geometry'].centroid.within(access_nodes[0])]\n",
    "\n",
    "access_supply_.plot(ax=ax, markersize=access_supply_['ratio']*5, color='red')\n",
    "non_access_supply_.plot(ax=ax, markersize=non_access_supply_['ratio']*5, color='grey')"
   ]
  },
  {
   "cell_type": "code",
   "execution_count": null,
   "id": "36aa12d5",
   "metadata": {
    "scrolled": true
   },
   "outputs": [],
   "source": [
    "demand_ = demand.copy(deep=True)\n",
    "demand_['access'] = 0\n",
    "\n",
    "for j in trange(demand.shape[0]):\n",
    "    temp_nodes = nx.single_source_dijkstra_path_length(G, demand.loc[j, 'nearest_osm'], dist, weight='length')\n",
    "    access_nodes = nodes.loc[nodes.index.isin(temp_nodes.keys()), 'geometry']\n",
    "    access_nodes = gpd.GeoSeries(access_nodes.unary_union.convex_hull, crs=\"EPSG:4326\")\n",
    "    \n",
    "    accum_ratio = supply_.loc[supply_['geometry'].within(access_nodes[0]), 'ratio'].sum()\n",
    "    demand_.at[j, 'access'] = accum_ratio\n",
    "    \n",
    "demand_"
   ]
  },
  {
   "cell_type": "code",
   "execution_count": null,
   "id": "a928c104",
   "metadata": {},
   "outputs": [],
   "source": [
    "# Plotting accessibility measurement result. \n",
    "fig, ax = plt.subplots(figsize=(10,10))\n",
    "\n",
    "demand_.plot('access', ax=ax, figsize=(10,10), legend=True, cmap='Blues', scheme='FisherJenks')\n",
    "demand_.boundary.plot(ax=ax, linestyle='dotted', lw=0.5, color='black', zorder=1)"
   ]
  },
  {
   "cell_type": "markdown",
   "id": "f2d52f42",
   "metadata": {},
   "source": [
    "---\n",
    "### *Exercise*\n",
    "It may be tedious if we need to write the two-step floating catchment area every single time when the study area or data is changed. Therefore, we want to make those two steps into two functions so that we can increase the replicability and reproducibility of the study. <br><br>\n",
    "The following code was copied and pasted from the previous cells and describes the necessary procedures. Here, you need to change the name of the variable according to the inputs of each function. \n",
    "\n",
    "```python\n",
    "def step1_2SFCA(supply, supply_attr, demand, demand_attr, mobility, threshold):\n",
    "    \"\"\"\n",
    "    Input: \n",
    "    - supply (GeoDataFrame): stores locations and attributes of supply \n",
    "    - supply_attr (str): the column of `supply` to be used for the analysis\n",
    "    - demand (GeoDataFrame): stores locations and attributes of demand \n",
    "    - demand_attr (str): the column of `demand` to be used for the analysis\n",
    "    - mobility (NetworkX MultiDiGraph): Network Dataset obtained from OSMnx\n",
    "    - threshold (int): threshold travel distance\n",
    "    \n",
    "    Output:\n",
    "    - supply_ (GeoDataFrame): \n",
    "      a copy of supply and it stores supply-to-demand ratio of each supply at `ratio` column\n",
    "    \"\"\"\n",
    "    \n",
    "    # Your code here (Change the name of the variable according to the inputs)\n",
    "    supply_ = supply.copy(deep=True)\n",
    "    supply_['ratio'] = 0\n",
    "\n",
    "    for i in range(supply.shape[0]):\n",
    "\n",
    "        # Create a catchment area from a given location\n",
    "        temp_nodes = nx.single_source_dijkstra_path_length(G, supply.loc[i, 'nearest_osm'], dist, weight='length')\n",
    "        access_nodes = nodes.loc[nodes.index.isin(temp_nodes.keys()), 'geometry']\n",
    "        access_nodes = gpd.GeoSeries(access_nodes.unary_union.convex_hull, crs=\"EPSG:4326\")\n",
    "\n",
    "        # Calculate the population within the catchment area\n",
    "        temp_demand = demand.loc[demand['geometry'].centroid.within(access_nodes[0]), 'TotalPop'].sum()\n",
    "\n",
    "        # Calculate the number of hospital beds in each hospital\n",
    "        temp_supply = supply.loc[i, 'Total_Bed']\n",
    "\n",
    "        # Calculate the number of hospital beds available for 100,000 people \n",
    "        supply_.at[i, 'ratio'] = temp_supply / temp_demand * 100000\n",
    "\n",
    "    \n",
    "    return supply_\n",
    "\n",
    "\n",
    "def step2_2SFCA(result_step1, demand, mobility, threshold):\n",
    "    \"\"\"\n",
    "    Input: \n",
    "    - result_step1 (GeoDataFrame): stores locations and 'ratio' attribute that resulted in step1 \n",
    "    - demand (GeoDataFrame): stores locations and attributes of demand \n",
    "    - mobility (NetworkX MultiDiGraph): Network Dataset obtained from OSMnx\n",
    "    - threshold (int): threshold travel distance\n",
    "    \n",
    "    Output:\n",
    "    - demand_ (GeoDataFrame): \n",
    "      a copy of demand and it stores the final accessibility measures of each demand location at `ratio` column\n",
    "    \"\"\"\n",
    "    \n",
    "    # Your code here (Change the name of the variable according to the inputs)\n",
    "    demand_ = demand.copy(deep=True)\n",
    "    demand_['access'] = 0\n",
    "\n",
    "    for j in trange(demand.shape[0]):\n",
    "        temp_nodes = nx.single_source_dijkstra_path_length(G, demand.loc[j, 'nearest_osm'], dist, weight='length')\n",
    "        access_nodes = nodes.loc[nodes.index.isin(temp_nodes.keys()), 'geometry']\n",
    "        access_nodes = gpd.GeoSeries(access_nodes.unary_union.convex_hull, crs=\"EPSG:4326\")\n",
    "\n",
    "        accum_ratio = supply_.loc[supply_['geometry'].within(access_nodes[0]), 'ratio'].sum()\n",
    "        demand_.at[j, 'access'] = accum_ratio\n",
    "\n",
    "    return demand_\n",
    "```\n",
    "\n",
    "---"
   ]
  },
  {
   "cell_type": "code",
   "execution_count": null,
   "id": "047bdc90",
   "metadata": {},
   "outputs": [],
   "source": [
    "def step1_2SFCA(supply, supply_attr, demand, demand_attr, mobility, threshold):\n",
    "    \"\"\"\n",
    "    Input: \n",
    "    - supply (GeoDataFrame): stores locations and attributes of supply \n",
    "    - supply_attr (str): the column of `supply` to be used for the analysis\n",
    "    - demand (GeoDataFrame): stores locations and attributes of demand \n",
    "    - demand_attr (str): the column of `demand` to be used for the analysis\n",
    "    - mobility (NetworkX MultiDiGraph): Network Dataset obtained from OSMnx\n",
    "    - threshold (int): threshold travel distance\n",
    "    \n",
    "    Output:\n",
    "    - supply_ (GeoDataFrame): \n",
    "      a copy of supply and it stores supply-to-demand ratio of each supply at `ratio` column\n",
    "    \"\"\"\n",
    "    \n",
    "    # Your code here (Change the name of the variable according to the inputs)\n",
    "    supply_ = supply.copy(deep=True)\n",
    "    supply_['ratio'] = 0\n",
    "\n",
    "    for i in range(supply.shape[0]):\n",
    "\n",
    "        # Create a catchment area from a given location\n",
    "        temp_nodes = nx.single_source_dijkstra_path_length(G, supply.loc[i, 'nearest_osm'], dist, weight='length')\n",
    "        access_nodes = nodes.loc[nodes.index.isin(temp_nodes.keys()), 'geometry']\n",
    "        access_nodes = gpd.GeoSeries(access_nodes.unary_union.convex_hull, crs=\"EPSG:4326\")\n",
    "\n",
    "        # Calculate the population within the catchment area\n",
    "        temp_demand = demand.loc[demand['geometry'].centroid.within(access_nodes[0]), 'TotalPop'].sum()\n",
    "\n",
    "        # Calculate the number of hospital beds in each hospital\n",
    "        temp_supply = supply.loc[i, 'Total_Bed']\n",
    "\n",
    "        # Calculate the number of hospital beds available for 100,000 people \n",
    "        supply_.at[i, 'ratio'] = temp_supply / temp_demand * 100000\n",
    "\n",
    "    \n",
    "    return supply_\n",
    "\n",
    "\n",
    "def step2_2SFCA(result_step1, demand, mobility, threshold):\n",
    "    \"\"\"\n",
    "    Input: \n",
    "    - result_step1 (GeoDataFrame): stores locations and 'ratio' attribute that resulted in step1 \n",
    "    - demand (GeoDataFrame): stores locations and attributes of demand \n",
    "    - mobility (NetworkX MultiDiGraph): Network Dataset obtained from OSMnx\n",
    "    - threshold (int): threshold travel distance\n",
    "    \n",
    "    Output:\n",
    "    - demand_ (GeoDataFrame): \n",
    "      a copy of demand and it stores the final accessibility measures of each demand location at `ratio` column\n",
    "    \"\"\"\n",
    "    \n",
    "    # Your code here (Change the name of the variable according to the inputs)\n",
    "    demand_ = demand.copy(deep=True)\n",
    "    demand_['access'] = 0\n",
    "\n",
    "    for j in trange(demand.shape[0]):\n",
    "        temp_nodes = nx.single_source_dijkstra_path_length(G, demand.loc[j, 'nearest_osm'], dist, weight='length')\n",
    "        access_nodes = nodes.loc[nodes.index.isin(temp_nodes.keys()), 'geometry']\n",
    "        access_nodes = gpd.GeoSeries(access_nodes.unary_union.convex_hull, crs=\"EPSG:4326\")\n",
    "\n",
    "        accum_ratio = supply_.loc[supply_['geometry'].within(access_nodes[0]), 'ratio'].sum()\n",
    "        demand_.at[j, 'access'] = accum_ratio\n",
    "\n",
    "    return demand_"
   ]
  },
  {
   "cell_type": "code",
   "execution_count": null,
   "id": "4ad1bdd6",
   "metadata": {},
   "outputs": [],
   "source": [
    "# Check your answer here\n",
    "# This will create a map with the accessibility measures with 5000-meter threshold. \n",
    "dist = 5000\n",
    "\n",
    "step1 = step1_2SFCA(supply, 'Total_Bed', demand, 'TotalPop', G, dist)\n",
    "step2 = step2_2SFCA(step1, demand, G, dist)\n",
    "\n",
    "# Plotting accessibility measurement result. \n",
    "fig, ax = plt.subplots(figsize=(10,10))\n",
    "\n",
    "step2.plot('access', ax=ax, figsize=(10,10), legend=True, cmap='Blues', scheme='FisherJenks')\n",
    "step2.boundary.plot(ax=ax, linestyle='dotted', lw=0.5, color='black', zorder=1)"
   ]
  },
  {
   "cell_type": "markdown",
   "id": "7af179db",
   "metadata": {},
   "source": [
    "## Comparison with Social Vulnerability Index (SVI)\n",
    "\n",
    "Social vulnerability refers to the potential negative effects on communities caused by external stresses on human health. Such stresses include natural or human-caused disasters, or disease outbreaks. Reducing social vulnerability can decrease both human suffering and economic loss. <br>\n",
    "The CDC/ATSDR Social Vulnerability Index (CDC/ATSDR SVI) uses 15 U.S. census variables to help local officials identify communities that may need support before, during, or after disasters.\n",
    "\n",
    "Social Velnerabiltiy Index provides the following data. Percentile ranking values range **from 0 to 1, with higher values indicating greater vulnerability**.\n",
    "- RPL_THEME1: Socioeconomic Status\n",
    "- RPL_THEME2: Household Composition & Disability\n",
    "- RPL_THEME3: Minority Status & Language\n",
    "- RPL_THEME4: Housing Type & Transportation\n",
    "\n",
    "![](./data/fig3.jpg)\n",
    "\n",
    "\n",
    "Source: https://www.atsdr.cdc.gov/placeandhealth/svi/index.html"
   ]
  },
  {
   "cell_type": "code",
   "execution_count": null,
   "id": "34aa895b",
   "metadata": {
    "scrolled": true
   },
   "outputs": [],
   "source": [
    "svi = gpd.read_file('./data/SVI2018_ILLINOIS_tract.shp')\n",
    "svi = svi[['FIPS','RPL_THEME1', 'RPL_THEME2', 'RPL_THEME3', 'RPL_THEME4', 'RPL_THEMES', 'geometry']]\n",
    "svi = svi.to_crs(epsg=4326)\n",
    "svi = svi.loc[svi['FIPS'].isin(tracts['GEOID'].tolist())]\n",
    "svi = svi.replace(-999, 0)\n",
    "svi = svi.reset_index(drop=True)\n",
    "svi.head()"
   ]
  },
  {
   "cell_type": "code",
   "execution_count": null,
   "id": "6df7b3c8",
   "metadata": {},
   "outputs": [],
   "source": [
    "fig, axes = plt.subplots(1, 4, figsize=(18, 10))\n",
    "\n",
    "for idx, ax in enumerate(axes):\n",
    "    svi.plot(f'RPL_THEME{idx+1}', ax=ax, cmap='Reds', scheme='FisherJenks', legend=True)\n",
    "    ax.get_xaxis().set_visible(False)  # Remove ticks and labels\n",
    "    ax.get_yaxis().set_visible(False)  # Remove ticks and labels\n",
    "    ax.set_title(f'RPL_THEME{idx+1}')"
   ]
  },
  {
   "cell_type": "code",
   "execution_count": null,
   "id": "12fa3b8a",
   "metadata": {},
   "outputs": [],
   "source": [
    "# Perason's relation between accessibility and SVI\n",
    "fig, axes = plt.subplots(2, 2, figsize=(15, 10))\n",
    "\n",
    "ax = axes.reshape(-1)\n",
    "for idx in range(0, 4, 1):\n",
    "    \n",
    "    ax[idx].scatter(step2['access'], svi[f'RPL_THEME{idx+1}'])\n",
    "    ax[idx].set_title(f'RPL_THEME{idx+1}')\n",
    "#     print(idx+1, pearsonr(step2['access'], svi[f'RPL_THEME{idx+1}']))"
   ]
  }
 ],
 "metadata": {
  "kernelspec": {
   "display_name": "Python 3 (ipykernel)",
   "language": "python",
   "name": "python3"
  },
  "language_info": {
   "codemirror_mode": {
    "name": "ipython",
    "version": 3
   },
   "file_extension": ".py",
   "mimetype": "text/x-python",
   "name": "python",
   "nbconvert_exporter": "python",
   "pygments_lexer": "ipython3",
   "version": "3.8.13"
  }
 },
 "nbformat": 4,
 "nbformat_minor": 5
}
